{
  "cells": [
    {
      "cell_type": "code",
      "execution_count": 1,
      "metadata": {
        "colab": {
          "base_uri": "https://localhost:8080/"
        },
        "id": "_S7CaJzlJ9Iu",
        "outputId": "f63bc95b-907b-4782-b55a-d2975b1c5170"
      },
      "outputs": [
        {
          "output_type": "stream",
          "name": "stderr",
          "text": [
            "[nltk_data] Downloading package punkt to /root/nltk_data...\n",
            "[nltk_data]   Unzipping tokenizers/punkt.zip.\n",
            "[nltk_data] Downloading package stopwords to /root/nltk_data...\n",
            "[nltk_data]   Unzipping corpora/stopwords.zip.\n",
            "[nltk_data] Downloading package wordnet to /root/nltk_data...\n",
            "[nltk_data] Downloading package omw-1.4 to /root/nltk_data...\n",
            "[nltk_data] Downloading package punkt_tab to /root/nltk_data...\n",
            "[nltk_data]   Unzipping tokenizers/punkt_tab.zip.\n"
          ]
        },
        {
          "output_type": "execute_result",
          "data": {
            "text/plain": [
              "True"
            ]
          },
          "metadata": {},
          "execution_count": 1
        }
      ],
      "source": [
        "import os\n",
        "import re\n",
        "import string\n",
        "import numpy as np\n",
        "import requests\n",
        "import tarfile\n",
        "import pandas as pd\n",
        "import matplotlib.pyplot as plt\n",
        "import seaborn as sns\n",
        "import plotly.express as px\n",
        "import plotly.graph_objects as go\n",
        "from plotly.subplots import make_subplots\n",
        "from collections import Counter\n",
        "from io import BytesIO\n",
        "import requests\n",
        "import nltk\n",
        "from tensorflow.keras.models import Sequential\n",
        "from tensorflow.keras.layers import Embedding, Conv1D, GlobalMaxPooling1D, Dropout, Dense\n",
        "from tensorflow.keras.regularizers import l2\n",
        "from nltk.tokenize import word_tokenize\n",
        "from nltk.corpus import stopwords, wordnet\n",
        "from nltk.stem import WordNetLemmatizer, PorterStemmer\n",
        "nltk.download('punkt')\n",
        "nltk.download('stopwords')\n",
        "nltk.download('wordnet')\n",
        "nltk.download('omw-1.4')\n",
        "from sklearn.model_selection import train_test_split, GridSearchCV\n",
        "from sklearn.preprocessing import LabelEncoder, OneHotEncoder, StandardScaler, MinMaxScaler, RobustScaler, MaxAbsScaler, QuantileTransformer, PowerTransformer\n",
        "from sklearn.metrics import accuracy_score, precision_score, recall_score, f1_score, confusion_matrix, classification_report, roc_curve, roc_auc_score, ConfusionMatrixDisplay\n",
        "from sklearn.feature_extraction.text import CountVectorizer, TfidfVectorizer, TfidfTransformer\n",
        "from sklearn.feature_selection import SelectKBest, chi2\n",
        "from sklearn.naive_bayes import MultinomialNB\n",
        "from sklearn.linear_model import LogisticRegression\n",
        "from sklearn.svm import SVC, LinearSVC\n",
        "from sklearn.neighbors import KNeighborsClassifier\n",
        "from sklearn.tree import DecisionTreeClassifier\n",
        "from sklearn.ensemble import (\n",
        "    RandomForestClassifier, ExtraTreesClassifier, GradientBoostingClassifier,\n",
        "    BaggingClassifier, AdaBoostClassifier, VotingClassifier\n",
        ")\n",
        "from imblearn.over_sampling import SMOTE, SVMSMOTE, RandomOverSampler\n",
        "from imblearn.combine import SMOTEENN, SMOTETomek\n",
        "from imblearn.under_sampling import InstanceHardnessThreshold\n",
        "import missingno as ms\n",
        "import tensorflow as tf\n",
        "from tensorflow.keras.models import Sequential\n",
        "from tensorflow.keras.layers import (\n",
        "    Embedding, Conv1D, GlobalMaxPooling1D, Dropout, Dense, GRU, BatchNormalization\n",
        ")\n",
        "from tensorflow.keras.preprocessing.text import Tokenizer\n",
        "from tensorflow.keras.preprocessing.sequence import pad_sequences\n",
        "from keras.regularizers import l2\n",
        "from keras.callbacks import EarlyStopping\n",
        "from wordcloud import WordCloud\n",
        "from sklearn.pipeline import Pipeline\n",
        "import nltk\n",
        "nltk.download('punkt_tab')"
      ]
    },
    {
      "cell_type": "markdown",
      "metadata": {
        "id": "25V7yI6jnC3z"
      },
      "source": [
        "### 🌐 Data Collection From URL and Convert to CSV File\n",
        "\n",
        "This process involves fetching data from a specified URL and saving it into a structured CSV format for further analysis.\n"
      ]
    },
    {
      "cell_type": "code",
      "execution_count": 2,
      "metadata": {
        "colab": {
          "base_uri": "https://localhost:8080/"
        },
        "id": "rBvbebjTdcdq",
        "outputId": "1b2ff786-263c-42e0-f528-b743121cc104"
      },
      "outputs": [
        {
          "output_type": "stream",
          "name": "stdout",
          "text": [
            "Downloading dataset...\n",
            "Extracting dataset...\n",
            "Creating CSV file...\n",
            "Dataset saved to data_set.csv\n",
            "Cleaned up temporary files\n"
          ]
        }
      ],
      "source": [
        "url = \"http://www.cs.cornell.edu/people/pabo/movie-review-data/review_polarity.tar.gz\"\n",
        "output_csv = \"data_set.csv\"\n",
        "print(\"Downloading dataset...\")\n",
        "response = requests.get(url)\n",
        "if response.status_code != 200:\n",
        "    raise Exception(\"Failed to download the dataset\")\n",
        "print(\"Extracting dataset...\")\n",
        "tar = tarfile.open(fileobj=BytesIO(response.content), mode=\"r:gz\")\n",
        "tar.extractall(path=\"movie_reviews\")\n",
        "tar.close()\n",
        "reviews = []\n",
        "labels = []\n",
        "base_dir = \"movie_reviews/txt_sentoken\"\n",
        "pos_dir = os.path.join(base_dir, \"pos\")\n",
        "for filename in os.listdir(pos_dir):\n",
        "    if filename.endswith(\".txt\"):\n",
        "        with open(os.path.join(pos_dir, filename), \"r\", encoding=\"utf-8\") as file:\n",
        "            review = file.read().strip()\n",
        "            reviews.append(review)\n",
        "            labels.append(1)\n",
        "neg_dir = os.path.join(base_dir, \"neg\")\n",
        "for filename in os.listdir(neg_dir):\n",
        "    if filename.endswith(\".txt\"):\n",
        "        with open(os.path.join(neg_dir, filename), \"r\", encoding=\"utf-8\") as file:\n",
        "            review = file.read().strip()\n",
        "            reviews.append(review)\n",
        "            labels.append(0)\n",
        "print(\"Creating CSV file...\")\n",
        "data = {\"review\": reviews, \"sentiment\": labels}\n",
        "df = pd.DataFrame(data)\n",
        "df.to_csv(output_csv, index=False, encoding=\"utf-8\")\n",
        "print(f\"Dataset saved to {output_csv}\")\n",
        "import shutil\n",
        "shutil.rmtree(\"movie_reviews\")\n",
        "print(\"Cleaned up temporary files\")"
      ]
    },
    {
      "cell_type": "code",
      "execution_count": 3,
      "metadata": {
        "id": "imgq__0cKDMD"
      },
      "outputs": [],
      "source": [
        "pd.options.mode.chained_assignment = None"
      ]
    },
    {
      "cell_type": "code",
      "execution_count": 4,
      "metadata": {
        "colab": {
          "base_uri": "https://localhost:8080/",
          "height": 206
        },
        "id": "9ob4w1lTKMiV",
        "outputId": "21ed3bc9-06ea-4530-a05a-89aa5ec8d71d"
      },
      "outputs": [
        {
          "output_type": "execute_result",
          "data": {
            "text/plain": [
              "                                              review  sentiment\n",
              "0  john carpenter directed this stylish and gory ...          1\n",
              "1  so many students strive to get into schools su...          1\n",
              "2  ralph fiennes is carving out a nice niche for ...          1\n",
              "3  not since oliver stone's natural born killers ...          1\n",
              "4  it is simply amazing how \" the green mile \" de...          1"
            ],
            "text/html": [
              "\n",
              "  <div id=\"df-8f2b7f8b-b2aa-4baa-a396-99b5df7172e1\" class=\"colab-df-container\">\n",
              "    <div>\n",
              "<style scoped>\n",
              "    .dataframe tbody tr th:only-of-type {\n",
              "        vertical-align: middle;\n",
              "    }\n",
              "\n",
              "    .dataframe tbody tr th {\n",
              "        vertical-align: top;\n",
              "    }\n",
              "\n",
              "    .dataframe thead th {\n",
              "        text-align: right;\n",
              "    }\n",
              "</style>\n",
              "<table border=\"1\" class=\"dataframe\">\n",
              "  <thead>\n",
              "    <tr style=\"text-align: right;\">\n",
              "      <th></th>\n",
              "      <th>review</th>\n",
              "      <th>sentiment</th>\n",
              "    </tr>\n",
              "  </thead>\n",
              "  <tbody>\n",
              "    <tr>\n",
              "      <th>0</th>\n",
              "      <td>john carpenter directed this stylish and gory ...</td>\n",
              "      <td>1</td>\n",
              "    </tr>\n",
              "    <tr>\n",
              "      <th>1</th>\n",
              "      <td>so many students strive to get into schools su...</td>\n",
              "      <td>1</td>\n",
              "    </tr>\n",
              "    <tr>\n",
              "      <th>2</th>\n",
              "      <td>ralph fiennes is carving out a nice niche for ...</td>\n",
              "      <td>1</td>\n",
              "    </tr>\n",
              "    <tr>\n",
              "      <th>3</th>\n",
              "      <td>not since oliver stone's natural born killers ...</td>\n",
              "      <td>1</td>\n",
              "    </tr>\n",
              "    <tr>\n",
              "      <th>4</th>\n",
              "      <td>it is simply amazing how \" the green mile \" de...</td>\n",
              "      <td>1</td>\n",
              "    </tr>\n",
              "  </tbody>\n",
              "</table>\n",
              "</div>\n",
              "    <div class=\"colab-df-buttons\">\n",
              "\n",
              "  <div class=\"colab-df-container\">\n",
              "    <button class=\"colab-df-convert\" onclick=\"convertToInteractive('df-8f2b7f8b-b2aa-4baa-a396-99b5df7172e1')\"\n",
              "            title=\"Convert this dataframe to an interactive table.\"\n",
              "            style=\"display:none;\">\n",
              "\n",
              "  <svg xmlns=\"http://www.w3.org/2000/svg\" height=\"24px\" viewBox=\"0 -960 960 960\">\n",
              "    <path d=\"M120-120v-720h720v720H120Zm60-500h600v-160H180v160Zm220 220h160v-160H400v160Zm0 220h160v-160H400v160ZM180-400h160v-160H180v160Zm440 0h160v-160H620v160ZM180-180h160v-160H180v160Zm440 0h160v-160H620v160Z\"/>\n",
              "  </svg>\n",
              "    </button>\n",
              "\n",
              "  <style>\n",
              "    .colab-df-container {\n",
              "      display:flex;\n",
              "      gap: 12px;\n",
              "    }\n",
              "\n",
              "    .colab-df-convert {\n",
              "      background-color: #E8F0FE;\n",
              "      border: none;\n",
              "      border-radius: 50%;\n",
              "      cursor: pointer;\n",
              "      display: none;\n",
              "      fill: #1967D2;\n",
              "      height: 32px;\n",
              "      padding: 0 0 0 0;\n",
              "      width: 32px;\n",
              "    }\n",
              "\n",
              "    .colab-df-convert:hover {\n",
              "      background-color: #E2EBFA;\n",
              "      box-shadow: 0px 1px 2px rgba(60, 64, 67, 0.3), 0px 1px 3px 1px rgba(60, 64, 67, 0.15);\n",
              "      fill: #174EA6;\n",
              "    }\n",
              "\n",
              "    .colab-df-buttons div {\n",
              "      margin-bottom: 4px;\n",
              "    }\n",
              "\n",
              "    [theme=dark] .colab-df-convert {\n",
              "      background-color: #3B4455;\n",
              "      fill: #D2E3FC;\n",
              "    }\n",
              "\n",
              "    [theme=dark] .colab-df-convert:hover {\n",
              "      background-color: #434B5C;\n",
              "      box-shadow: 0px 1px 3px 1px rgba(0, 0, 0, 0.15);\n",
              "      filter: drop-shadow(0px 1px 2px rgba(0, 0, 0, 0.3));\n",
              "      fill: #FFFFFF;\n",
              "    }\n",
              "  </style>\n",
              "\n",
              "    <script>\n",
              "      const buttonEl =\n",
              "        document.querySelector('#df-8f2b7f8b-b2aa-4baa-a396-99b5df7172e1 button.colab-df-convert');\n",
              "      buttonEl.style.display =\n",
              "        google.colab.kernel.accessAllowed ? 'block' : 'none';\n",
              "\n",
              "      async function convertToInteractive(key) {\n",
              "        const element = document.querySelector('#df-8f2b7f8b-b2aa-4baa-a396-99b5df7172e1');\n",
              "        const dataTable =\n",
              "          await google.colab.kernel.invokeFunction('convertToInteractive',\n",
              "                                                    [key], {});\n",
              "        if (!dataTable) return;\n",
              "\n",
              "        const docLinkHtml = 'Like what you see? Visit the ' +\n",
              "          '<a target=\"_blank\" href=https://colab.research.google.com/notebooks/data_table.ipynb>data table notebook</a>'\n",
              "          + ' to learn more about interactive tables.';\n",
              "        element.innerHTML = '';\n",
              "        dataTable['output_type'] = 'display_data';\n",
              "        await google.colab.output.renderOutput(dataTable, element);\n",
              "        const docLink = document.createElement('div');\n",
              "        docLink.innerHTML = docLinkHtml;\n",
              "        element.appendChild(docLink);\n",
              "      }\n",
              "    </script>\n",
              "  </div>\n",
              "\n",
              "\n",
              "    <div id=\"df-30b9f312-dd7c-4257-b583-9baab62c561e\">\n",
              "      <button class=\"colab-df-quickchart\" onclick=\"quickchart('df-30b9f312-dd7c-4257-b583-9baab62c561e')\"\n",
              "                title=\"Suggest charts\"\n",
              "                style=\"display:none;\">\n",
              "\n",
              "<svg xmlns=\"http://www.w3.org/2000/svg\" height=\"24px\"viewBox=\"0 0 24 24\"\n",
              "     width=\"24px\">\n",
              "    <g>\n",
              "        <path d=\"M19 3H5c-1.1 0-2 .9-2 2v14c0 1.1.9 2 2 2h14c1.1 0 2-.9 2-2V5c0-1.1-.9-2-2-2zM9 17H7v-7h2v7zm4 0h-2V7h2v10zm4 0h-2v-4h2v4z\"/>\n",
              "    </g>\n",
              "</svg>\n",
              "      </button>\n",
              "\n",
              "<style>\n",
              "  .colab-df-quickchart {\n",
              "      --bg-color: #E8F0FE;\n",
              "      --fill-color: #1967D2;\n",
              "      --hover-bg-color: #E2EBFA;\n",
              "      --hover-fill-color: #174EA6;\n",
              "      --disabled-fill-color: #AAA;\n",
              "      --disabled-bg-color: #DDD;\n",
              "  }\n",
              "\n",
              "  [theme=dark] .colab-df-quickchart {\n",
              "      --bg-color: #3B4455;\n",
              "      --fill-color: #D2E3FC;\n",
              "      --hover-bg-color: #434B5C;\n",
              "      --hover-fill-color: #FFFFFF;\n",
              "      --disabled-bg-color: #3B4455;\n",
              "      --disabled-fill-color: #666;\n",
              "  }\n",
              "\n",
              "  .colab-df-quickchart {\n",
              "    background-color: var(--bg-color);\n",
              "    border: none;\n",
              "    border-radius: 50%;\n",
              "    cursor: pointer;\n",
              "    display: none;\n",
              "    fill: var(--fill-color);\n",
              "    height: 32px;\n",
              "    padding: 0;\n",
              "    width: 32px;\n",
              "  }\n",
              "\n",
              "  .colab-df-quickchart:hover {\n",
              "    background-color: var(--hover-bg-color);\n",
              "    box-shadow: 0 1px 2px rgba(60, 64, 67, 0.3), 0 1px 3px 1px rgba(60, 64, 67, 0.15);\n",
              "    fill: var(--button-hover-fill-color);\n",
              "  }\n",
              "\n",
              "  .colab-df-quickchart-complete:disabled,\n",
              "  .colab-df-quickchart-complete:disabled:hover {\n",
              "    background-color: var(--disabled-bg-color);\n",
              "    fill: var(--disabled-fill-color);\n",
              "    box-shadow: none;\n",
              "  }\n",
              "\n",
              "  .colab-df-spinner {\n",
              "    border: 2px solid var(--fill-color);\n",
              "    border-color: transparent;\n",
              "    border-bottom-color: var(--fill-color);\n",
              "    animation:\n",
              "      spin 1s steps(1) infinite;\n",
              "  }\n",
              "\n",
              "  @keyframes spin {\n",
              "    0% {\n",
              "      border-color: transparent;\n",
              "      border-bottom-color: var(--fill-color);\n",
              "      border-left-color: var(--fill-color);\n",
              "    }\n",
              "    20% {\n",
              "      border-color: transparent;\n",
              "      border-left-color: var(--fill-color);\n",
              "      border-top-color: var(--fill-color);\n",
              "    }\n",
              "    30% {\n",
              "      border-color: transparent;\n",
              "      border-left-color: var(--fill-color);\n",
              "      border-top-color: var(--fill-color);\n",
              "      border-right-color: var(--fill-color);\n",
              "    }\n",
              "    40% {\n",
              "      border-color: transparent;\n",
              "      border-right-color: var(--fill-color);\n",
              "      border-top-color: var(--fill-color);\n",
              "    }\n",
              "    60% {\n",
              "      border-color: transparent;\n",
              "      border-right-color: var(--fill-color);\n",
              "    }\n",
              "    80% {\n",
              "      border-color: transparent;\n",
              "      border-right-color: var(--fill-color);\n",
              "      border-bottom-color: var(--fill-color);\n",
              "    }\n",
              "    90% {\n",
              "      border-color: transparent;\n",
              "      border-bottom-color: var(--fill-color);\n",
              "    }\n",
              "  }\n",
              "</style>\n",
              "\n",
              "      <script>\n",
              "        async function quickchart(key) {\n",
              "          const quickchartButtonEl =\n",
              "            document.querySelector('#' + key + ' button');\n",
              "          quickchartButtonEl.disabled = true;  // To prevent multiple clicks.\n",
              "          quickchartButtonEl.classList.add('colab-df-spinner');\n",
              "          try {\n",
              "            const charts = await google.colab.kernel.invokeFunction(\n",
              "                'suggestCharts', [key], {});\n",
              "          } catch (error) {\n",
              "            console.error('Error during call to suggestCharts:', error);\n",
              "          }\n",
              "          quickchartButtonEl.classList.remove('colab-df-spinner');\n",
              "          quickchartButtonEl.classList.add('colab-df-quickchart-complete');\n",
              "        }\n",
              "        (() => {\n",
              "          let quickchartButtonEl =\n",
              "            document.querySelector('#df-30b9f312-dd7c-4257-b583-9baab62c561e button');\n",
              "          quickchartButtonEl.style.display =\n",
              "            google.colab.kernel.accessAllowed ? 'block' : 'none';\n",
              "        })();\n",
              "      </script>\n",
              "    </div>\n",
              "\n",
              "    </div>\n",
              "  </div>\n"
            ],
            "application/vnd.google.colaboratory.intrinsic+json": {
              "type": "dataframe",
              "variable_name": "dataf",
              "summary": "{\n  \"name\": \"dataf\",\n  \"rows\": 2000,\n  \"fields\": [\n    {\n      \"column\": \"review\",\n      \"properties\": {\n        \"dtype\": \"string\",\n        \"num_unique_values\": 2000,\n        \"samples\": [\n          \"an american werewolf in paris is a failed attempt to recapture the humor and horror of john landis' 1981 feature , an american werewolf in london . \\nwhere the original had comedy , the sequel has the kind of revolting silliness that can be found in tv sit-coms . \\nwhere the first installment had chills , this one has sequences that are inappropriately , unintentionally funny . \\nin short , while an american werewolf in london has become something of a minor classic in its genre , the woeful an american werewolf in paris seems destined for late nights on cinemax ( it even has the necessary gratuitous nudity ) . \\nthe film opens with a trio of daredevil americans -- andy ( tom everett scott ) , brad ( vince vieluf ) , and chris ( phil buckman ) -- sneaking up to the top of the eiffel tower to drink wine and do a little bungee jumping . \\nsoon they have company in the person of serafine ( julie delpy ) , who has decided to end it all . \\nshe jumps , but andy , with a bungee cord attached , goes after her , and manages to save her ( at the price of a major headache ) . \\nserafine disappears , but a smitten andy seeks her out . \\nhowever , once he learns his would-be girlfriend's dark secret , he wishes he hadn't . \\nshe's a werewolf , cursed to change into a hideous beast when the moon is full , and , to make matters worse , he has suffered a nasty bite himself . \\nactress julie delpy is far too good for this movie . \\nshe imbues serafine with spirit , spunk , and humanity , which gives us an emotional stake in the character's fate . \\nthis isn't necessarily a good thing , since it prevents us from relaxing and enjoying an american werewolf in paris as a completely mindless , campy entertainment experience . \\ndelpy's injection of class into an otherwise classless production raises the specter of what this film could have been with a better script and a better cast surrounding her . \\ndelpy's previous credits include such memorable ventures as krzysztof kieslowski's white and richard linklater's before sunrise . \\nshe was radiant , charismatic , and effective in both . \\ngiven the nature and level of the material she has to work with here , she gets as close as possible to those adjectives . \\nit could be argued that delpy is the only reason to see an american werewolf in paris , but even her most devoted fans should consider giving this one a miss . \\nand if your primary objective is catching a glimpse of her in the buff , check out either killing zoe or the passion of beatrice -- those movies have intelligible plots in addition to breasts . \\nthe rest of the cast acts at a level considerably below that of delpy -- which is to say , they give performances appropriate for the screenplay . \\ntom everett scott ( that thing you do ) plays the lead like he's in a made-for-tv movie . \\nit would be kind to call him bland . \\nactors vince vieluf and phil buckman , as andy's friends , are no more impressive . \\njulie bowen ( happy gilmore ) is suitably fetching as werewolf meat . \\nand respected french actor thierry lhermitte has a brief turn as another monster meal . \\non the technical side , it's all bad news . \\nthe computer-generated werewolves look painfully unreal . \\nthe creatures would probably have been more believable had they been men in wolf suits . \\nrepeated use is made of the \\\" werewolf cam \\\" , an infrared wolf's point-of-view approach that's interesting the first couple of times it's employed , then becomes tedious . \\nand the soundtrack includes some alternative grunge rock tunes that clash violently with the on-screen action they're matched to . \\ndirector anthony waller , who displayed a confident , edgy style in mute witness , stumbles with this material , never being able to make the comedy and horror elements gel . \\nas a result , we get the worst werewolf sequel since the howling ii : your sister is a werewolf . \\n ( i will give waller credit for killing off a dog , though -- something that's rarely seen in movies these days . ) an american werewolf in paris is marginally entertaining in a \\\" bad movie \\\" sort of way , but that's a dubious distinction . \\nultimately , it's an unfortunate effort , for , while it isn't unbearable to sit through , it isn't a howl , either .\",\n          \"you may not have heard of lucas , or if you have , you might not think much of it . \\nprobably because it stars corey haim , or maybe because it's about a little geek who collects insects , or maybe because it doesn't feature slick one-liners or the chart topping soundtrack albums that were almost a requirement for teen films in the 80's . \\nhowever , you have been missing out on a true masterpeice , the best film of 1986 , and the best film about adolescent life ever made . \\ncorey haim stars as lucas bligh , a tiny 14 year old with scruffy hair , thick glasses , and an interest in insects and other outdoor life . \\none day he stops by the tennis courts and sees what must be an angel to him . \\nher name is maggie , a 16 year old who certainly is a beauty , with lovely red hair and a sweet , innocent complexion . \\nmaggie seems to be a little disturbed by this little kid watching her , but somehow he interests her , and soon they are talking and getting to know one another . \\nthey gradually become good friends , and spend the summer together doing various things , such as studying insects ( namely locusts , who come out of hiding once every 17 years ) , playing tennis , and listening to a symphony orchestra through a manhole cover . \\nlucas is obviously in love with maggie , and while she is charmed by him , it's clear that she would never consider him anything more than a very good friend . \\nthis is not clear to lucas , however . \\nhe still beleives that maggie is his soulmate , and he dreads the impending start of school because he knows what's about to happen . \\nwe soon find out why in a painful scene where lucas is humiliated by the jocks during a pep rally . \\nthey throw him on stage , right in front of his beloved maggie . \\nsurprisingly , he turns the tables on the jocks with some clowning around , but he takes it too far , and is embarassed in front of the entire school . \\nthe next scene is brilliant . \\nmaggie follows lucas outside of the pep rally . \\nshe tries to talk to him as if nothing happened . \\nhe rails back against her , in a cruel unfair fashion . \\nin lesser movies this would've turned into a confrontation between the two characters . \\nbut maggie is written smarter than that . \\nshe understands what lucas is feeling and knows exactly what to say to console him . \\nnext we are introduced to another great character named cappie ( charlie sheen ) . \\nhe is a jock with a typical cheerleader girlfriend . \\nwhat's interesting about him is that he sticks up for lucas and protects him from the other jocks . \\nof course anyone with a brain can tell what's gonna happen next . \\ncappie will cause conflict in maggie and lucas' relationship . \\nthis begins in classic scene in the school laundry room when cappie and maggie are alone . \\nshe's been assigned to show him how to operate the washer/dryer so he can clean his shirt . \\nmaggie is charmed by cappie's tender undertsanding demeanor , not to mention his shirtless body . \\nthis scene is so delicate and sweet , but cappie still has a girlfriend , preventing either one from acting on their desires . \\ndesperately trying to puncture the tension , cappie begins to kick basketballs around the room . \\nit's not long before cappie does break up with his girlfriend ( in the films only subpar scene ) . \\nlucas finally figures out what's going on when he tries to pick maggie up for the dance . \\nthis causes him to take severe actions to prove himself to maggie and himself , such as try out for the football team . \\nthe last third of the film revolves around this attempt . \\nwhile the idea seems cliched , the way it is executed is not . \\nthere are many surprises during the last half hour which lead to an ending so emotionally involving it should make the most heartless of cynics get choked up . \\ndave grusin's memorable score , played at the perfect moments , certainly helps . \\nlucas is filled with great performances . \\nforget everything you know about corey haim . \\nback in 1986 he had talent , and that is proven here as he delivers a perfect fully 3-dimensional performance filled with anger , humor , and pain . \\nkerri green is very appealing as maggie , showing us why she cares about lucas so much and why he is so attracted to her . \\nsheen's cappie is almost too good to be true , but sheen makes him beleivable , especially when he explains the reason why he protects lucas . \\nthere are other wonderful minor characters such as ciro popitti's ben , a friend of lucas , whose diminutive stature does not mean he will take crap from the jocks . \\nalso turning up in a few key scenes is winona ryder as rina , the girl who admires lucas from afar . \\nwhen people talk about the great teen angst films of the 80s , you hear john hughes this and john hughes that . \\nlucas seems to be lost among the crowd of his so-called classics . \\nbut hopefully , like with heathers and say anything , lucas can begin to find it's own loyal following and help people realize there were more to the 80s than anthony michael hall and molly ringwald . \\nit deserves more than that , but i don't want to be greedy .\",\n          \"an attempt at florida film noir , palmetto fails at the most fundamental levels . \\nit's slow moving , uninvolving , and plain just uninteresting . \\nharry barber ( woody harrelson ) is an ex-newspaper man , just out of jail after being framed for a crime . \\nhis luck hasn't been the best , but things are looking up when a mysterious woman , rhea malroux ( elisabeth shue ) , approaches him with a proposition . \\nshe wants harry to help her and her stepdaughter , odette ( chloe sevigny ) , pull off a fake kidnapping scheme to get $500 , 000 out of her stingy , but rich , husband felix ( rolf hoppe ) . \\nat first , all harry is expected to do is provide a threatening voice on the phone , and to collect the money ( of which he gets to keep 10% ) . \\nbut , as the deed is carried out , things are not what they seem , and harry gets caught in the ensuing storm . \\npalmetto pulls out all the stops to achieve a film noir film , but the effect never quite comes together . \\nit's got the sultry florida heat , seductive women , and even curvier plot twists , but the whole thing smells of paint-by-numbers . \\nsure , the right ingredients are there , but the end result is much too artificial . \\na lot of the problems lie with the script , which , though providing some genuine surprises , is packed full of leaden dialogue and bland situations . \\neven the plot twists don't seem to flow well with the rest of the story . \\nsome of them , for example , come from so far afield that they seemingly only make sense because the writer needed a twist ( for example : harry's spontaneous job offer , or the whole typewriter situation ) . \\nthe characters are mostly lifeless , played to type , but not much more . \\nwoody harrelson plays harry with such imbecilic thick-headedness that it's hard to even picture him as an ex-journalist . \\nelisabeth shue vamps it up , but doesn't add anything special to the role . \\nchloe sevigny gives a terrible performance , trying to be a sexy 17-year old , but she just leaves a bad taste in your mouth . \\nsome of the supporting cast ( notably gina gershon and michael rapaport ) give stronger , but , in the end , meaningless performances . \\nand to top it off , the pacing of the film is much too slow . \\nas the movie grinds to a halt , you're given too much time to wonder why you're wasting it watching palmetto . \\nif you're in the mood for this type of movie , you'd be much better off going out and renting some classic film noir .\"\n        ],\n        \"semantic_type\": \"\",\n        \"description\": \"\"\n      }\n    },\n    {\n      \"column\": \"sentiment\",\n      \"properties\": {\n        \"dtype\": \"number\",\n        \"std\": 0,\n        \"min\": 0,\n        \"max\": 1,\n        \"num_unique_values\": 2,\n        \"samples\": [\n          0,\n          1\n        ],\n        \"semantic_type\": \"\",\n        \"description\": \"\"\n      }\n    }\n  ]\n}"
            }
          },
          "metadata": {},
          "execution_count": 4
        }
      ],
      "source": [
        "dataf = pd.read_csv(\"/content/data_set.csv\")\n",
        "dataf.head()"
      ]
    },
    {
      "cell_type": "markdown",
      "metadata": {
        "id": "LULjqaXJta3_"
      },
      "source": [
        "# Encoding and Display Correlation Matrix"
      ]
    },
    {
      "cell_type": "code",
      "execution_count": 5,
      "metadata": {
        "colab": {
          "base_uri": "https://localhost:8080/",
          "height": 545
        },
        "id": "44LPKBhibD_3",
        "outputId": "f893069a-89d8-4ea9-e059-18cd961bbbb3"
      },
      "outputs": [
        {
          "output_type": "display_data",
          "data": {
            "text/plain": [
              "<Figure size 800x600 with 2 Axes>"
            ],
            "image/png": "[encoded data removed]"
          },
          "metadata": {}
        }
      ],
      "source": [
        "import pandas as pd\n",
        "from sklearn.preprocessing import LabelEncoder\n",
        "import seaborn as sns\n",
        "import matplotlib.pyplot as plt\n",
        "from matplotlib.colors import LinearSegmentedColormap\n",
        "original_encodings = {}\n",
        "categorical_columns = ['review']\n",
        "label_encoder = LabelEncoder()\n",
        "for column in categorical_columns:\n",
        "    dataf[column] = label_encoder.fit_transform(dataf[column])\n",
        "    original_encodings[column] = label_encoder\n",
        "\n",
        "correlation_matrix = dataf.corr()\n",
        "colors = ['#EC7FA2', '#FFB8E0']\n",
        "cmap = LinearSegmentedColormap.from_list('custom_cmap', colors)\n",
        "plt.figure(figsize=(8, 6))\n",
        "sns.heatmap(correlation_matrix, annot=True, cmap=cmap, fmt=\".2f\", center=0)\n",
        "plt.title('Correlation Heatmap')\n",
        "plt.show()"
      ]
    },
    {
      "cell_type": "markdown",
      "metadata": {
        "id": "z0SapH5KtgFx"
      },
      "source": [
        "# Undo The Encoding"
      ]
    },
    {
      "cell_type": "code",
      "execution_count": 6,
      "metadata": {
        "colab": {
          "base_uri": "https://localhost:8080/"
        },
        "id": "R1yd03aOlm4e",
        "outputId": "655d036c-b6d6-4f25-ef04-775961232a1e"
      },
      "outputs": [
        {
          "output_type": "stream",
          "name": "stdout",
          "text": [
            "                                              review  sentiment\n",
            "0  john carpenter directed this stylish and gory ...          1\n",
            "1  so many students strive to get into schools su...          1\n",
            "2  ralph fiennes is carving out a nice niche for ...          1\n",
            "3  not since oliver stone's natural born killers ...          1\n",
            "4  it is simply amazing how \" the green mile \" de...          1\n"
          ]
        }
      ],
      "source": [
        "for column in categorical_columns:\n",
        "    label_encoder = original_encodings[column]\n",
        "    dataf[column] = label_encoder.inverse_transform(dataf[column])\n",
        "print(dataf.head())"
      ]
    },
    {
      "cell_type": "markdown",
      "metadata": {
        "id": "iBvZpwtPtjSd"
      },
      "source": [
        "# 🔤 Convert All Reviews into lower Case"
      ]
    },
    {
      "cell_type": "code",
      "execution_count": 7,
      "metadata": {
        "colab": {
          "base_uri": "https://localhost:8080/",
          "height": 206
        },
        "id": "Nx_IR7QTM0Qc",
        "outputId": "500b452b-60e1-45e7-a9c2-b61ce37ce410"
      },
      "outputs": [
        {
          "output_type": "execute_result",
          "data": {
            "text/plain": [
              "                                              review  sentiment\n",
              "0  john carpenter directed this stylish and gory ...          1\n",
              "1  so many students strive to get into schools su...          1\n",
              "2  ralph fiennes is carving out a nice niche for ...          1\n",
              "3  not since oliver stone's natural born killers ...          1\n",
              "4  it is simply amazing how \" the green mile \" de...          1"
            ],
            "text/html": [
              "\n",
              "  <div id=\"df-3e0a9b2c-54be-459c-a420-efe3e0788ed9\" class=\"colab-df-container\">\n",
              "    <div>\n",
              "<style scoped>\n",
              "    .dataframe tbody tr th:only-of-type {\n",
              "        vertical-align: middle;\n",
              "    }\n",
              "\n",
              "    .dataframe tbody tr th {\n",
              "        vertical-align: top;\n",
              "    }\n",
              "\n",
              "    .dataframe thead th {\n",
              "        text-align: right;\n",
              "    }\n",
              "</style>\n",
              "<table border=\"1\" class=\"dataframe\">\n",
              "  <thead>\n",
              "    <tr style=\"text-align: right;\">\n",
              "      <th></th>\n",
              "      <th>review</th>\n",
              "      <th>sentiment</th>\n",
              "    </tr>\n",
              "  </thead>\n",
              "  <tbody>\n",
              "    <tr>\n",
              "      <th>0</th>\n",
              "      <td>john carpenter directed this stylish and gory ...</td>\n",
              "      <td>1</td>\n",
              "    </tr>\n",
              "    <tr>\n",
              "      <th>1</th>\n",
              "      <td>so many students strive to get into schools su...</td>\n",
              "      <td>1</td>\n",
              "    </tr>\n",
              "    <tr>\n",
              "      <th>2</th>\n",
              "      <td>ralph fiennes is carving out a nice niche for ...</td>\n",
              "      <td>1</td>\n",
              "    </tr>\n",
              "    <tr>\n",
              "      <th>3</th>\n",
              "      <td>not since oliver stone's natural born killers ...</td>\n",
              "      <td>1</td>\n",
              "    </tr>\n",
              "    <tr>\n",
              "      <th>4</th>\n",
              "      <td>it is simply amazing how \" the green mile \" de...</td>\n",
              "      <td>1</td>\n",
              "    </tr>\n",
              "  </tbody>\n",
              "</table>\n",
              "</div>\n",
              "    <div class=\"colab-df-buttons\">\n",
              "\n",
              "  <div class=\"colab-df-container\">\n",
              "    <button class=\"colab-df-convert\" onclick=\"convertToInteractive('df-3e0a9b2c-54be-459c-a420-efe3e0788ed9')\"\n",
              "            title=\"Convert this dataframe to an interactive table.\"\n",
              "            style=\"display:none;\">\n",
              "\n",
              "  <svg xmlns=\"http://www.w3.org/2000/svg\" height=\"24px\" viewBox=\"0 -960 960 960\">\n",
              "    <path d=\"M120-120v-720h720v720H120Zm60-500h600v-160H180v160Zm220 220h160v-160H400v160Zm0 220h160v-160H400v160ZM180-400h160v-160H180v160Zm440 0h160v-160H620v160ZM180-180h160v-160H180v160Zm440 0h160v-160H620v160Z\"/>\n",
              "  </svg>\n",
              "    </button>\n",
              "\n",
              "  <style>\n",
              "    .colab-df-container {\n",
              "      display:flex;\n",
              "      gap: 12px;\n",
              "    }\n",
              "\n",
              "    .colab-df-convert {\n",
              "      background-color: #E8F0FE;\n",
              "      border: none;\n",
              "      border-radius: 50%;\n",
              "      cursor: pointer;\n",
              "      display: none;\n",
              "      fill: #1967D2;\n",
              "      height: 32px;\n",
              "      padding: 0 0 0 0;\n",
              "      width: 32px;\n",
              "    }\n",
              "\n",
              "    .colab-df-convert:hover {\n",
              "      background-color: #E2EBFA;\n",
              "      box-shadow: 0px 1px 2px rgba(60, 64, 67, 0.3), 0px 1px 3px 1px rgba(60, 64, 67, 0.15);\n",
              "      fill: #174EA6;\n",
              "    }\n",
              "\n",
              "    .colab-df-buttons div {\n",
              "      margin-bottom: 4px;\n",
              "    }\n",
              "\n",
              "    [theme=dark] .colab-df-convert {\n",
              "      background-color: #3B4455;\n",
              "      fill: #D2E3FC;\n",
              "    }\n",
              "\n",
              "    [theme=dark] .colab-df-convert:hover {\n",
              "      background-color: #434B5C;\n",
              "      box-shadow: 0px 1px 3px 1px rgba(0, 0, 0, 0.15);\n",
              "      filter: drop-shadow(0px 1px 2px rgba(0, 0, 0, 0.3));\n",
              "      fill: #FFFFFF;\n",
              "    }\n",
              "  </style>\n",
              "\n",
              "    <script>\n",
              "      const buttonEl =\n",
              "        document.querySelector('#df-3e0a9b2c-54be-459c-a420-efe3e0788ed9 button.colab-df-convert');\n",
              "      buttonEl.style.display =\n",
              "        google.colab.kernel.accessAllowed ? 'block' : 'none';\n",
              "\n",
              "      async function convertToInteractive(key) {\n",
              "        const element = document.querySelector('#df-3e0a9b2c-54be-459c-a420-efe3e0788ed9');\n",
              "        const dataTable =\n",
              "          await google.colab.kernel.invokeFunction('convertToInteractive',\n",
              "                                                    [key], {});\n",
              "        if (!dataTable) return;\n",
              "\n",
              "        const docLinkHtml = 'Like what you see? Visit the ' +\n",
              "          '<a target=\"_blank\" href=https://colab.research.google.com/notebooks/data_table.ipynb>data table notebook</a>'\n",
              "          + ' to learn more about interactive tables.';\n",
              "        element.innerHTML = '';\n",
              "        dataTable['output_type'] = 'display_data';\n",
              "        await google.colab.output.renderOutput(dataTable, element);\n",
              "        const docLink = document.createElement('div');\n",
              "        docLink.innerHTML = docLinkHtml;\n",
              "        element.appendChild(docLink);\n",
              "      }\n",
              "    </script>\n",
              "  </div>\n",
              "\n",
              "\n",
              "    <div id=\"df-ea07c72e-e6aa-4198-9ef6-3a65ed14e14c\">\n",
              "      <button class=\"colab-df-quickchart\" onclick=\"quickchart('df-ea07c72e-e6aa-4198-9ef6-3a65ed14e14c')\"\n",
              "                title=\"Suggest charts\"\n",
              "                style=\"display:none;\">\n",
              "\n",
              "<svg xmlns=\"http://www.w3.org/2000/svg\" height=\"24px\"viewBox=\"0 0 24 24\"\n",
              "     width=\"24px\">\n",
              "    <g>\n",
              "        <path d=\"M19 3H5c-1.1 0-2 .9-2 2v14c0 1.1.9 2 2 2h14c1.1 0 2-.9 2-2V5c0-1.1-.9-2-2-2zM9 17H7v-7h2v7zm4 0h-2V7h2v10zm4 0h-2v-4h2v4z\"/>\n",
              "    </g>\n",
              "</svg>\n",
              "      </button>\n",
              "\n",
              "<style>\n",
              "  .colab-df-quickchart {\n",
              "      --bg-color: #E8F0FE;\n",
              "      --fill-color: #1967D2;\n",
              "      --hover-bg-color: #E2EBFA;\n",
              "      --hover-fill-color: #174EA6;\n",
              "      --disabled-fill-color: #AAA;\n",
              "      --disabled-bg-color: #DDD;\n",
              "  }\n",
              "\n",
              "  [theme=dark] .colab-df-quickchart {\n",
              "      --bg-color: #3B4455;\n",
              "      --fill-color: #D2E3FC;\n",
              "      --hover-bg-color: #434B5C;\n",
              "      --hover-fill-color: #FFFFFF;\n",
              "      --disabled-bg-color: #3B4455;\n",
              "      --disabled-fill-color: #666;\n",
              "  }\n",
              "\n",
              "  .colab-df-quickchart {\n",
              "    background-color: var(--bg-color);\n",
              "    border: none;\n",
              "    border-radius: 50%;\n",
              "    cursor: pointer;\n",
              "    display: none;\n",
              "    fill: var(--fill-color);\n",
              "    height: 32px;\n",
              "    padding: 0;\n",
              "    width: 32px;\n",
              "  }\n",
              "\n",
              "  .colab-df-quickchart:hover {\n",
              "    background-color: var(--hover-bg-color);\n",
              "    box-shadow: 0 1px 2px rgba(60, 64, 67, 0.3), 0 1px 3px 1px rgba(60, 64, 67, 0.15);\n",
              "    fill: var(--button-hover-fill-color);\n",
              "  }\n",
              "\n",
              "  .colab-df-quickchart-complete:disabled,\n",
              "  .colab-df-quickchart-complete:disabled:hover {\n",
              "    background-color: var(--disabled-bg-color);\n",
              "    fill: var(--disabled-fill-color);\n",
              "    box-shadow: none;\n",
              "  }\n",
              "\n",
              "  .colab-df-spinner {\n",
              "    border: 2px solid var(--fill-color);\n",
              "    border-color: transparent;\n",
              "    border-bottom-color: var(--fill-color);\n",
              "    animation:\n",
              "      spin 1s steps(1) infinite;\n",
              "  }\n",
              "\n",
              "  @keyframes spin {\n",
              "    0% {\n",
              "      border-color: transparent;\n",
              "      border-bottom-color: var(--fill-color);\n",
              "      border-left-color: var(--fill-color);\n",
              "    }\n",
              "    20% {\n",
              "      border-color: transparent;\n",
              "      border-left-color: var(--fill-color);\n",
              "      border-top-color: var(--fill-color);\n",
              "    }\n",
              "    30% {\n",
              "      border-color: transparent;\n",
              "      border-left-color: var(--fill-color);\n",
              "      border-top-color: var(--fill-color);\n",
              "      border-right-color: var(--fill-color);\n",
              "    }\n",
              "    40% {\n",
              "      border-color: transparent;\n",
              "      border-right-color: var(--fill-color);\n",
              "      border-top-color: var(--fill-color);\n",
              "    }\n",
              "    60% {\n",
              "      border-color: transparent;\n",
              "      border-right-color: var(--fill-color);\n",
              "    }\n",
              "    80% {\n",
              "      border-color: transparent;\n",
              "      border-right-color: var(--fill-color);\n",
              "      border-bottom-color: var(--fill-color);\n",
              "    }\n",
              "    90% {\n",
              "      border-color: transparent;\n",
              "      border-bottom-color: var(--fill-color);\n",
              "    }\n",
              "  }\n",
              "</style>\n",
              "\n",
              "      <script>\n",
              "        async function quickchart(key) {\n",
              "          const quickchartButtonEl =\n",
              "            document.querySelector('#' + key + ' button');\n",
              "          quickchartButtonEl.disabled = true;  // To prevent multiple clicks.\n",
              "          quickchartButtonEl.classList.add('colab-df-spinner');\n",
              "          try {\n",
              "            const charts = await google.colab.kernel.invokeFunction(\n",
              "                'suggestCharts', [key], {});\n",
              "          } catch (error) {\n",
              "            console.error('Error during call to suggestCharts:', error);\n",
              "          }\n",
              "          quickchartButtonEl.classList.remove('colab-df-spinner');\n",
              "          quickchartButtonEl.classList.add('colab-df-quickchart-complete');\n",
              "        }\n",
              "        (() => {\n",
              "          let quickchartButtonEl =\n",
              "            document.querySelector('#df-ea07c72e-e6aa-4198-9ef6-3a65ed14e14c button');\n",
              "          quickchartButtonEl.style.display =\n",
              "            google.colab.kernel.accessAllowed ? 'block' : 'none';\n",
              "        })();\n",
              "      </script>\n",
              "    </div>\n",
              "\n",
              "    </div>\n",
              "  </div>\n"
            ],
            "application/vnd.google.colaboratory.intrinsic+json": {
              "type": "dataframe",
              "variable_name": "dataf",
              "summary": "{\n  \"name\": \"dataf\",\n  \"rows\": 2000,\n  \"fields\": [\n    {\n      \"column\": \"review\",\n      \"properties\": {\n        \"dtype\": \"string\",\n        \"num_unique_values\": 2000,\n        \"samples\": [\n          \"an american werewolf in paris is a failed attempt to recapture the humor and horror of john landis' 1981 feature , an american werewolf in london . \\nwhere the original had comedy , the sequel has the kind of revolting silliness that can be found in tv sit-coms . \\nwhere the first installment had chills , this one has sequences that are inappropriately , unintentionally funny . \\nin short , while an american werewolf in london has become something of a minor classic in its genre , the woeful an american werewolf in paris seems destined for late nights on cinemax ( it even has the necessary gratuitous nudity ) . \\nthe film opens with a trio of daredevil americans -- andy ( tom everett scott ) , brad ( vince vieluf ) , and chris ( phil buckman ) -- sneaking up to the top of the eiffel tower to drink wine and do a little bungee jumping . \\nsoon they have company in the person of serafine ( julie delpy ) , who has decided to end it all . \\nshe jumps , but andy , with a bungee cord attached , goes after her , and manages to save her ( at the price of a major headache ) . \\nserafine disappears , but a smitten andy seeks her out . \\nhowever , once he learns his would-be girlfriend's dark secret , he wishes he hadn't . \\nshe's a werewolf , cursed to change into a hideous beast when the moon is full , and , to make matters worse , he has suffered a nasty bite himself . \\nactress julie delpy is far too good for this movie . \\nshe imbues serafine with spirit , spunk , and humanity , which gives us an emotional stake in the character's fate . \\nthis isn't necessarily a good thing , since it prevents us from relaxing and enjoying an american werewolf in paris as a completely mindless , campy entertainment experience . \\ndelpy's injection of class into an otherwise classless production raises the specter of what this film could have been with a better script and a better cast surrounding her . \\ndelpy's previous credits include such memorable ventures as krzysztof kieslowski's white and richard linklater's before sunrise . \\nshe was radiant , charismatic , and effective in both . \\ngiven the nature and level of the material she has to work with here , she gets as close as possible to those adjectives . \\nit could be argued that delpy is the only reason to see an american werewolf in paris , but even her most devoted fans should consider giving this one a miss . \\nand if your primary objective is catching a glimpse of her in the buff , check out either killing zoe or the passion of beatrice -- those movies have intelligible plots in addition to breasts . \\nthe rest of the cast acts at a level considerably below that of delpy -- which is to say , they give performances appropriate for the screenplay . \\ntom everett scott ( that thing you do ) plays the lead like he's in a made-for-tv movie . \\nit would be kind to call him bland . \\nactors vince vieluf and phil buckman , as andy's friends , are no more impressive . \\njulie bowen ( happy gilmore ) is suitably fetching as werewolf meat . \\nand respected french actor thierry lhermitte has a brief turn as another monster meal . \\non the technical side , it's all bad news . \\nthe computer-generated werewolves look painfully unreal . \\nthe creatures would probably have been more believable had they been men in wolf suits . \\nrepeated use is made of the \\\" werewolf cam \\\" , an infrared wolf's point-of-view approach that's interesting the first couple of times it's employed , then becomes tedious . \\nand the soundtrack includes some alternative grunge rock tunes that clash violently with the on-screen action they're matched to . \\ndirector anthony waller , who displayed a confident , edgy style in mute witness , stumbles with this material , never being able to make the comedy and horror elements gel . \\nas a result , we get the worst werewolf sequel since the howling ii : your sister is a werewolf . \\n ( i will give waller credit for killing off a dog , though -- something that's rarely seen in movies these days . ) an american werewolf in paris is marginally entertaining in a \\\" bad movie \\\" sort of way , but that's a dubious distinction . \\nultimately , it's an unfortunate effort , for , while it isn't unbearable to sit through , it isn't a howl , either .\",\n          \"you may not have heard of lucas , or if you have , you might not think much of it . \\nprobably because it stars corey haim , or maybe because it's about a little geek who collects insects , or maybe because it doesn't feature slick one-liners or the chart topping soundtrack albums that were almost a requirement for teen films in the 80's . \\nhowever , you have been missing out on a true masterpeice , the best film of 1986 , and the best film about adolescent life ever made . \\ncorey haim stars as lucas bligh , a tiny 14 year old with scruffy hair , thick glasses , and an interest in insects and other outdoor life . \\none day he stops by the tennis courts and sees what must be an angel to him . \\nher name is maggie , a 16 year old who certainly is a beauty , with lovely red hair and a sweet , innocent complexion . \\nmaggie seems to be a little disturbed by this little kid watching her , but somehow he interests her , and soon they are talking and getting to know one another . \\nthey gradually become good friends , and spend the summer together doing various things , such as studying insects ( namely locusts , who come out of hiding once every 17 years ) , playing tennis , and listening to a symphony orchestra through a manhole cover . \\nlucas is obviously in love with maggie , and while she is charmed by him , it's clear that she would never consider him anything more than a very good friend . \\nthis is not clear to lucas , however . \\nhe still beleives that maggie is his soulmate , and he dreads the impending start of school because he knows what's about to happen . \\nwe soon find out why in a painful scene where lucas is humiliated by the jocks during a pep rally . \\nthey throw him on stage , right in front of his beloved maggie . \\nsurprisingly , he turns the tables on the jocks with some clowning around , but he takes it too far , and is embarassed in front of the entire school . \\nthe next scene is brilliant . \\nmaggie follows lucas outside of the pep rally . \\nshe tries to talk to him as if nothing happened . \\nhe rails back against her , in a cruel unfair fashion . \\nin lesser movies this would've turned into a confrontation between the two characters . \\nbut maggie is written smarter than that . \\nshe understands what lucas is feeling and knows exactly what to say to console him . \\nnext we are introduced to another great character named cappie ( charlie sheen ) . \\nhe is a jock with a typical cheerleader girlfriend . \\nwhat's interesting about him is that he sticks up for lucas and protects him from the other jocks . \\nof course anyone with a brain can tell what's gonna happen next . \\ncappie will cause conflict in maggie and lucas' relationship . \\nthis begins in classic scene in the school laundry room when cappie and maggie are alone . \\nshe's been assigned to show him how to operate the washer/dryer so he can clean his shirt . \\nmaggie is charmed by cappie's tender undertsanding demeanor , not to mention his shirtless body . \\nthis scene is so delicate and sweet , but cappie still has a girlfriend , preventing either one from acting on their desires . \\ndesperately trying to puncture the tension , cappie begins to kick basketballs around the room . \\nit's not long before cappie does break up with his girlfriend ( in the films only subpar scene ) . \\nlucas finally figures out what's going on when he tries to pick maggie up for the dance . \\nthis causes him to take severe actions to prove himself to maggie and himself , such as try out for the football team . \\nthe last third of the film revolves around this attempt . \\nwhile the idea seems cliched , the way it is executed is not . \\nthere are many surprises during the last half hour which lead to an ending so emotionally involving it should make the most heartless of cynics get choked up . \\ndave grusin's memorable score , played at the perfect moments , certainly helps . \\nlucas is filled with great performances . \\nforget everything you know about corey haim . \\nback in 1986 he had talent , and that is proven here as he delivers a perfect fully 3-dimensional performance filled with anger , humor , and pain . \\nkerri green is very appealing as maggie , showing us why she cares about lucas so much and why he is so attracted to her . \\nsheen's cappie is almost too good to be true , but sheen makes him beleivable , especially when he explains the reason why he protects lucas . \\nthere are other wonderful minor characters such as ciro popitti's ben , a friend of lucas , whose diminutive stature does not mean he will take crap from the jocks . \\nalso turning up in a few key scenes is winona ryder as rina , the girl who admires lucas from afar . \\nwhen people talk about the great teen angst films of the 80s , you hear john hughes this and john hughes that . \\nlucas seems to be lost among the crowd of his so-called classics . \\nbut hopefully , like with heathers and say anything , lucas can begin to find it's own loyal following and help people realize there were more to the 80s than anthony michael hall and molly ringwald . \\nit deserves more than that , but i don't want to be greedy .\",\n          \"an attempt at florida film noir , palmetto fails at the most fundamental levels . \\nit's slow moving , uninvolving , and plain just uninteresting . \\nharry barber ( woody harrelson ) is an ex-newspaper man , just out of jail after being framed for a crime . \\nhis luck hasn't been the best , but things are looking up when a mysterious woman , rhea malroux ( elisabeth shue ) , approaches him with a proposition . \\nshe wants harry to help her and her stepdaughter , odette ( chloe sevigny ) , pull off a fake kidnapping scheme to get $500 , 000 out of her stingy , but rich , husband felix ( rolf hoppe ) . \\nat first , all harry is expected to do is provide a threatening voice on the phone , and to collect the money ( of which he gets to keep 10% ) . \\nbut , as the deed is carried out , things are not what they seem , and harry gets caught in the ensuing storm . \\npalmetto pulls out all the stops to achieve a film noir film , but the effect never quite comes together . \\nit's got the sultry florida heat , seductive women , and even curvier plot twists , but the whole thing smells of paint-by-numbers . \\nsure , the right ingredients are there , but the end result is much too artificial . \\na lot of the problems lie with the script , which , though providing some genuine surprises , is packed full of leaden dialogue and bland situations . \\neven the plot twists don't seem to flow well with the rest of the story . \\nsome of them , for example , come from so far afield that they seemingly only make sense because the writer needed a twist ( for example : harry's spontaneous job offer , or the whole typewriter situation ) . \\nthe characters are mostly lifeless , played to type , but not much more . \\nwoody harrelson plays harry with such imbecilic thick-headedness that it's hard to even picture him as an ex-journalist . \\nelisabeth shue vamps it up , but doesn't add anything special to the role . \\nchloe sevigny gives a terrible performance , trying to be a sexy 17-year old , but she just leaves a bad taste in your mouth . \\nsome of the supporting cast ( notably gina gershon and michael rapaport ) give stronger , but , in the end , meaningless performances . \\nand to top it off , the pacing of the film is much too slow . \\nas the movie grinds to a halt , you're given too much time to wonder why you're wasting it watching palmetto . \\nif you're in the mood for this type of movie , you'd be much better off going out and renting some classic film noir .\"\n        ],\n        \"semantic_type\": \"\",\n        \"description\": \"\"\n      }\n    },\n    {\n      \"column\": \"sentiment\",\n      \"properties\": {\n        \"dtype\": \"number\",\n        \"std\": 0,\n        \"min\": 0,\n        \"max\": 1,\n        \"num_unique_values\": 2,\n        \"samples\": [\n          0,\n          1\n        ],\n        \"semantic_type\": \"\",\n        \"description\": \"\"\n      }\n    }\n  ]\n}"
            }
          },
          "metadata": {},
          "execution_count": 7
        }
      ],
      "source": [
        "dataf = dataf.apply(lambda x: x.str.lower() if x.dtype == \"object\" else x)\n",
        "dataf.head()"
      ]
    },
    {
      "cell_type": "markdown",
      "metadata": {
        "id": "ATJ__dJttPJA"
      },
      "source": [
        "### 🧹 Clean Text: Remove Duplicates, Stop Words & Punctuation\n",
        "Simplifies text by removing repeated words, stop words, and punctuation for cleaner analysis."
      ]
    },
    {
      "cell_type": "code",
      "execution_count": 8,
      "metadata": {
        "colab": {
          "base_uri": "https://localhost:8080/",
          "height": 242
        },
        "id": "vli-D9PNNzCk",
        "outputId": "094cb4d0-e88a-4262-984d-5471ac4f5074"
      },
      "outputs": [
        {
          "output_type": "stream",
          "name": "stderr",
          "text": [
            "<ipython-input-8-c5d2658a9d85>:3: FutureWarning: DataFrame.applymap has been deprecated. Use DataFrame.map instead.\n",
            "  dataf = dataf.applymap(lambda x: remove_punctuation(str(x)) if isinstance(x, str) else x)\n"
          ]
        },
        {
          "output_type": "execute_result",
          "data": {
            "text/plain": [
              "                                              review  sentiment\n",
              "0  john carpenter directed this stylish and gory ...          1\n",
              "1  so many students strive to get into schools su...          1\n",
              "2  ralph fiennes is carving out a nice niche for ...          1\n",
              "3  not since oliver stones natural born killers h...          1\n",
              "4  it is simply amazing how  the green mile  deve...          1"
            ],
            "text/html": [
              "\n",
              "  <div id=\"df-a70b46df-9661-42c5-8d1a-a7f37e879b6e\" class=\"colab-df-container\">\n",
              "    <div>\n",
              "<style scoped>\n",
              "    .dataframe tbody tr th:only-of-type {\n",
              "        vertical-align: middle;\n",
              "    }\n",
              "\n",
              "    .dataframe tbody tr th {\n",
              "        vertical-align: top;\n",
              "    }\n",
              "\n",
              "    .dataframe thead th {\n",
              "        text-align: right;\n",
              "    }\n",
              "</style>\n",
              "<table border=\"1\" class=\"dataframe\">\n",
              "  <thead>\n",
              "    <tr style=\"text-align: right;\">\n",
              "      <th></th>\n",
              "      <th>review</th>\n",
              "      <th>sentiment</th>\n",
              "    </tr>\n",
              "  </thead>\n",
              "  <tbody>\n",
              "    <tr>\n",
              "      <th>0</th>\n",
              "      <td>john carpenter directed this stylish and gory ...</td>\n",
              "      <td>1</td>\n",
              "    </tr>\n",
              "    <tr>\n",
              "      <th>1</th>\n",
              "      <td>so many students strive to get into schools su...</td>\n",
              "      <td>1</td>\n",
              "    </tr>\n",
              "    <tr>\n",
              "      <th>2</th>\n",
              "      <td>ralph fiennes is carving out a nice niche for ...</td>\n",
              "      <td>1</td>\n",
              "    </tr>\n",
              "    <tr>\n",
              "      <th>3</th>\n",
              "      <td>not since oliver stones natural born killers h...</td>\n",
              "      <td>1</td>\n",
              "    </tr>\n",
              "    <tr>\n",
              "      <th>4</th>\n",
              "      <td>it is simply amazing how  the green mile  deve...</td>\n",
              "      <td>1</td>\n",
              "    </tr>\n",
              "  </tbody>\n",
              "</table>\n",
              "</div>\n",
              "    <div class=\"colab-df-buttons\">\n",
              "\n",
              "  <div class=\"colab-df-container\">\n",
              "    <button class=\"colab-df-convert\" onclick=\"convertToInteractive('df-a70b46df-9661-42c5-8d1a-a7f37e879b6e')\"\n",
              "            title=\"Convert this dataframe to an interactive table.\"\n",
              "            style=\"display:none;\">\n",
              "\n",
              "  <svg xmlns=\"http://www.w3.org/2000/svg\" height=\"24px\" viewBox=\"0 -960 960 960\">\n",
              "    <path d=\"M120-120v-720h720v720H120Zm60-500h600v-160H180v160Zm220 220h160v-160H400v160Zm0 220h160v-160H400v160ZM180-400h160v-160H180v160Zm440 0h160v-160H620v160ZM180-180h160v-160H180v160Zm440 0h160v-160H620v160Z\"/>\n",
              "  </svg>\n",
              "    </button>\n",
              "\n",
              "  <style>\n",
              "    .colab-df-container {\n",
              "      display:flex;\n",
              "      gap: 12px;\n",
              "    }\n",
              "\n",
              "    .colab-df-convert {\n",
              "      background-color: #E8F0FE;\n",
              "      border: none;\n",
              "      border-radius: 50%;\n",
              "      cursor: pointer;\n",
              "      display: none;\n",
              "      fill: #1967D2;\n",
              "      height: 32px;\n",
              "      padding: 0 0 0 0;\n",
              "      width: 32px;\n",
              "    }\n",
              "\n",
              "    .colab-df-convert:hover {\n",
              "      background-color: #E2EBFA;\n",
              "      box-shadow: 0px 1px 2px rgba(60, 64, 67, 0.3), 0px 1px 3px 1px rgba(60, 64, 67, 0.15);\n",
              "      fill: #174EA6;\n",
              "    }\n",
              "\n",
              "    .colab-df-buttons div {\n",
              "      margin-bottom: 4px;\n",
              "    }\n",
              "\n",
              "    [theme=dark] .colab-df-convert {\n",
              "      background-color: #3B4455;\n",
              "      fill: #D2E3FC;\n",
              "    }\n",
              "\n",
              "    [theme=dark] .colab-df-convert:hover {\n",
              "      background-color: #434B5C;\n",
              "      box-shadow: 0px 1px 3px 1px rgba(0, 0, 0, 0.15);\n",
              "      filter: drop-shadow(0px 1px 2px rgba(0, 0, 0, 0.3));\n",
              "      fill: #FFFFFF;\n",
              "    }\n",
              "  </style>\n",
              "\n",
              "    <script>\n",
              "      const buttonEl =\n",
              "        document.querySelector('#df-a70b46df-9661-42c5-8d1a-a7f37e879b6e button.colab-df-convert');\n",
              "      buttonEl.style.display =\n",
              "        google.colab.kernel.accessAllowed ? 'block' : 'none';\n",
              "\n",
              "      async function convertToInteractive(key) {\n",
              "        const element = document.querySelector('#df-a70b46df-9661-42c5-8d1a-a7f37e879b6e');\n",
              "        const dataTable =\n",
              "          await google.colab.kernel.invokeFunction('convertToInteractive',\n",
              "                                                    [key], {});\n",
              "        if (!dataTable) return;\n",
              "\n",
              "        const docLinkHtml = 'Like what you see? Visit the ' +\n",
              "          '<a target=\"_blank\" href=https://colab.research.google.com/notebooks/data_table.ipynb>data table notebook</a>'\n",
              "          + ' to learn more about interactive tables.';\n",
              "        element.innerHTML = '';\n",
              "        dataTable['output_type'] = 'display_data';\n",
              "        await google.colab.output.renderOutput(dataTable, element);\n",
              "        const docLink = document.createElement('div');\n",
              "        docLink.innerHTML = docLinkHtml;\n",
              "        element.appendChild(docLink);\n",
              "      }\n",
              "    </script>\n",
              "  </div>\n",
              "\n",
              "\n",
              "    <div id=\"df-2a345ba9-bef2-4d6a-9c5c-6b76b2a970d9\">\n",
              "      <button class=\"colab-df-quickchart\" onclick=\"quickchart('df-2a345ba9-bef2-4d6a-9c5c-6b76b2a970d9')\"\n",
              "                title=\"Suggest charts\"\n",
              "                style=\"display:none;\">\n",
              "\n",
              "<svg xmlns=\"http://www.w3.org/2000/svg\" height=\"24px\"viewBox=\"0 0 24 24\"\n",
              "     width=\"24px\">\n",
              "    <g>\n",
              "        <path d=\"M19 3H5c-1.1 0-2 .9-2 2v14c0 1.1.9 2 2 2h14c1.1 0 2-.9 2-2V5c0-1.1-.9-2-2-2zM9 17H7v-7h2v7zm4 0h-2V7h2v10zm4 0h-2v-4h2v4z\"/>\n",
              "    </g>\n",
              "</svg>\n",
              "      </button>\n",
              "\n",
              "<style>\n",
              "  .colab-df-quickchart {\n",
              "      --bg-color: #E8F0FE;\n",
              "      --fill-color: #1967D2;\n",
              "      --hover-bg-color: #E2EBFA;\n",
              "      --hover-fill-color: #174EA6;\n",
              "      --disabled-fill-color: #AAA;\n",
              "      --disabled-bg-color: #DDD;\n",
              "  }\n",
              "\n",
              "  [theme=dark] .colab-df-quickchart {\n",
              "      --bg-color: #3B4455;\n",
              "      --fill-color: #D2E3FC;\n",
              "      --hover-bg-color: #434B5C;\n",
              "      --hover-fill-color: #FFFFFF;\n",
              "      --disabled-bg-color: #3B4455;\n",
              "      --disabled-fill-color: #666;\n",
              "  }\n",
              "\n",
              "  .colab-df-quickchart {\n",
              "    background-color: var(--bg-color);\n",
              "    border: none;\n",
              "    border-radius: 50%;\n",
              "    cursor: pointer;\n",
              "    display: none;\n",
              "    fill: var(--fill-color);\n",
              "    height: 32px;\n",
              "    padding: 0;\n",
              "    width: 32px;\n",
              "  }\n",
              "\n",
              "  .colab-df-quickchart:hover {\n",
              "    background-color: var(--hover-bg-color);\n",
              "    box-shadow: 0 1px 2px rgba(60, 64, 67, 0.3), 0 1px 3px 1px rgba(60, 64, 67, 0.15);\n",
              "    fill: var(--button-hover-fill-color);\n",
              "  }\n",
              "\n",
              "  .colab-df-quickchart-complete:disabled,\n",
              "  .colab-df-quickchart-complete:disabled:hover {\n",
              "    background-color: var(--disabled-bg-color);\n",
              "    fill: var(--disabled-fill-color);\n",
              "    box-shadow: none;\n",
              "  }\n",
              "\n",
              "  .colab-df-spinner {\n",
              "    border: 2px solid var(--fill-color);\n",
              "    border-color: transparent;\n",
              "    border-bottom-color: var(--fill-color);\n",
              "    animation:\n",
              "      spin 1s steps(1) infinite;\n",
              "  }\n",
              "\n",
              "  @keyframes spin {\n",
              "    0% {\n",
              "      border-color: transparent;\n",
              "      border-bottom-color: var(--fill-color);\n",
              "      border-left-color: var(--fill-color);\n",
              "    }\n",
              "    20% {\n",
              "      border-color: transparent;\n",
              "      border-left-color: var(--fill-color);\n",
              "      border-top-color: var(--fill-color);\n",
              "    }\n",
              "    30% {\n",
              "      border-color: transparent;\n",
              "      border-left-color: var(--fill-color);\n",
              "      border-top-color: var(--fill-color);\n",
              "      border-right-color: var(--fill-color);\n",
              "    }\n",
              "    40% {\n",
              "      border-color: transparent;\n",
              "      border-right-color: var(--fill-color);\n",
              "      border-top-color: var(--fill-color);\n",
              "    }\n",
              "    60% {\n",
              "      border-color: transparent;\n",
              "      border-right-color: var(--fill-color);\n",
              "    }\n",
              "    80% {\n",
              "      border-color: transparent;\n",
              "      border-right-color: var(--fill-color);\n",
              "      border-bottom-color: var(--fill-color);\n",
              "    }\n",
              "    90% {\n",
              "      border-color: transparent;\n",
              "      border-bottom-color: var(--fill-color);\n",
              "    }\n",
              "  }\n",
              "</style>\n",
              "\n",
              "      <script>\n",
              "        async function quickchart(key) {\n",
              "          const quickchartButtonEl =\n",
              "            document.querySelector('#' + key + ' button');\n",
              "          quickchartButtonEl.disabled = true;  // To prevent multiple clicks.\n",
              "          quickchartButtonEl.classList.add('colab-df-spinner');\n",
              "          try {\n",
              "            const charts = await google.colab.kernel.invokeFunction(\n",
              "                'suggestCharts', [key], {});\n",
              "          } catch (error) {\n",
              "            console.error('Error during call to suggestCharts:', error);\n",
              "          }\n",
              "          quickchartButtonEl.classList.remove('colab-df-spinner');\n",
              "          quickchartButtonEl.classList.add('colab-df-quickchart-complete');\n",
              "        }\n",
              "        (() => {\n",
              "          let quickchartButtonEl =\n",
              "            document.querySelector('#df-2a345ba9-bef2-4d6a-9c5c-6b76b2a970d9 button');\n",
              "          quickchartButtonEl.style.display =\n",
              "            google.colab.kernel.accessAllowed ? 'block' : 'none';\n",
              "        })();\n",
              "      </script>\n",
              "    </div>\n",
              "\n",
              "    </div>\n",
              "  </div>\n"
            ],
            "application/vnd.google.colaboratory.intrinsic+json": {
              "type": "dataframe",
              "variable_name": "dataf",
              "summary": "{\n  \"name\": \"dataf\",\n  \"rows\": 2000,\n  \"fields\": [\n    {\n      \"column\": \"review\",\n      \"properties\": {\n        \"dtype\": \"string\",\n        \"num_unique_values\": 2000,\n        \"samples\": [\n          \"an american werewolf in paris is a failed attempt to recapture the humor and horror of john landis 1981 feature  an american werewolf in london  \\nwhere the original had comedy  the sequel has the kind of revolting silliness that can be found in tv sitcoms  \\nwhere the first installment had chills  this one has sequences that are inappropriately  unintentionally funny  \\nin short  while an american werewolf in london has become something of a minor classic in its genre  the woeful an american werewolf in paris seems destined for late nights on cinemax  it even has the necessary gratuitous nudity   \\nthe film opens with a trio of daredevil americans  andy  tom everett scott   brad  vince vieluf   and chris  phil buckman   sneaking up to the top of the eiffel tower to drink wine and do a little bungee jumping  \\nsoon they have company in the person of serafine  julie delpy   who has decided to end it all  \\nshe jumps  but andy  with a bungee cord attached  goes after her  and manages to save her  at the price of a major headache   \\nserafine disappears  but a smitten andy seeks her out  \\nhowever  once he learns his wouldbe girlfriends dark secret  he wishes he hadnt  \\nshes a werewolf  cursed to change into a hideous beast when the moon is full  and  to make matters worse  he has suffered a nasty bite himself  \\nactress julie delpy is far too good for this movie  \\nshe imbues serafine with spirit  spunk  and humanity  which gives us an emotional stake in the characters fate  \\nthis isnt necessarily a good thing  since it prevents us from relaxing and enjoying an american werewolf in paris as a completely mindless  campy entertainment experience  \\ndelpys injection of class into an otherwise classless production raises the specter of what this film could have been with a better script and a better cast surrounding her  \\ndelpys previous credits include such memorable ventures as krzysztof kieslowskis white and richard linklaters before sunrise  \\nshe was radiant  charismatic  and effective in both  \\ngiven the nature and level of the material she has to work with here  she gets as close as possible to those adjectives  \\nit could be argued that delpy is the only reason to see an american werewolf in paris  but even her most devoted fans should consider giving this one a miss  \\nand if your primary objective is catching a glimpse of her in the buff  check out either killing zoe or the passion of beatrice  those movies have intelligible plots in addition to breasts  \\nthe rest of the cast acts at a level considerably below that of delpy  which is to say  they give performances appropriate for the screenplay  \\ntom everett scott  that thing you do  plays the lead like hes in a madefortv movie  \\nit would be kind to call him bland  \\nactors vince vieluf and phil buckman  as andys friends  are no more impressive  \\njulie bowen  happy gilmore  is suitably fetching as werewolf meat  \\nand respected french actor thierry lhermitte has a brief turn as another monster meal  \\non the technical side  its all bad news  \\nthe computergenerated werewolves look painfully unreal  \\nthe creatures would probably have been more believable had they been men in wolf suits  \\nrepeated use is made of the  werewolf cam   an infrared wolfs pointofview approach thats interesting the first couple of times its employed  then becomes tedious  \\nand the soundtrack includes some alternative grunge rock tunes that clash violently with the onscreen action theyre matched to  \\ndirector anthony waller  who displayed a confident  edgy style in mute witness  stumbles with this material  never being able to make the comedy and horror elements gel  \\nas a result  we get the worst werewolf sequel since the howling ii  your sister is a werewolf  \\n  i will give waller credit for killing off a dog  though  something thats rarely seen in movies these days   an american werewolf in paris is marginally entertaining in a  bad movie  sort of way  but thats a dubious distinction  \\nultimately  its an unfortunate effort  for  while it isnt unbearable to sit through  it isnt a howl  either \",\n          \"you may not have heard of lucas  or if you have  you might not think much of it  \\nprobably because it stars corey haim  or maybe because its about a little geek who collects insects  or maybe because it doesnt feature slick oneliners or the chart topping soundtrack albums that were almost a requirement for teen films in the 80s  \\nhowever  you have been missing out on a true masterpeice  the best film of 1986  and the best film about adolescent life ever made  \\ncorey haim stars as lucas bligh  a tiny 14 year old with scruffy hair  thick glasses  and an interest in insects and other outdoor life  \\none day he stops by the tennis courts and sees what must be an angel to him  \\nher name is maggie  a 16 year old who certainly is a beauty  with lovely red hair and a sweet  innocent complexion  \\nmaggie seems to be a little disturbed by this little kid watching her  but somehow he interests her  and soon they are talking and getting to know one another  \\nthey gradually become good friends  and spend the summer together doing various things  such as studying insects  namely locusts  who come out of hiding once every 17 years   playing tennis  and listening to a symphony orchestra through a manhole cover  \\nlucas is obviously in love with maggie  and while she is charmed by him  its clear that she would never consider him anything more than a very good friend  \\nthis is not clear to lucas  however  \\nhe still beleives that maggie is his soulmate  and he dreads the impending start of school because he knows whats about to happen  \\nwe soon find out why in a painful scene where lucas is humiliated by the jocks during a pep rally  \\nthey throw him on stage  right in front of his beloved maggie  \\nsurprisingly  he turns the tables on the jocks with some clowning around  but he takes it too far  and is embarassed in front of the entire school  \\nthe next scene is brilliant  \\nmaggie follows lucas outside of the pep rally  \\nshe tries to talk to him as if nothing happened  \\nhe rails back against her  in a cruel unfair fashion  \\nin lesser movies this wouldve turned into a confrontation between the two characters  \\nbut maggie is written smarter than that  \\nshe understands what lucas is feeling and knows exactly what to say to console him  \\nnext we are introduced to another great character named cappie  charlie sheen   \\nhe is a jock with a typical cheerleader girlfriend  \\nwhats interesting about him is that he sticks up for lucas and protects him from the other jocks  \\nof course anyone with a brain can tell whats gonna happen next  \\ncappie will cause conflict in maggie and lucas relationship  \\nthis begins in classic scene in the school laundry room when cappie and maggie are alone  \\nshes been assigned to show him how to operate the washerdryer so he can clean his shirt  \\nmaggie is charmed by cappies tender undertsanding demeanor  not to mention his shirtless body  \\nthis scene is so delicate and sweet  but cappie still has a girlfriend  preventing either one from acting on their desires  \\ndesperately trying to puncture the tension  cappie begins to kick basketballs around the room  \\nits not long before cappie does break up with his girlfriend  in the films only subpar scene   \\nlucas finally figures out whats going on when he tries to pick maggie up for the dance  \\nthis causes him to take severe actions to prove himself to maggie and himself  such as try out for the football team  \\nthe last third of the film revolves around this attempt  \\nwhile the idea seems cliched  the way it is executed is not  \\nthere are many surprises during the last half hour which lead to an ending so emotionally involving it should make the most heartless of cynics get choked up  \\ndave grusins memorable score  played at the perfect moments  certainly helps  \\nlucas is filled with great performances  \\nforget everything you know about corey haim  \\nback in 1986 he had talent  and that is proven here as he delivers a perfect fully 3dimensional performance filled with anger  humor  and pain  \\nkerri green is very appealing as maggie  showing us why she cares about lucas so much and why he is so attracted to her  \\nsheens cappie is almost too good to be true  but sheen makes him beleivable  especially when he explains the reason why he protects lucas  \\nthere are other wonderful minor characters such as ciro popittis ben  a friend of lucas  whose diminutive stature does not mean he will take crap from the jocks  \\nalso turning up in a few key scenes is winona ryder as rina  the girl who admires lucas from afar  \\nwhen people talk about the great teen angst films of the 80s  you hear john hughes this and john hughes that  \\nlucas seems to be lost among the crowd of his socalled classics  \\nbut hopefully  like with heathers and say anything  lucas can begin to find its own loyal following and help people realize there were more to the 80s than anthony michael hall and molly ringwald  \\nit deserves more than that  but i dont want to be greedy \",\n          \"an attempt at florida film noir  palmetto fails at the most fundamental levels  \\nits slow moving  uninvolving  and plain just uninteresting  \\nharry barber  woody harrelson  is an exnewspaper man  just out of jail after being framed for a crime  \\nhis luck hasnt been the best  but things are looking up when a mysterious woman  rhea malroux  elisabeth shue   approaches him with a proposition  \\nshe wants harry to help her and her stepdaughter  odette  chloe sevigny   pull off a fake kidnapping scheme to get 500  000 out of her stingy  but rich  husband felix  rolf hoppe   \\nat first  all harry is expected to do is provide a threatening voice on the phone  and to collect the money  of which he gets to keep 10   \\nbut  as the deed is carried out  things are not what they seem  and harry gets caught in the ensuing storm  \\npalmetto pulls out all the stops to achieve a film noir film  but the effect never quite comes together  \\nits got the sultry florida heat  seductive women  and even curvier plot twists  but the whole thing smells of paintbynumbers  \\nsure  the right ingredients are there  but the end result is much too artificial  \\na lot of the problems lie with the script  which  though providing some genuine surprises  is packed full of leaden dialogue and bland situations  \\neven the plot twists dont seem to flow well with the rest of the story  \\nsome of them  for example  come from so far afield that they seemingly only make sense because the writer needed a twist  for example  harrys spontaneous job offer  or the whole typewriter situation   \\nthe characters are mostly lifeless  played to type  but not much more  \\nwoody harrelson plays harry with such imbecilic thickheadedness that its hard to even picture him as an exjournalist  \\nelisabeth shue vamps it up  but doesnt add anything special to the role  \\nchloe sevigny gives a terrible performance  trying to be a sexy 17year old  but she just leaves a bad taste in your mouth  \\nsome of the supporting cast  notably gina gershon and michael rapaport  give stronger  but  in the end  meaningless performances  \\nand to top it off  the pacing of the film is much too slow  \\nas the movie grinds to a halt  youre given too much time to wonder why youre wasting it watching palmetto  \\nif youre in the mood for this type of movie  youd be much better off going out and renting some classic film noir \"\n        ],\n        \"semantic_type\": \"\",\n        \"description\": \"\"\n      }\n    },\n    {\n      \"column\": \"sentiment\",\n      \"properties\": {\n        \"dtype\": \"number\",\n        \"std\": 0,\n        \"min\": 0,\n        \"max\": 1,\n        \"num_unique_values\": 2,\n        \"samples\": [\n          0,\n          1\n        ],\n        \"semantic_type\": \"\",\n        \"description\": \"\"\n      }\n    }\n  ]\n}"
            }
          },
          "metadata": {},
          "execution_count": 8
        }
      ],
      "source": [
        "def remove_punctuation(text):\n",
        "    return text.translate(str.maketrans('', '', string.punctuation))\n",
        "dataf = dataf.applymap(lambda x: remove_punctuation(str(x)) if isinstance(x, str) else x)\n",
        "dataf.head()"
      ]
    },
    {
      "cell_type": "code",
      "execution_count": 9,
      "metadata": {
        "id": "7YfcTEUEsJoU"
      },
      "outputs": [],
      "source": [
        "def remove_word_duplicates(text):\n",
        "\n",
        "    words = word_tokenize(text)\n",
        "    seen = set()\n",
        "    new_words = []\n",
        "    for word in words:\n",
        "        if word.lower() not in seen:\n",
        "            seen.add(word.lower())\n",
        "            new_words.append(word)\n",
        "    return ' '.join(new_words)\n",
        "\n",
        "\n",
        "df['review'] = df['review'].apply(remove_word_duplicates)"
      ]
    },
    {
      "cell_type": "code",
      "execution_count": 10,
      "metadata": {
        "colab": {
          "base_uri": "https://localhost:8080/",
          "height": 206
        },
        "id": "U_snAZsQT24P",
        "outputId": "425be14a-fa31-4b85-c192-409eba528cf1"
      },
      "outputs": [
        {
          "output_type": "execute_result",
          "data": {
            "text/plain": [
              "                                              review  sentiment\n",
              "0  john carpenter directed stylish gory vampire f...          1\n",
              "1  many students strive get schools harvard princ...          1\n",
              "2  ralph fiennes carving nice niche genre period ...          1\n",
              "3  since oliver stones natural born killers movie...          1\n",
              "4  simply amazing green mile developed three hour...          1"
            ],
            "text/html": [
              "\n",
              "  <div id=\"df-2faf8d30-d268-4f6d-b282-0a33959bedbb\" class=\"colab-df-container\">\n",
              "    <div>\n",
              "<style scoped>\n",
              "    .dataframe tbody tr th:only-of-type {\n",
              "        vertical-align: middle;\n",
              "    }\n",
              "\n",
              "    .dataframe tbody tr th {\n",
              "        vertical-align: top;\n",
              "    }\n",
              "\n",
              "    .dataframe thead th {\n",
              "        text-align: right;\n",
              "    }\n",
              "</style>\n",
              "<table border=\"1\" class=\"dataframe\">\n",
              "  <thead>\n",
              "    <tr style=\"text-align: right;\">\n",
              "      <th></th>\n",
              "      <th>review</th>\n",
              "      <th>sentiment</th>\n",
              "    </tr>\n",
              "  </thead>\n",
              "  <tbody>\n",
              "    <tr>\n",
              "      <th>0</th>\n",
              "      <td>john carpenter directed stylish gory vampire f...</td>\n",
              "      <td>1</td>\n",
              "    </tr>\n",
              "    <tr>\n",
              "      <th>1</th>\n",
              "      <td>many students strive get schools harvard princ...</td>\n",
              "      <td>1</td>\n",
              "    </tr>\n",
              "    <tr>\n",
              "      <th>2</th>\n",
              "      <td>ralph fiennes carving nice niche genre period ...</td>\n",
              "      <td>1</td>\n",
              "    </tr>\n",
              "    <tr>\n",
              "      <th>3</th>\n",
              "      <td>since oliver stones natural born killers movie...</td>\n",
              "      <td>1</td>\n",
              "    </tr>\n",
              "    <tr>\n",
              "      <th>4</th>\n",
              "      <td>simply amazing green mile developed three hour...</td>\n",
              "      <td>1</td>\n",
              "    </tr>\n",
              "  </tbody>\n",
              "</table>\n",
              "</div>\n",
              "    <div class=\"colab-df-buttons\">\n",
              "\n",
              "  <div class=\"colab-df-container\">\n",
              "    <button class=\"colab-df-convert\" onclick=\"convertToInteractive('df-2faf8d30-d268-4f6d-b282-0a33959bedbb')\"\n",
              "            title=\"Convert this dataframe to an interactive table.\"\n",
              "            style=\"display:none;\">\n",
              "\n",
              "  <svg xmlns=\"http://www.w3.org/2000/svg\" height=\"24px\" viewBox=\"0 -960 960 960\">\n",
              "    <path d=\"M120-120v-720h720v720H120Zm60-500h600v-160H180v160Zm220 220h160v-160H400v160Zm0 220h160v-160H400v160ZM180-400h160v-160H180v160Zm440 0h160v-160H620v160ZM180-180h160v-160H180v160Zm440 0h160v-160H620v160Z\"/>\n",
              "  </svg>\n",
              "    </button>\n",
              "\n",
              "  <style>\n",
              "    .colab-df-container {\n",
              "      display:flex;\n",
              "      gap: 12px;\n",
              "    }\n",
              "\n",
              "    .colab-df-convert {\n",
              "      background-color: #E8F0FE;\n",
              "      border: none;\n",
              "      border-radius: 50%;\n",
              "      cursor: pointer;\n",
              "      display: none;\n",
              "      fill: #1967D2;\n",
              "      height: 32px;\n",
              "      padding: 0 0 0 0;\n",
              "      width: 32px;\n",
              "    }\n",
              "\n",
              "    .colab-df-convert:hover {\n",
              "      background-color: #E2EBFA;\n",
              "      box-shadow: 0px 1px 2px rgba(60, 64, 67, 0.3), 0px 1px 3px 1px rgba(60, 64, 67, 0.15);\n",
              "      fill: #174EA6;\n",
              "    }\n",
              "\n",
              "    .colab-df-buttons div {\n",
              "      margin-bottom: 4px;\n",
              "    }\n",
              "\n",
              "    [theme=dark] .colab-df-convert {\n",
              "      background-color: #3B4455;\n",
              "      fill: #D2E3FC;\n",
              "    }\n",
              "\n",
              "    [theme=dark] .colab-df-convert:hover {\n",
              "      background-color: #434B5C;\n",
              "      box-shadow: 0px 1px 3px 1px rgba(0, 0, 0, 0.15);\n",
              "      filter: drop-shadow(0px 1px 2px rgba(0, 0, 0, 0.3));\n",
              "      fill: #FFFFFF;\n",
              "    }\n",
              "  </style>\n",
              "\n",
              "    <script>\n",
              "      const buttonEl =\n",
              "        document.querySelector('#df-2faf8d30-d268-4f6d-b282-0a33959bedbb button.colab-df-convert');\n",
              "      buttonEl.style.display =\n",
              "        google.colab.kernel.accessAllowed ? 'block' : 'none';\n",
              "\n",
              "      async function convertToInteractive(key) {\n",
              "        const element = document.querySelector('#df-2faf8d30-d268-4f6d-b282-0a33959bedbb');\n",
              "        const dataTable =\n",
              "          await google.colab.kernel.invokeFunction('convertToInteractive',\n",
              "                                                    [key], {});\n",
              "        if (!dataTable) return;\n",
              "\n",
              "        const docLinkHtml = 'Like what you see? Visit the ' +\n",
              "          '<a target=\"_blank\" href=https://colab.research.google.com/notebooks/data_table.ipynb>data table notebook</a>'\n",
              "          + ' to learn more about interactive tables.';\n",
              "        element.innerHTML = '';\n",
              "        dataTable['output_type'] = 'display_data';\n",
              "        await google.colab.output.renderOutput(dataTable, element);\n",
              "        const docLink = document.createElement('div');\n",
              "        docLink.innerHTML = docLinkHtml;\n",
              "        element.appendChild(docLink);\n",
              "      }\n",
              "    </script>\n",
              "  </div>\n",
              "\n",
              "\n",
              "    <div id=\"df-14e28756-41ee-48ef-8876-237b9f56a94e\">\n",
              "      <button class=\"colab-df-quickchart\" onclick=\"quickchart('df-14e28756-41ee-48ef-8876-237b9f56a94e')\"\n",
              "                title=\"Suggest charts\"\n",
              "                style=\"display:none;\">\n",
              "\n",
              "<svg xmlns=\"http://www.w3.org/2000/svg\" height=\"24px\"viewBox=\"0 0 24 24\"\n",
              "     width=\"24px\">\n",
              "    <g>\n",
              "        <path d=\"M19 3H5c-1.1 0-2 .9-2 2v14c0 1.1.9 2 2 2h14c1.1 0 2-.9 2-2V5c0-1.1-.9-2-2-2zM9 17H7v-7h2v7zm4 0h-2V7h2v10zm4 0h-2v-4h2v4z\"/>\n",
              "    </g>\n",
              "</svg>\n",
              "      </button>\n",
              "\n",
              "<style>\n",
              "  .colab-df-quickchart {\n",
              "      --bg-color: #E8F0FE;\n",
              "      --fill-color: #1967D2;\n",
              "      --hover-bg-color: #E2EBFA;\n",
              "      --hover-fill-color: #174EA6;\n",
              "      --disabled-fill-color: #AAA;\n",
              "      --disabled-bg-color: #DDD;\n",
              "  }\n",
              "\n",
              "  [theme=dark] .colab-df-quickchart {\n",
              "      --bg-color: #3B4455;\n",
              "      --fill-color: #D2E3FC;\n",
              "      --hover-bg-color: #434B5C;\n",
              "      --hover-fill-color: #FFFFFF;\n",
              "      --disabled-bg-color: #3B4455;\n",
              "      --disabled-fill-color: #666;\n",
              "  }\n",
              "\n",
              "  .colab-df-quickchart {\n",
              "    background-color: var(--bg-color);\n",
              "    border: none;\n",
              "    border-radius: 50%;\n",
              "    cursor: pointer;\n",
              "    display: none;\n",
              "    fill: var(--fill-color);\n",
              "    height: 32px;\n",
              "    padding: 0;\n",
              "    width: 32px;\n",
              "  }\n",
              "\n",
              "  .colab-df-quickchart:hover {\n",
              "    background-color: var(--hover-bg-color);\n",
              "    box-shadow: 0 1px 2px rgba(60, 64, 67, 0.3), 0 1px 3px 1px rgba(60, 64, 67, 0.15);\n",
              "    fill: var(--button-hover-fill-color);\n",
              "  }\n",
              "\n",
              "  .colab-df-quickchart-complete:disabled,\n",
              "  .colab-df-quickchart-complete:disabled:hover {\n",
              "    background-color: var(--disabled-bg-color);\n",
              "    fill: var(--disabled-fill-color);\n",
              "    box-shadow: none;\n",
              "  }\n",
              "\n",
              "  .colab-df-spinner {\n",
              "    border: 2px solid var(--fill-color);\n",
              "    border-color: transparent;\n",
              "    border-bottom-color: var(--fill-color);\n",
              "    animation:\n",
              "      spin 1s steps(1) infinite;\n",
              "  }\n",
              "\n",
              "  @keyframes spin {\n",
              "    0% {\n",
              "      border-color: transparent;\n",
              "      border-bottom-color: var(--fill-color);\n",
              "      border-left-color: var(--fill-color);\n",
              "    }\n",
              "    20% {\n",
              "      border-color: transparent;\n",
              "      border-left-color: var(--fill-color);\n",
              "      border-top-color: var(--fill-color);\n",
              "    }\n",
              "    30% {\n",
              "      border-color: transparent;\n",
              "      border-left-color: var(--fill-color);\n",
              "      border-top-color: var(--fill-color);\n",
              "      border-right-color: var(--fill-color);\n",
              "    }\n",
              "    40% {\n",
              "      border-color: transparent;\n",
              "      border-right-color: var(--fill-color);\n",
              "      border-top-color: var(--fill-color);\n",
              "    }\n",
              "    60% {\n",
              "      border-color: transparent;\n",
              "      border-right-color: var(--fill-color);\n",
              "    }\n",
              "    80% {\n",
              "      border-color: transparent;\n",
              "      border-right-color: var(--fill-color);\n",
              "      border-bottom-color: var(--fill-color);\n",
              "    }\n",
              "    90% {\n",
              "      border-color: transparent;\n",
              "      border-bottom-color: var(--fill-color);\n",
              "    }\n",
              "  }\n",
              "</style>\n",
              "\n",
              "      <script>\n",
              "        async function quickchart(key) {\n",
              "          const quickchartButtonEl =\n",
              "            document.querySelector('#' + key + ' button');\n",
              "          quickchartButtonEl.disabled = true;  // To prevent multiple clicks.\n",
              "          quickchartButtonEl.classList.add('colab-df-spinner');\n",
              "          try {\n",
              "            const charts = await google.colab.kernel.invokeFunction(\n",
              "                'suggestCharts', [key], {});\n",
              "          } catch (error) {\n",
              "            console.error('Error during call to suggestCharts:', error);\n",
              "          }\n",
              "          quickchartButtonEl.classList.remove('colab-df-spinner');\n",
              "          quickchartButtonEl.classList.add('colab-df-quickchart-complete');\n",
              "        }\n",
              "        (() => {\n",
              "          let quickchartButtonEl =\n",
              "            document.querySelector('#df-14e28756-41ee-48ef-8876-237b9f56a94e button');\n",
              "          quickchartButtonEl.style.display =\n",
              "            google.colab.kernel.accessAllowed ? 'block' : 'none';\n",
              "        })();\n",
              "      </script>\n",
              "    </div>\n",
              "\n",
              "    </div>\n",
              "  </div>\n"
            ],
            "application/vnd.google.colaboratory.intrinsic+json": {
              "type": "dataframe",
              "variable_name": "dataf",
              "summary": "{\n  \"name\": \"dataf\",\n  \"rows\": 2000,\n  \"fields\": [\n    {\n      \"column\": \"review\",\n      \"properties\": {\n        \"dtype\": \"string\",\n        \"num_unique_values\": 1998,\n        \"samples\": [\n          \"living loud type motion picture dont often see film mature intelligent adults instead usual american film children basically dress grownup clothing parade around acting like immature sevenyearolds judith holly hunter fortysomething living new york city difficult time life lately extremely depressed recent divorce husband martin donovan cheating cannot sleep haunted terrible memories often imagines offthewall things try make world seem like better place place really go feel happy hear one favorite singers liz bailey queen latifah perform local club judiths life start brighten little one night gets home apartment late strikes conversation elevator operator pat danny devito lonely man fifties lost daughter recently create sort emotional connection seeking comfort person pat starts form deep love judith wants remain friends living loud written richard lagravenese bridges madison county also making directing debut wonderful film beginning end one honest genuinely funny poignant three central characters judith pat liz written freethinking complex human beings likable flawed people constantly interesting film one highly original element film judith occasionally imagines things occuring mind way wishes would happen sometimes results comedy sometimes turns subtle truly touching one sequence stands judith restaurant reading novel older woman comes mentions great book reading goes join friends woman sits looks see judith motions come join instantly realize simply judiths mind see woman sit table begin talking friends holly hunter danny devito give performances careers hunter course brilliant 1993s piano academy award film even better think finds right note scene holds devito never humanistic role surprised usually used butt joke caricature film livingandbreathing sympathetic person play topping latifah also singer quickly turning respectable actress juicy natural supporting role ways judiths role model another joy film somehow form contrived happy ending staying realistic tone manages upbeat truthful last shot especially powerful image nothing said image someone walking sidewalk says relationship results judith pat truetolife sincere watch two people talk get know wish happy even include become romantically involved living loud one best films year proves sometimes friendship strongest bond anyone could possibly ask\",\n          \"big courtroom thrillers always captivated america j simpson tom capano menendez brothers names synonymous americans courtrooms course courtroom dramas new topic hollywood whether john grishams thrilling novels televisions famous dramas courtroom always provided big bucks rented civil action expecting film like rainmaker brilliant law film kept viewers edge seat however saw civil action far different expected major surprise fortunately pleasant one john travolta always seems come big least expect one expected light screen grease saturday night fever whenever gets knocked always seems come back fighting civil action johns best performance strong one could rival performance 1998 travolta proves normal believable performance vault film oscar nominations performance flashy memorable solid delivered solid performance film would still average luckily strong supporting cast william h macy probably one underrated actors hollywood continues deliver great performances one still regarded secondary actor civil action delivers yet another great performance travoltas paranoid greedy accountant lovable character character stands mind whenever think film one big time lawyers measly accountant delivers one best supporting roles 1998 actually someone better civil action robert duvall also underrated actor gets many leading roles never heard hear big box office draws like tom hanks brad pitt jim carrey duvall supporting role lawyer codefendant duvall magical role wise teacher battles courtroom also manages teach every major player lesson twisted way many noncomedic films directors always trying find way implement touch comedy keep audience toes unfortunately usually key one character whose main objective funny jarjar binks anyone however usually backfires character never fully developed case civil action comedy coming sides whether duvalls inane questions macys sharp anger laughs come steady pace granted roll aisle funny provides nice addition film plot terrific somewhat setup nice film actually starting victory courtroom case make break jan travolta career rears ugly head find goldmine involved case wind taking however budgets soon flounder jan finds deep debt spoil rest although must speak one downside film courtroom debates great actual problem fighting never fully explored left somewhat confused although rest film terrific john travolta back yet great film supporting cast consisting macy duvall turn tremendous performances ease load travolta film smart witty thought provoking gauge incourt battles also various tolls take major players civil action provides everything drama lover craves\",\n          \"must sort warped critical nightmare best movie year would summer vehicle jim carrey vehicle truman show perplexing crazed paranoid ribtickling morality play ive seen since idontknowwhen dont credit carrey starts andrew niccol gattaca created script ten years ago story replete sublte religious philisophical undertones man discovers every day existence televised mass audience ironically within past ten years realitybased television become predominant fixture culture knew oneupping niccol unlikely candidatedirector peter weir took helm things fell place weir nearly impossible task create unimitible tone deftly mixing capra kafka throwing george bailey universe inhabited rod serling weirs first stroke genius create seahaven suburban paradiseprison would make spielberg cower shame example bystanderextras would walk around block incessantly flowers along latest issue dog fancy nicest touch plethora subtle hints truman leave island credit weir second stroke casting carrey carrey seems type character actor would always turn act goofy whenever camera near performance subverted sometimes wonder ever aware camera although carrey deserve academy award nomination well academy rarely honors goofy comedians excepting robin williams stretches enough alter hypersilly image considerably playing one cameras constantly invading intimate moments turns quite role jim carreys life pun intended better smaller pivotal role ed harris christof mixes right amount apollo 13 work problem people character dustin hoffmans megaglomaniac producer wag dog slightly svengalian clear torn nielson ratings trumans well yes misguided way loves truman father son provided best universe could provide thinks rounding cast natascha mcelhone mrs dalloway carreys true forbidden love sylvia effective another pivotal small role laura linney congo noah emmerich copland unfortunate task playing trumans wife best friend sitcomish dialogue allow little room authentic character development exception beginning speak camera wholeheartedly believing participation truly good truman society general little problems script assume toddler truman recollection hearing construction gigantic dome formative years reason one scene rained solely truman even though never hire hundreds extras none could drive boat yet truman fearful water helming sailboat effortlessly couldnt christof turned wind strand truman sea little contrivances however hold candle overall effect work audience gets feeling watching actual show drawn trumans mundane existence reason final result effortlessly combines emotional happy ending mainstream picture gnawing discomfort hits square gut upon leaving theater looking sky wondering nothing gigantic dome checking\"\n        ],\n        \"semantic_type\": \"\",\n        \"description\": \"\"\n      }\n    },\n    {\n      \"column\": \"sentiment\",\n      \"properties\": {\n        \"dtype\": \"number\",\n        \"std\": 0,\n        \"min\": 0,\n        \"max\": 1,\n        \"num_unique_values\": 2,\n        \"samples\": [\n          0,\n          1\n        ],\n        \"semantic_type\": \"\",\n        \"description\": \"\"\n      }\n    }\n  ]\n}"
            }
          },
          "metadata": {},
          "execution_count": 10
        }
      ],
      "source": [
        "stop_words = set(stopwords.words('english'))\n",
        "columns_to_remove_stopwords = ['review']\n",
        "def remove_stopwords(text):\n",
        "    return ' '.join([word for word in str(text).split() if word.lower() not in stop_words])\n",
        "for column in columns_to_remove_stopwords:\n",
        "    dataf[column] = dataf[column].apply(remove_stopwords)\n",
        "dataf.head()"
      ]
    },
    {
      "cell_type": "markdown",
      "metadata": {
        "id": "a2NYSnOPtxjr"
      },
      "source": [
        "# 📊 Visualize The Length Of Each Review"
      ]
    },
    {
      "cell_type": "code",
      "execution_count": 11,
      "metadata": {
        "colab": {
          "base_uri": "https://localhost:8080/",
          "height": 668
        },
        "id": "egSvyWodxd2W",
        "outputId": "ed56e89b-5b6a-408a-da18-5724387ff2d5"
      },
      "outputs": [
        {
          "output_type": "stream",
          "name": "stdout",
          "text": [
            "\n",
            "Distribution of text length:\n",
            "count     2000.000000\n",
            "mean      2521.918500\n",
            "std       1104.810956\n",
            "min         52.000000\n",
            "25%       1787.750000\n",
            "50%       2351.500000\n",
            "75%       3047.500000\n",
            "max      10521.000000\n",
            "Name: Text_Length, dtype: float64\n"
          ]
        },
        {
          "output_type": "display_data",
          "data": {
            "text/plain": [
              "<Figure size 640x480 with 1 Axes>"
            ],
            "image/png": "[encoded data removed]"
          },
          "metadata": {}
        }
      ],
      "source": [
        "dataf['Text_Length'] = dataf['review'].apply(len)\n",
        "print(\"\\nDistribution of text length:\")\n",
        "print(dataf['Text_Length'].describe())\n",
        "plt.hist(dataf['Text_Length'], bins=30, color='#FFB8E0', edgecolor='black')\n",
        "plt.xlabel('Text Length')\n",
        "plt.ylabel('Frequency')\n",
        "plt.title('Distribution of Text Length')\n",
        "plt.show()"
      ]
    },
    {
      "cell_type": "markdown",
      "metadata": {
        "id": "Dbz82eTPt_Qu"
      },
      "source": [
        "### 🔤 Text Normalization: Expand Abbreviations & Slang\n"
      ]
    },
    {
      "cell_type": "code",
      "execution_count": 12,
      "metadata": {
        "colab": {
          "base_uri": "https://localhost:8080/",
          "height": 206
        },
        "id": "XifMPh_7wRDc",
        "outputId": "6ef0ca82-1e42-4b69-e674-31485de8c7b3"
      },
      "outputs": [
        {
          "output_type": "execute_result",
          "data": {
            "text/plain": [
              "                                              review  sentiment  Text_Length\n",
              "0  john carpenter directed stylish gory vampire f...          1         1524\n",
              "1  many students strive get schools harvard princ...          1         2293\n",
              "2  ralph fiennes carving nice niche genre period ...          1         3361\n",
              "3  since oliver stones natural born killers movie...          1         2844\n",
              "4  simply amazing green mile developed three hour...          1         3232"
            ],
            "text/html": [
              "\n",
              "  <div id=\"df-2eb7f088-135a-4928-b9cc-f15aa76030df\" class=\"colab-df-container\">\n",
              "    <div>\n",
              "<style scoped>\n",
              "    .dataframe tbody tr th:only-of-type {\n",
              "        vertical-align: middle;\n",
              "    }\n",
              "\n",
              "    .dataframe tbody tr th {\n",
              "        vertical-align: top;\n",
              "    }\n",
              "\n",
              "    .dataframe thead th {\n",
              "        text-align: right;\n",
              "    }\n",
              "</style>\n",
              "<table border=\"1\" class=\"dataframe\">\n",
              "  <thead>\n",
              "    <tr style=\"text-align: right;\">\n",
              "      <th></th>\n",
              "      <th>review</th>\n",
              "      <th>sentiment</th>\n",
              "      <th>Text_Length</th>\n",
              "    </tr>\n",
              "  </thead>\n",
              "  <tbody>\n",
              "    <tr>\n",
              "      <th>0</th>\n",
              "      <td>john carpenter directed stylish gory vampire f...</td>\n",
              "      <td>1</td>\n",
              "      <td>1524</td>\n",
              "    </tr>\n",
              "    <tr>\n",
              "      <th>1</th>\n",
              "      <td>many students strive get schools harvard princ...</td>\n",
              "      <td>1</td>\n",
              "      <td>2293</td>\n",
              "    </tr>\n",
              "    <tr>\n",
              "      <th>2</th>\n",
              "      <td>ralph fiennes carving nice niche genre period ...</td>\n",
              "      <td>1</td>\n",
              "      <td>3361</td>\n",
              "    </tr>\n",
              "    <tr>\n",
              "      <th>3</th>\n",
              "      <td>since oliver stones natural born killers movie...</td>\n",
              "      <td>1</td>\n",
              "      <td>2844</td>\n",
              "    </tr>\n",
              "    <tr>\n",
              "      <th>4</th>\n",
              "      <td>simply amazing green mile developed three hour...</td>\n",
              "      <td>1</td>\n",
              "      <td>3232</td>\n",
              "    </tr>\n",
              "  </tbody>\n",
              "</table>\n",
              "</div>\n",
              "    <div class=\"colab-df-buttons\">\n",
              "\n",
              "  <div class=\"colab-df-container\">\n",
              "    <button class=\"colab-df-convert\" onclick=\"convertToInteractive('df-2eb7f088-135a-4928-b9cc-f15aa76030df')\"\n",
              "            title=\"Convert this dataframe to an interactive table.\"\n",
              "            style=\"display:none;\">\n",
              "\n",
              "  <svg xmlns=\"http://www.w3.org/2000/svg\" height=\"24px\" viewBox=\"0 -960 960 960\">\n",
              "    <path d=\"M120-120v-720h720v720H120Zm60-500h600v-160H180v160Zm220 220h160v-160H400v160Zm0 220h160v-160H400v160ZM180-400h160v-160H180v160Zm440 0h160v-160H620v160ZM180-180h160v-160H180v160Zm440 0h160v-160H620v160Z\"/>\n",
              "  </svg>\n",
              "    </button>\n",
              "\n",
              "  <style>\n",
              "    .colab-df-container {\n",
              "      display:flex;\n",
              "      gap: 12px;\n",
              "    }\n",
              "\n",
              "    .colab-df-convert {\n",
              "      background-color: #E8F0FE;\n",
              "      border: none;\n",
              "      border-radius: 50%;\n",
              "      cursor: pointer;\n",
              "      display: none;\n",
              "      fill: #1967D2;\n",
              "      height: 32px;\n",
              "      padding: 0 0 0 0;\n",
              "      width: 32px;\n",
              "    }\n",
              "\n",
              "    .colab-df-convert:hover {\n",
              "      background-color: #E2EBFA;\n",
              "      box-shadow: 0px 1px 2px rgba(60, 64, 67, 0.3), 0px 1px 3px 1px rgba(60, 64, 67, 0.15);\n",
              "      fill: #174EA6;\n",
              "    }\n",
              "\n",
              "    .colab-df-buttons div {\n",
              "      margin-bottom: 4px;\n",
              "    }\n",
              "\n",
              "    [theme=dark] .colab-df-convert {\n",
              "      background-color: #3B4455;\n",
              "      fill: #D2E3FC;\n",
              "    }\n",
              "\n",
              "    [theme=dark] .colab-df-convert:hover {\n",
              "      background-color: #434B5C;\n",
              "      box-shadow: 0px 1px 3px 1px rgba(0, 0, 0, 0.15);\n",
              "      filter: drop-shadow(0px 1px 2px rgba(0, 0, 0, 0.3));\n",
              "      fill: #FFFFFF;\n",
              "    }\n",
              "  </style>\n",
              "\n",
              "    <script>\n",
              "      const buttonEl =\n",
              "        document.querySelector('#df-2eb7f088-135a-4928-b9cc-f15aa76030df button.colab-df-convert');\n",
              "      buttonEl.style.display =\n",
              "        google.colab.kernel.accessAllowed ? 'block' : 'none';\n",
              "\n",
              "      async function convertToInteractive(key) {\n",
              "        const element = document.querySelector('#df-2eb7f088-135a-4928-b9cc-f15aa76030df');\n",
              "        const dataTable =\n",
              "          await google.colab.kernel.invokeFunction('convertToInteractive',\n",
              "                                                    [key], {});\n",
              "        if (!dataTable) return;\n",
              "\n",
              "        const docLinkHtml = 'Like what you see? Visit the ' +\n",
              "          '<a target=\"_blank\" href=https://colab.research.google.com/notebooks/data_table.ipynb>data table notebook</a>'\n",
              "          + ' to learn more about interactive tables.';\n",
              "        element.innerHTML = '';\n",
              "        dataTable['output_type'] = 'display_data';\n",
              "        await google.colab.output.renderOutput(dataTable, element);\n",
              "        const docLink = document.createElement('div');\n",
              "        docLink.innerHTML = docLinkHtml;\n",
              "        element.appendChild(docLink);\n",
              "      }\n",
              "    </script>\n",
              "  </div>\n",
              "\n",
              "\n",
              "    <div id=\"df-3b2eefc4-2561-46e1-a3ad-228f0c431eb6\">\n",
              "      <button class=\"colab-df-quickchart\" onclick=\"quickchart('df-3b2eefc4-2561-46e1-a3ad-228f0c431eb6')\"\n",
              "                title=\"Suggest charts\"\n",
              "                style=\"display:none;\">\n",
              "\n",
              "<svg xmlns=\"http://www.w3.org/2000/svg\" height=\"24px\"viewBox=\"0 0 24 24\"\n",
              "     width=\"24px\">\n",
              "    <g>\n",
              "        <path d=\"M19 3H5c-1.1 0-2 .9-2 2v14c0 1.1.9 2 2 2h14c1.1 0 2-.9 2-2V5c0-1.1-.9-2-2-2zM9 17H7v-7h2v7zm4 0h-2V7h2v10zm4 0h-2v-4h2v4z\"/>\n",
              "    </g>\n",
              "</svg>\n",
              "      </button>\n",
              "\n",
              "<style>\n",
              "  .colab-df-quickchart {\n",
              "      --bg-color: #E8F0FE;\n",
              "      --fill-color: #1967D2;\n",
              "      --hover-bg-color: #E2EBFA;\n",
              "      --hover-fill-color: #174EA6;\n",
              "      --disabled-fill-color: #AAA;\n",
              "      --disabled-bg-color: #DDD;\n",
              "  }\n",
              "\n",
              "  [theme=dark] .colab-df-quickchart {\n",
              "      --bg-color: #3B4455;\n",
              "      --fill-color: #D2E3FC;\n",
              "      --hover-bg-color: #434B5C;\n",
              "      --hover-fill-color: #FFFFFF;\n",
              "      --disabled-bg-color: #3B4455;\n",
              "      --disabled-fill-color: #666;\n",
              "  }\n",
              "\n",
              "  .colab-df-quickchart {\n",
              "    background-color: var(--bg-color);\n",
              "    border: none;\n",
              "    border-radius: 50%;\n",
              "    cursor: pointer;\n",
              "    display: none;\n",
              "    fill: var(--fill-color);\n",
              "    height: 32px;\n",
              "    padding: 0;\n",
              "    width: 32px;\n",
              "  }\n",
              "\n",
              "  .colab-df-quickchart:hover {\n",
              "    background-color: var(--hover-bg-color);\n",
              "    box-shadow: 0 1px 2px rgba(60, 64, 67, 0.3), 0 1px 3px 1px rgba(60, 64, 67, 0.15);\n",
              "    fill: var(--button-hover-fill-color);\n",
              "  }\n",
              "\n",
              "  .colab-df-quickchart-complete:disabled,\n",
              "  .colab-df-quickchart-complete:disabled:hover {\n",
              "    background-color: var(--disabled-bg-color);\n",
              "    fill: var(--disabled-fill-color);\n",
              "    box-shadow: none;\n",
              "  }\n",
              "\n",
              "  .colab-df-spinner {\n",
              "    border: 2px solid var(--fill-color);\n",
              "    border-color: transparent;\n",
              "    border-bottom-color: var(--fill-color);\n",
              "    animation:\n",
              "      spin 1s steps(1) infinite;\n",
              "  }\n",
              "\n",
              "  @keyframes spin {\n",
              "    0% {\n",
              "      border-color: transparent;\n",
              "      border-bottom-color: var(--fill-color);\n",
              "      border-left-color: var(--fill-color);\n",
              "    }\n",
              "    20% {\n",
              "      border-color: transparent;\n",
              "      border-left-color: var(--fill-color);\n",
              "      border-top-color: var(--fill-color);\n",
              "    }\n",
              "    30% {\n",
              "      border-color: transparent;\n",
              "      border-left-color: var(--fill-color);\n",
              "      border-top-color: var(--fill-color);\n",
              "      border-right-color: var(--fill-color);\n",
              "    }\n",
              "    40% {\n",
              "      border-color: transparent;\n",
              "      border-right-color: var(--fill-color);\n",
              "      border-top-color: var(--fill-color);\n",
              "    }\n",
              "    60% {\n",
              "      border-color: transparent;\n",
              "      border-right-color: var(--fill-color);\n",
              "    }\n",
              "    80% {\n",
              "      border-color: transparent;\n",
              "      border-right-color: var(--fill-color);\n",
              "      border-bottom-color: var(--fill-color);\n",
              "    }\n",
              "    90% {\n",
              "      border-color: transparent;\n",
              "      border-bottom-color: var(--fill-color);\n",
              "    }\n",
              "  }\n",
              "</style>\n",
              "\n",
              "      <script>\n",
              "        async function quickchart(key) {\n",
              "          const quickchartButtonEl =\n",
              "            document.querySelector('#' + key + ' button');\n",
              "          quickchartButtonEl.disabled = true;  // To prevent multiple clicks.\n",
              "          quickchartButtonEl.classList.add('colab-df-spinner');\n",
              "          try {\n",
              "            const charts = await google.colab.kernel.invokeFunction(\n",
              "                'suggestCharts', [key], {});\n",
              "          } catch (error) {\n",
              "            console.error('Error during call to suggestCharts:', error);\n",
              "          }\n",
              "          quickchartButtonEl.classList.remove('colab-df-spinner');\n",
              "          quickchartButtonEl.classList.add('colab-df-quickchart-complete');\n",
              "        }\n",
              "        (() => {\n",
              "          let quickchartButtonEl =\n",
              "            document.querySelector('#df-3b2eefc4-2561-46e1-a3ad-228f0c431eb6 button');\n",
              "          quickchartButtonEl.style.display =\n",
              "            google.colab.kernel.accessAllowed ? 'block' : 'none';\n",
              "        })();\n",
              "      </script>\n",
              "    </div>\n",
              "\n",
              "    </div>\n",
              "  </div>\n"
            ],
            "application/vnd.google.colaboratory.intrinsic+json": {
              "type": "dataframe",
              "variable_name": "dataf",
              "summary": "{\n  \"name\": \"dataf\",\n  \"rows\": 2000,\n  \"fields\": [\n    {\n      \"column\": \"review\",\n      \"properties\": {\n        \"dtype\": \"string\",\n        \"num_unique_values\": 1998,\n        \"samples\": [\n          \"living loud type motion picture dont often see film mature intelligent adults instead usual american film children basically dress grownup clothing parade around acting like immature sevenyearolds judith holly hunter fortysomething living new york city difficult time life lately extremely depressed recent divorce husband martin donovan cheating cannot sleep haunted terrible memories often imagines offthewall things try make world seem like better place place really go feel happy hear one favorite singers liz bailey queen latifah perform local club judiths life start brighten little one night gets home apartment late strikes conversation elevator operator pat danny devito lonely man fifties lost daughter recently create sort emotional connection seeking comfort person pat starts form deep love judith wants remain friends living loud written richard lagravenese bridges madison county also making directing debut wonderful film beginning end one honest genuinely funny poignant three central characters judith pat liz written freethinking complex human beings likable flawed people constantly interesting film one highly original element film judith occasionally imagines things occuring mind way wishes would happen sometimes results comedy sometimes turns subtle truly touching one sequence stands judith restaurant reading novel older woman comes mentions great book reading goes join friends woman sits looks see judith motions come join instantly realize simply judiths mind see woman sit table begin talking friends holly hunter danny devito give performances careers hunter course brilliant 1993s piano academy award film even better think finds right note scene holds devito never humanistic role surprised usually used butt joke caricature film livingandbreathing sympathetic person play topping latifah also singer quickly turning respectable actress juicy natural supporting role ways judiths role model another joy film somehow form contrived happy ending staying realistic tone manages upbeat truthful last shot especially powerful image nothing said image someone walking sidewalk says relationship results judith pat truetolife sincere watch two people talk get know wish happy even include become romantically involved living loud one best films year proves sometimes friendship strongest bond anyone could possibly ask\",\n          \"big courtroom thrillers always captivated america j simpson tom capano menendez brothers names synonymous americans courtrooms course courtroom dramas new topic hollywood whether john grishams thrilling novels televisions famous dramas courtroom always provided big bucks rented civil action expecting film like rainmaker brilliant law film kept viewers edge seat however saw civil action far different expected major surprise fortunately pleasant one john travolta always seems come big least expect one expected light screen grease saturday night fever whenever gets knocked always seems come back fighting civil action johns best performance strong one could rival performance 1998 travolta proves normal believable performance vault film oscar nominations performance flashy memorable solid delivered solid performance film would still average luckily strong supporting cast william h macy probably one underrated actors hollywood continues deliver great performances one still regarded secondary actor civil action delivers yet another great performance travoltas paranoid greedy accountant lovable character character stands mind whenever think film one big time lawyers measly accountant delivers one best supporting roles 1998 actually someone better civil action robert duvall also underrated actor gets many leading roles never heard hear big box office draws like tom hanks brad pitt jim carrey duvall supporting role lawyer codefendant duvall magical role wise teacher battles courtroom also manages teach every major player lesson twisted way many noncomedic films directors always trying find way implement touch comedy keep audience toes unfortunately usually key one character whose main objective funny jarjar binks anyone however usually backfires character never fully developed case civil action comedy coming sides whether duvalls inane questions macys sharp anger laughs come steady pace granted roll aisle funny provides nice addition film plot terrific somewhat setup nice film actually starting victory courtroom case make break jan travolta career rears ugly head find goldmine involved case wind taking however budgets soon flounder jan finds deep debt spoil rest although must speak one downside film courtroom debates great actual problem fighting never fully explored left somewhat confused although rest film terrific john travolta back yet great film supporting cast consisting macy duvall turn tremendous performances ease load travolta film smart witty thought provoking gauge incourt battles also various tolls take major players civil action provides everything drama lover craves\",\n          \"must sort warped critical nightmare best movie year would summer vehicle jim carrey vehicle truman show perplexing crazed paranoid ribtickling morality play ive seen since idontknowwhen dont credit carrey starts andrew niccol gattaca created script ten years ago story replete sublte religious philisophical undertones man discovers every day existence televised mass audience ironically within past ten years realitybased television become predominant fixture culture knew oneupping niccol unlikely candidatedirector peter weir took helm things fell place weir nearly impossible task create unimitible tone deftly mixing capra kafka throwing george bailey universe inhabited rod serling weirs first stroke genius create seahaven suburban paradiseprison would make spielberg cower shame example bystanderextras would walk around block incessantly flowers along latest issue dog fancy nicest touch plethora subtle hints truman leave island credit weir second stroke casting carrey carrey seems type character actor would always turn act goofy whenever camera near performance subverted sometimes wonder ever aware camera although carrey deserve academy award nomination well academy rarely honors goofy comedians excepting robin williams stretches enough alter hypersilly image considerably playing one cameras constantly invading intimate moments turns quite role jim carreys life pun intended better smaller pivotal role ed harris christof mixes right amount apollo 13 work problem people character dustin hoffmans megaglomaniac producer wag dog slightly svengalian clear torn nielson ratings trumans well yes misguided way loves truman father son provided best universe could provide thinks rounding cast natascha mcelhone mrs dalloway carreys true forbidden love sylvia effective another pivotal small role laura linney congo noah emmerich copland unfortunate task playing trumans wife best friend sitcomish dialogue allow little room authentic character development exception beginning speak camera wholeheartedly believing participation truly good truman society general little problems script assume toddler truman recollection hearing construction gigantic dome formative years reason one scene rained solely truman even though never hire hundreds extras none could drive boat yet truman fearful water helming sailboat effortlessly couldnt christof turned wind strand truman sea little contrivances however hold candle overall effect work audience gets feeling watching actual show drawn trumans mundane existence reason final result effortlessly combines emotional happy ending mainstream picture gnawing discomfort hits square gut upon leaving theater looking sky wondering nothing gigantic dome checking\"\n        ],\n        \"semantic_type\": \"\",\n        \"description\": \"\"\n      }\n    },\n    {\n      \"column\": \"sentiment\",\n      \"properties\": {\n        \"dtype\": \"number\",\n        \"std\": 0,\n        \"min\": 0,\n        \"max\": 1,\n        \"num_unique_values\": 2,\n        \"samples\": [\n          0,\n          1\n        ],\n        \"semantic_type\": \"\",\n        \"description\": \"\"\n      }\n    },\n    {\n      \"column\": \"Text_Length\",\n      \"properties\": {\n        \"dtype\": \"number\",\n        \"std\": 1104,\n        \"min\": 52,\n        \"max\": 10521,\n        \"num_unique_values\": 1508,\n        \"samples\": [\n          5886,\n          1913\n        ],\n        \"semantic_type\": \"\",\n        \"description\": \"\"\n      }\n    }\n  ]\n}"
            }
          },
          "metadata": {},
          "execution_count": 12
        }
      ],
      "source": [
        "normalization_map = {\n",
        "    'u': 'you',\n",
        "    'ur': 'your',\n",
        "    'r': 'are',\n",
        "    'b4': 'before',\n",
        "    'gr8': 'great',\n",
        "    'gud': 'good',\n",
        "    'pls': 'please',\n",
        "    'plz': 'please',\n",
        "    'thx': 'thanks',\n",
        "    'l8r': 'later',\n",
        "    'msg': 'message',\n",
        "    'btw': 'by the way',\n",
        "    'idk': 'i do not know',\n",
        "    'imo': 'in my opinion'\n",
        "}\n",
        "def normalize_text(text):\n",
        "    words = text.split()\n",
        "    normalized_words = [normalization_map[word] if word in normalization_map else word for word in words]\n",
        "    normalized_text = ' '.join(normalized_words)\n",
        "    return normalized_text\n",
        "columns_to_normalize = ['review']\n",
        "for column in columns_to_normalize:\n",
        "    dataf[column] = dataf[column].apply(normalize_text)\n",
        "\n",
        "dataf.head()"
      ]
    },
    {
      "cell_type": "markdown",
      "metadata": {
        "id": "H6wgOotpuC2t"
      },
      "source": [
        "### 🌿 Stemming & Lemmatization\n",
        "Reducing words to their root form to unify variations (e.g., \"running\" → \"run\"), which helps improve text consistency for analysis."
      ]
    },
    {
      "cell_type": "code",
      "source": [
        "stemmer = PorterStemmer()\n",
        "lemmatizer = WordNetLemmatizer()"
      ],
      "metadata": {
        "id": "GoFxmFB3WNNY"
      },
      "execution_count": 13,
      "outputs": []
    },
    {
      "cell_type": "code",
      "source": [
        "df['review'] = df['review'].apply(\n",
        "    lambda x: [stemmer.stem(lemmatizer.lemmatize(word)) for word in word_tokenize(str(x))] if pd.notnull(x) else []\n",
        ")"
      ],
      "metadata": {
        "id": "gF5tURttWQMA"
      },
      "execution_count": 14,
      "outputs": []
    },
    {
      "cell_type": "markdown",
      "metadata": {
        "id": "bjnF2Sd5uLKf"
      },
      "source": [
        "# String Convertion For review Column"
      ]
    },
    {
      "cell_type": "code",
      "execution_count": 17,
      "metadata": {
        "colab": {
          "base_uri": "https://localhost:8080/",
          "height": 206
        },
        "id": "pjghJVngQELR",
        "outputId": "08769a03-b2af-4d92-ac77-19deef390026"
      },
      "outputs": [
        {
          "output_type": "execute_result",
          "data": {
            "text/plain": [
              "                                              review  sentiment  Text_Length\n",
              "0  john carpenter directed stylish gory vampire f...          1         1524\n",
              "1  many students strive get schools harvard princ...          1         2293\n",
              "2  ralph fiennes carving nice niche genre period ...          1         3361\n",
              "3  since oliver stones natural born killers movie...          1         2844\n",
              "4  simply amazing green mile developed three hour...          1         3232"
            ],
            "text/html": [
              "\n",
              "  <div id=\"df-b92d2494-8e66-45cb-bd78-c389f5ed7ad2\" class=\"colab-df-container\">\n",
              "    <div>\n",
              "<style scoped>\n",
              "    .dataframe tbody tr th:only-of-type {\n",
              "        vertical-align: middle;\n",
              "    }\n",
              "\n",
              "    .dataframe tbody tr th {\n",
              "        vertical-align: top;\n",
              "    }\n",
              "\n",
              "    .dataframe thead th {\n",
              "        text-align: right;\n",
              "    }\n",
              "</style>\n",
              "<table border=\"1\" class=\"dataframe\">\n",
              "  <thead>\n",
              "    <tr style=\"text-align: right;\">\n",
              "      <th></th>\n",
              "      <th>review</th>\n",
              "      <th>sentiment</th>\n",
              "      <th>Text_Length</th>\n",
              "    </tr>\n",
              "  </thead>\n",
              "  <tbody>\n",
              "    <tr>\n",
              "      <th>0</th>\n",
              "      <td>john carpenter directed stylish gory vampire f...</td>\n",
              "      <td>1</td>\n",
              "      <td>1524</td>\n",
              "    </tr>\n",
              "    <tr>\n",
              "      <th>1</th>\n",
              "      <td>many students strive get schools harvard princ...</td>\n",
              "      <td>1</td>\n",
              "      <td>2293</td>\n",
              "    </tr>\n",
              "    <tr>\n",
              "      <th>2</th>\n",
              "      <td>ralph fiennes carving nice niche genre period ...</td>\n",
              "      <td>1</td>\n",
              "      <td>3361</td>\n",
              "    </tr>\n",
              "    <tr>\n",
              "      <th>3</th>\n",
              "      <td>since oliver stones natural born killers movie...</td>\n",
              "      <td>1</td>\n",
              "      <td>2844</td>\n",
              "    </tr>\n",
              "    <tr>\n",
              "      <th>4</th>\n",
              "      <td>simply amazing green mile developed three hour...</td>\n",
              "      <td>1</td>\n",
              "      <td>3232</td>\n",
              "    </tr>\n",
              "  </tbody>\n",
              "</table>\n",
              "</div>\n",
              "    <div class=\"colab-df-buttons\">\n",
              "\n",
              "  <div class=\"colab-df-container\">\n",
              "    <button class=\"colab-df-convert\" onclick=\"convertToInteractive('df-b92d2494-8e66-45cb-bd78-c389f5ed7ad2')\"\n",
              "            title=\"Convert this dataframe to an interactive table.\"\n",
              "            style=\"display:none;\">\n",
              "\n",
              "  <svg xmlns=\"http://www.w3.org/2000/svg\" height=\"24px\" viewBox=\"0 -960 960 960\">\n",
              "    <path d=\"M120-120v-720h720v720H120Zm60-500h600v-160H180v160Zm220 220h160v-160H400v160Zm0 220h160v-160H400v160ZM180-400h160v-160H180v160Zm440 0h160v-160H620v160ZM180-180h160v-160H180v160Zm440 0h160v-160H620v160Z\"/>\n",
              "  </svg>\n",
              "    </button>\n",
              "\n",
              "  <style>\n",
              "    .colab-df-container {\n",
              "      display:flex;\n",
              "      gap: 12px;\n",
              "    }\n",
              "\n",
              "    .colab-df-convert {\n",
              "      background-color: #E8F0FE;\n",
              "      border: none;\n",
              "      border-radius: 50%;\n",
              "      cursor: pointer;\n",
              "      display: none;\n",
              "      fill: #1967D2;\n",
              "      height: 32px;\n",
              "      padding: 0 0 0 0;\n",
              "      width: 32px;\n",
              "    }\n",
              "\n",
              "    .colab-df-convert:hover {\n",
              "      background-color: #E2EBFA;\n",
              "      box-shadow: 0px 1px 2px rgba(60, 64, 67, 0.3), 0px 1px 3px 1px rgba(60, 64, 67, 0.15);\n",
              "      fill: #174EA6;\n",
              "    }\n",
              "\n",
              "    .colab-df-buttons div {\n",
              "      margin-bottom: 4px;\n",
              "    }\n",
              "\n",
              "    [theme=dark] .colab-df-convert {\n",
              "      background-color: #3B4455;\n",
              "      fill: #D2E3FC;\n",
              "    }\n",
              "\n",
              "    [theme=dark] .colab-df-convert:hover {\n",
              "      background-color: #434B5C;\n",
              "      box-shadow: 0px 1px 3px 1px rgba(0, 0, 0, 0.15);\n",
              "      filter: drop-shadow(0px 1px 2px rgba(0, 0, 0, 0.3));\n",
              "      fill: #FFFFFF;\n",
              "    }\n",
              "  </style>\n",
              "\n",
              "    <script>\n",
              "      const buttonEl =\n",
              "        document.querySelector('#df-b92d2494-8e66-45cb-bd78-c389f5ed7ad2 button.colab-df-convert');\n",
              "      buttonEl.style.display =\n",
              "        google.colab.kernel.accessAllowed ? 'block' : 'none';\n",
              "\n",
              "      async function convertToInteractive(key) {\n",
              "        const element = document.querySelector('#df-b92d2494-8e66-45cb-bd78-c389f5ed7ad2');\n",
              "        const dataTable =\n",
              "          await google.colab.kernel.invokeFunction('convertToInteractive',\n",
              "                                                    [key], {});\n",
              "        if (!dataTable) return;\n",
              "\n",
              "        const docLinkHtml = 'Like what you see? Visit the ' +\n",
              "          '<a target=\"_blank\" href=https://colab.research.google.com/notebooks/data_table.ipynb>data table notebook</a>'\n",
              "          + ' to learn more about interactive tables.';\n",
              "        element.innerHTML = '';\n",
              "        dataTable['output_type'] = 'display_data';\n",
              "        await google.colab.output.renderOutput(dataTable, element);\n",
              "        const docLink = document.createElement('div');\n",
              "        docLink.innerHTML = docLinkHtml;\n",
              "        element.appendChild(docLink);\n",
              "      }\n",
              "    </script>\n",
              "  </div>\n",
              "\n",
              "\n",
              "    <div id=\"df-f223a3e1-e5c8-480e-8366-ede63e8bc553\">\n",
              "      <button class=\"colab-df-quickchart\" onclick=\"quickchart('df-f223a3e1-e5c8-480e-8366-ede63e8bc553')\"\n",
              "                title=\"Suggest charts\"\n",
              "                style=\"display:none;\">\n",
              "\n",
              "<svg xmlns=\"http://www.w3.org/2000/svg\" height=\"24px\"viewBox=\"0 0 24 24\"\n",
              "     width=\"24px\">\n",
              "    <g>\n",
              "        <path d=\"M19 3H5c-1.1 0-2 .9-2 2v14c0 1.1.9 2 2 2h14c1.1 0 2-.9 2-2V5c0-1.1-.9-2-2-2zM9 17H7v-7h2v7zm4 0h-2V7h2v10zm4 0h-2v-4h2v4z\"/>\n",
              "    </g>\n",
              "</svg>\n",
              "      </button>\n",
              "\n",
              "<style>\n",
              "  .colab-df-quickchart {\n",
              "      --bg-color: #E8F0FE;\n",
              "      --fill-color: #1967D2;\n",
              "      --hover-bg-color: #E2EBFA;\n",
              "      --hover-fill-color: #174EA6;\n",
              "      --disabled-fill-color: #AAA;\n",
              "      --disabled-bg-color: #DDD;\n",
              "  }\n",
              "\n",
              "  [theme=dark] .colab-df-quickchart {\n",
              "      --bg-color: #3B4455;\n",
              "      --fill-color: #D2E3FC;\n",
              "      --hover-bg-color: #434B5C;\n",
              "      --hover-fill-color: #FFFFFF;\n",
              "      --disabled-bg-color: #3B4455;\n",
              "      --disabled-fill-color: #666;\n",
              "  }\n",
              "\n",
              "  .colab-df-quickchart {\n",
              "    background-color: var(--bg-color);\n",
              "    border: none;\n",
              "    border-radius: 50%;\n",
              "    cursor: pointer;\n",
              "    display: none;\n",
              "    fill: var(--fill-color);\n",
              "    height: 32px;\n",
              "    padding: 0;\n",
              "    width: 32px;\n",
              "  }\n",
              "\n",
              "  .colab-df-quickchart:hover {\n",
              "    background-color: var(--hover-bg-color);\n",
              "    box-shadow: 0 1px 2px rgba(60, 64, 67, 0.3), 0 1px 3px 1px rgba(60, 64, 67, 0.15);\n",
              "    fill: var(--button-hover-fill-color);\n",
              "  }\n",
              "\n",
              "  .colab-df-quickchart-complete:disabled,\n",
              "  .colab-df-quickchart-complete:disabled:hover {\n",
              "    background-color: var(--disabled-bg-color);\n",
              "    fill: var(--disabled-fill-color);\n",
              "    box-shadow: none;\n",
              "  }\n",
              "\n",
              "  .colab-df-spinner {\n",
              "    border: 2px solid var(--fill-color);\n",
              "    border-color: transparent;\n",
              "    border-bottom-color: var(--fill-color);\n",
              "    animation:\n",
              "      spin 1s steps(1) infinite;\n",
              "  }\n",
              "\n",
              "  @keyframes spin {\n",
              "    0% {\n",
              "      border-color: transparent;\n",
              "      border-bottom-color: var(--fill-color);\n",
              "      border-left-color: var(--fill-color);\n",
              "    }\n",
              "    20% {\n",
              "      border-color: transparent;\n",
              "      border-left-color: var(--fill-color);\n",
              "      border-top-color: var(--fill-color);\n",
              "    }\n",
              "    30% {\n",
              "      border-color: transparent;\n",
              "      border-left-color: var(--fill-color);\n",
              "      border-top-color: var(--fill-color);\n",
              "      border-right-color: var(--fill-color);\n",
              "    }\n",
              "    40% {\n",
              "      border-color: transparent;\n",
              "      border-right-color: var(--fill-color);\n",
              "      border-top-color: var(--fill-color);\n",
              "    }\n",
              "    60% {\n",
              "      border-color: transparent;\n",
              "      border-right-color: var(--fill-color);\n",
              "    }\n",
              "    80% {\n",
              "      border-color: transparent;\n",
              "      border-right-color: var(--fill-color);\n",
              "      border-bottom-color: var(--fill-color);\n",
              "    }\n",
              "    90% {\n",
              "      border-color: transparent;\n",
              "      border-bottom-color: var(--fill-color);\n",
              "    }\n",
              "  }\n",
              "</style>\n",
              "\n",
              "      <script>\n",
              "        async function quickchart(key) {\n",
              "          const quickchartButtonEl =\n",
              "            document.querySelector('#' + key + ' button');\n",
              "          quickchartButtonEl.disabled = true;  // To prevent multiple clicks.\n",
              "          quickchartButtonEl.classList.add('colab-df-spinner');\n",
              "          try {\n",
              "            const charts = await google.colab.kernel.invokeFunction(\n",
              "                'suggestCharts', [key], {});\n",
              "          } catch (error) {\n",
              "            console.error('Error during call to suggestCharts:', error);\n",
              "          }\n",
              "          quickchartButtonEl.classList.remove('colab-df-spinner');\n",
              "          quickchartButtonEl.classList.add('colab-df-quickchart-complete');\n",
              "        }\n",
              "        (() => {\n",
              "          let quickchartButtonEl =\n",
              "            document.querySelector('#df-f223a3e1-e5c8-480e-8366-ede63e8bc553 button');\n",
              "          quickchartButtonEl.style.display =\n",
              "            google.colab.kernel.accessAllowed ? 'block' : 'none';\n",
              "        })();\n",
              "      </script>\n",
              "    </div>\n",
              "\n",
              "    </div>\n",
              "  </div>\n"
            ],
            "application/vnd.google.colaboratory.intrinsic+json": {
              "type": "dataframe",
              "variable_name": "dataf",
              "summary": "{\n  \"name\": \"dataf\",\n  \"rows\": 2000,\n  \"fields\": [\n    {\n      \"column\": \"review\",\n      \"properties\": {\n        \"dtype\": \"string\",\n        \"num_unique_values\": 1998,\n        \"samples\": [\n          \"living loud type motion picture dont often see film mature intelligent adults instead usual american film children basically dress grownup clothing parade around acting like immature sevenyearolds judith holly hunter fortysomething living new york city difficult time life lately extremely depressed recent divorce husband martin donovan cheating cannot sleep haunted terrible memories often imagines offthewall things try make world seem like better place place really go feel happy hear one favorite singers liz bailey queen latifah perform local club judiths life start brighten little one night gets home apartment late strikes conversation elevator operator pat danny devito lonely man fifties lost daughter recently create sort emotional connection seeking comfort person pat starts form deep love judith wants remain friends living loud written richard lagravenese bridges madison county also making directing debut wonderful film beginning end one honest genuinely funny poignant three central characters judith pat liz written freethinking complex human beings likable flawed people constantly interesting film one highly original element film judith occasionally imagines things occuring mind way wishes would happen sometimes results comedy sometimes turns subtle truly touching one sequence stands judith restaurant reading novel older woman comes mentions great book reading goes join friends woman sits looks see judith motions come join instantly realize simply judiths mind see woman sit table begin talking friends holly hunter danny devito give performances careers hunter course brilliant 1993s piano academy award film even better think finds right note scene holds devito never humanistic role surprised usually used butt joke caricature film livingandbreathing sympathetic person play topping latifah also singer quickly turning respectable actress juicy natural supporting role ways judiths role model another joy film somehow form contrived happy ending staying realistic tone manages upbeat truthful last shot especially powerful image nothing said image someone walking sidewalk says relationship results judith pat truetolife sincere watch two people talk get know wish happy even include become romantically involved living loud one best films year proves sometimes friendship strongest bond anyone could possibly ask\",\n          \"big courtroom thrillers always captivated america j simpson tom capano menendez brothers names synonymous americans courtrooms course courtroom dramas new topic hollywood whether john grishams thrilling novels televisions famous dramas courtroom always provided big bucks rented civil action expecting film like rainmaker brilliant law film kept viewers edge seat however saw civil action far different expected major surprise fortunately pleasant one john travolta always seems come big least expect one expected light screen grease saturday night fever whenever gets knocked always seems come back fighting civil action johns best performance strong one could rival performance 1998 travolta proves normal believable performance vault film oscar nominations performance flashy memorable solid delivered solid performance film would still average luckily strong supporting cast william h macy probably one underrated actors hollywood continues deliver great performances one still regarded secondary actor civil action delivers yet another great performance travoltas paranoid greedy accountant lovable character character stands mind whenever think film one big time lawyers measly accountant delivers one best supporting roles 1998 actually someone better civil action robert duvall also underrated actor gets many leading roles never heard hear big box office draws like tom hanks brad pitt jim carrey duvall supporting role lawyer codefendant duvall magical role wise teacher battles courtroom also manages teach every major player lesson twisted way many noncomedic films directors always trying find way implement touch comedy keep audience toes unfortunately usually key one character whose main objective funny jarjar binks anyone however usually backfires character never fully developed case civil action comedy coming sides whether duvalls inane questions macys sharp anger laughs come steady pace granted roll aisle funny provides nice addition film plot terrific somewhat setup nice film actually starting victory courtroom case make break jan travolta career rears ugly head find goldmine involved case wind taking however budgets soon flounder jan finds deep debt spoil rest although must speak one downside film courtroom debates great actual problem fighting never fully explored left somewhat confused although rest film terrific john travolta back yet great film supporting cast consisting macy duvall turn tremendous performances ease load travolta film smart witty thought provoking gauge incourt battles also various tolls take major players civil action provides everything drama lover craves\",\n          \"must sort warped critical nightmare best movie year would summer vehicle jim carrey vehicle truman show perplexing crazed paranoid ribtickling morality play ive seen since idontknowwhen dont credit carrey starts andrew niccol gattaca created script ten years ago story replete sublte religious philisophical undertones man discovers every day existence televised mass audience ironically within past ten years realitybased television become predominant fixture culture knew oneupping niccol unlikely candidatedirector peter weir took helm things fell place weir nearly impossible task create unimitible tone deftly mixing capra kafka throwing george bailey universe inhabited rod serling weirs first stroke genius create seahaven suburban paradiseprison would make spielberg cower shame example bystanderextras would walk around block incessantly flowers along latest issue dog fancy nicest touch plethora subtle hints truman leave island credit weir second stroke casting carrey carrey seems type character actor would always turn act goofy whenever camera near performance subverted sometimes wonder ever aware camera although carrey deserve academy award nomination well academy rarely honors goofy comedians excepting robin williams stretches enough alter hypersilly image considerably playing one cameras constantly invading intimate moments turns quite role jim carreys life pun intended better smaller pivotal role ed harris christof mixes right amount apollo 13 work problem people character dustin hoffmans megaglomaniac producer wag dog slightly svengalian clear torn nielson ratings trumans well yes misguided way loves truman father son provided best universe could provide thinks rounding cast natascha mcelhone mrs dalloway carreys true forbidden love sylvia effective another pivotal small role laura linney congo noah emmerich copland unfortunate task playing trumans wife best friend sitcomish dialogue allow little room authentic character development exception beginning speak camera wholeheartedly believing participation truly good truman society general little problems script assume toddler truman recollection hearing construction gigantic dome formative years reason one scene rained solely truman even though never hire hundreds extras none could drive boat yet truman fearful water helming sailboat effortlessly couldnt christof turned wind strand truman sea little contrivances however hold candle overall effect work audience gets feeling watching actual show drawn trumans mundane existence reason final result effortlessly combines emotional happy ending mainstream picture gnawing discomfort hits square gut upon leaving theater looking sky wondering nothing gigantic dome checking\"\n        ],\n        \"semantic_type\": \"\",\n        \"description\": \"\"\n      }\n    },\n    {\n      \"column\": \"sentiment\",\n      \"properties\": {\n        \"dtype\": \"number\",\n        \"std\": 0,\n        \"min\": 0,\n        \"max\": 1,\n        \"num_unique_values\": 2,\n        \"samples\": [\n          0,\n          1\n        ],\n        \"semantic_type\": \"\",\n        \"description\": \"\"\n      }\n    },\n    {\n      \"column\": \"Text_Length\",\n      \"properties\": {\n        \"dtype\": \"number\",\n        \"std\": 1104,\n        \"min\": 52,\n        \"max\": 10521,\n        \"num_unique_values\": 1508,\n        \"samples\": [\n          5886,\n          1913\n        ],\n        \"semantic_type\": \"\",\n        \"description\": \"\"\n      }\n    }\n  ]\n}"
            }
          },
          "metadata": {},
          "execution_count": 17
        }
      ],
      "source": [
        "columns_to_convert = ['review']\n",
        "for column in columns_to_convert:\n",
        "    dataf[column] = dataf[column].astype(str)\n",
        "dataf.head()"
      ]
    },
    {
      "cell_type": "markdown",
      "metadata": {
        "id": "z0X3P8b9uQ7z"
      },
      "source": [
        "# Display Word Frequencies throw all reviews"
      ]
    },
    {
      "cell_type": "code",
      "execution_count": 18,
      "metadata": {
        "colab": {
          "base_uri": "https://localhost:8080/"
        },
        "id": "FX08JKSEy6Of",
        "outputId": "bc74ffff-747e-4615-a619-b613c06da27e"
      },
      "outputs": [
        {
          "output_type": "stream",
          "name": "stdout",
          "text": [
            "Most common words and their frequencies:\n",
            "film: 8860\n",
            "one: 5521\n",
            "movie: 5440\n",
            "like: 3553\n",
            "even: 2555\n",
            "good: 2320\n",
            "time: 2283\n",
            "story: 2118\n",
            "films: 2102\n",
            "would: 2042\n",
            "much: 2024\n",
            "also: 1965\n",
            "characters: 1947\n",
            "get: 1921\n",
            "character: 1906\n",
            "two: 1825\n",
            "first: 1768\n",
            "see: 1730\n",
            "well: 1694\n",
            "way: 1675\n"
          ]
        }
      ],
      "source": [
        "all_joined_text = ' '.join(dataf['review'])\n",
        "tokens = all_joined_text.split()\n",
        "word_counts = Counter(tokens)\n",
        "print(\"Most common words and their frequencies:\")\n",
        "for word, frequency in word_counts.most_common(20):\n",
        "    print(f\"{word}: {frequency}\")"
      ]
    },
    {
      "cell_type": "markdown",
      "metadata": {
        "id": "WxeL-4h7uXyQ"
      },
      "source": [
        "# Data Splitting"
      ]
    },
    {
      "cell_type": "code",
      "execution_count": 19,
      "metadata": {
        "id": "JvF_6BNm1-VV"
      },
      "outputs": [],
      "source": [
        "X_train, X_test, y_train, y_test = train_test_split(dataf['review'], dataf['sentiment'], test_size=0.2, random_state=0)\n",
        "vectorizer = CountVectorizer()\n",
        "X_train_vec = vectorizer.fit_transform(X_train)\n",
        "X_test_vec = vectorizer.transform(X_test)"
      ]
    },
    {
      "cell_type": "markdown",
      "metadata": {
        "id": "T5ZzMoh0uaKG"
      },
      "source": [
        "### 📊 TF-IDF (Term Frequency-Inverse Document Frequency)\n",
        "\n",
        "A technique used to evaluate the importance of a word in a document relative to a collection of documents. It increases the weight of words that appear frequently in a specific document but not across all documents, helping capture key terms in text data.\n"
      ]
    },
    {
      "cell_type": "code",
      "execution_count": 20,
      "metadata": {
        "id": "krSrQVXotFxs"
      },
      "outputs": [],
      "source": [
        "X = dataf['review']\n",
        "y = dataf['sentiment']\n",
        "X_train, X_test, y_train, y_test = train_test_split(\n",
        "    X, y, test_size=0.2, random_state=42\n",
        ")\n",
        "X_train = X_train.astype(str).tolist()\n",
        "X_test = X_test.astype(str).tolist()\n",
        "vectorizer = TfidfVectorizer(max_features=5000)\n",
        "X_train_tfidf = vectorizer.fit_transform(X_train)\n",
        "X_test_tfidf = vectorizer.transform(X_test)"
      ]
    },
    {
      "cell_type": "markdown",
      "metadata": {
        "id": "URwmLcmYeYx3"
      },
      "source": [
        "# 💻 Apply ML Models"
      ]
    },
    {
      "cell_type": "markdown",
      "metadata": {
        "id": "17g5CMIaeb_I"
      },
      "source": [
        "# SVM Model"
      ]
    },
    {
      "cell_type": "markdown",
      "metadata": {
        "id": "aA-wmq68EfZE"
      },
      "source": [
        "# Make Training"
      ]
    },
    {
      "cell_type": "code",
      "execution_count": 21,
      "metadata": {
        "colab": {
          "base_uri": "https://localhost:8080/"
        },
        "id": "BSQBHGNThAcp",
        "outputId": "38e4bf43-a952-454d-fd43-a45765831e4b"
      },
      "outputs": [
        {
          "output_type": "stream",
          "name": "stdout",
          "text": [
            "\n",
            "Training LinearSVC...\n",
            "Fitting 3 folds for each of 5 candidates, totalling 15 fits\n",
            "\n",
            "Training SVC_Linear...\n",
            "Fitting 3 folds for each of 5 candidates, totalling 15 fits\n",
            "\n",
            "Training SVC_RBF...\n",
            "Fitting 3 folds for each of 20 candidates, totalling 60 fits\n",
            "\n",
            "=== Training Results ===\n",
            "\n",
            "LinearSVC:\n",
            "Best Parameters: {'C': 1}\n",
            "Best CV F1-Score: 0.9006186776084005\n",
            "Train Accuracy: 0.986875\n",
            "\n",
            "SVC_Linear:\n",
            "Best Parameters: {'C': 1}\n",
            "Best CV F1-Score: 0.8949732991901994\n",
            "Train Accuracy: 0.95875\n",
            "\n",
            "SVC_RBF:\n",
            "Best Parameters: {'C': 10, 'gamma': 'scale'}\n",
            "Best CV F1-Score: 0.8968524909746255\n",
            "Train Accuracy: 1.0\n",
            "\n",
            "Best Model (based on CV F1-Score): LinearSVC\n",
            "Best CV F1-Score: 0.9006186776084005\n"
          ]
        }
      ],
      "source": [
        "from sklearn.feature_selection import SelectKBest, chi2\n",
        "from sklearn.svm import LinearSVC, SVC\n",
        "from sklearn.model_selection import GridSearchCV\n",
        "from sklearn.metrics import accuracy_score\n",
        "selector = SelectKBest(chi2, k=2000)\n",
        "X_train_tfidf_selected = selector.fit_transform(X_train_tfidf, y_train)\n",
        "models = {\n",
        "    'LinearSVC': {\n",
        "        'model': LinearSVC(random_state=42, max_iter=10000, class_weight='balanced'),\n",
        "        'param_grid': {'C': [0.01, 0.1, 1, 10, 100]}\n",
        "    },\n",
        "    'SVC_Linear': {\n",
        "        'model': SVC(kernel='linear', random_state=42, class_weight='balanced'),\n",
        "        'param_grid': {'C': [0.01, 0.1, 1, 10, 100]}\n",
        "    },\n",
        "    'SVC_RBF': {\n",
        "        'model': SVC(kernel='rbf', random_state=42, class_weight='balanced'),\n",
        "        'param_grid': {'C': [0.01, 0.1, 1, 10, 100], 'gamma': ['scale', 'auto', 0.01, 0.1]}\n",
        "    }\n",
        "}\n",
        "train_results = {}\n",
        "best_model = None\n",
        "best_cv_score = 0\n",
        "best_model_name = \"\"\n",
        "\n",
        "for model_name, config in models.items():\n",
        "    print(f\"\\nTraining {model_name}...\")\n",
        "    grid_search = GridSearchCV(\n",
        "        config['model'], config['param_grid'], cv=3, scoring='f1_weighted', n_jobs=-1, verbose=1\n",
        "    )\n",
        "    grid_search.fit(X_train_tfidf_selected, y_train)\n",
        "\n",
        "    best_estimator = grid_search.best_estimator_\n",
        "    y_train_pred = best_estimator.predict(X_train_tfidf_selected)\n",
        "    train_accuracy = accuracy_score(y_train, y_train_pred)\n",
        "\n",
        "    train_results[model_name] = {\n",
        "        'best_params': grid_search.best_params_,\n",
        "        'cv_score': grid_search.best_score_,\n",
        "        'train_accuracy': train_accuracy,\n",
        "        'best_estimator': best_estimator\n",
        "    }\n",
        "\n",
        "    if grid_search.best_score_ > best_cv_score:\n",
        "        best_cv_score = grid_search.best_score_\n",
        "        best_model = best_estimator\n",
        "        best_model_name = model_name\n",
        "\n",
        "print(\"\\n=== Training Results ===\")\n",
        "for model_name, result in train_results.items():\n",
        "    print(f\"\\n{model_name}:\")\n",
        "    print(\"Best Parameters:\", result['best_params'])\n",
        "    print(\"Best CV F1-Score:\", result['cv_score'])\n",
        "    print(\"Train Accuracy:\", result['train_accuracy'])\n",
        "\n",
        "print(f\"\\nBest Model (based on CV F1-Score): {best_model_name}\")\n",
        "print(f\"Best CV F1-Score: {best_cv_score}\")"
      ]
    },
    {
      "cell_type": "code",
      "execution_count": 22,
      "metadata": {
        "colab": {
          "base_uri": "https://localhost:8080/"
        },
        "id": "GbsfIuFvtbhZ",
        "outputId": "df280ee4-0a06-4725-a24f-846c79970116"
      },
      "outputs": [
        {
          "output_type": "stream",
          "name": "stdout",
          "text": [
            "\n",
            "Evaluating LinearSVC on test data...\n",
            "\n",
            "Evaluating SVC_Linear on test data...\n",
            "\n",
            "Evaluating SVC_RBF on test data...\n",
            "\n",
            "=== Test Results ===\n",
            "\n",
            "LinearSVC:\n",
            "Test Accuracy: 0.8725\n",
            "Classification Report: {'0': {'precision': 0.8865979381443299, 'recall': 0.8557213930348259, 'f1-score': 0.8708860759493671, 'support': 201.0}, '1': {'precision': 0.8592233009708737, 'recall': 0.8894472361809045, 'f1-score': 0.8740740740740741, 'support': 199.0}, 'accuracy': 0.8725, 'macro avg': {'precision': 0.8729106195576017, 'recall': 0.8725843146078651, 'f1-score': 0.8724800750117205, 'support': 400.0}, 'weighted avg': {'precision': 0.8729790561505354, 'recall': 0.8725, 'f1-score': 0.8724721050164089, 'support': 400.0}}\n",
            "\n",
            "SVC_Linear:\n",
            "Test Accuracy: 0.8775\n",
            "Classification Report: {'0': {'precision': 0.8725490196078431, 'recall': 0.8855721393034826, 'f1-score': 0.8790123456790123, 'support': 201.0}, '1': {'precision': 0.8826530612244898, 'recall': 0.8693467336683417, 'f1-score': 0.8759493670886076, 'support': 199.0}, 'accuracy': 0.8775, 'macro avg': {'precision': 0.8776010404161665, 'recall': 0.8774594364859121, 'f1-score': 0.8774808563838099, 'support': 400.0}, 'weighted avg': {'precision': 0.8775757803121249, 'recall': 0.8775, 'f1-score': 0.877488513830286, 'support': 400.0}}\n",
            "\n",
            "SVC_RBF:\n",
            "Test Accuracy: 0.8575\n",
            "Classification Report: {'0': {'precision': 0.8636363636363636, 'recall': 0.8507462686567164, 'f1-score': 0.8571428571428571, 'support': 201.0}, '1': {'precision': 0.8514851485148515, 'recall': 0.864321608040201, 'f1-score': 0.85785536159601, 'support': 199.0}, 'accuracy': 0.8575, 'macro avg': {'precision': 0.8575607560756076, 'recall': 0.8575339383484587, 'f1-score': 0.8574991093694335, 'support': 400.0}, 'weighted avg': {'precision': 0.8575911341134114, 'recall': 0.8575, 'f1-score': 0.8574973281083007, 'support': 400.0}}\n",
            "\n",
            "Best Model (based on Test Accuracy): SVC_Linear\n",
            "Best Test Accuracy: 0.8775\n"
          ]
        }
      ],
      "source": [
        "from sklearn.metrics import accuracy_score, classification_report\n",
        "X_test_tfidf_selected = selector.transform(X_test_tfidf)\n",
        "test_results = {}\n",
        "best_test_accuracy = 0\n",
        "best_test_model_name = \"\"\n",
        "\n",
        "for model_name, result in train_results.items():\n",
        "    print(f\"\\nEvaluating {model_name} on test data...\")\n",
        "    best_estimator = result['best_estimator']\n",
        "    y_pred = best_estimator.predict(X_test_tfidf_selected)\n",
        "    test_accuracy = accuracy_score(y_test, y_pred)\n",
        "\n",
        "    test_results[model_name] = {\n",
        "        'test_accuracy': test_accuracy,\n",
        "        'classification_report': classification_report(y_test, y_pred, output_dict=True)\n",
        "    }\n",
        "\n",
        "    if test_accuracy > best_test_accuracy:\n",
        "        best_test_accuracy = test_accuracy\n",
        "        best_test_model_name = model_name\n",
        "print(\"\\n=== Test Results ===\")\n",
        "for model_name, result in test_results.items():\n",
        "    print(f\"\\n{model_name}:\")\n",
        "    print(\"Test Accuracy:\", result['test_accuracy'])\n",
        "    print(\"Classification Report:\", result['classification_report'])\n",
        "\n",
        "print(f\"\\nBest Model (based on Test Accuracy): {best_test_model_name}\")\n",
        "print(f\"Best Test Accuracy: {best_test_accuracy}\")"
      ]
    },
    {
      "cell_type": "code",
      "execution_count": 23,
      "metadata": {
        "colab": {
          "base_uri": "https://localhost:8080/"
        },
        "id": "jcTq9Y_Lt-GC",
        "outputId": "d195a934-9e9d-4cf1-a039-7aeb14e499a0"
      },
      "outputs": [
        {
          "output_type": "stream",
          "name": "stdout",
          "text": [
            "\n",
            "Training kNN Model...\n",
            "Fitting 5 folds for each of 64 candidates, totalling 320 fits\n",
            "\n",
            "=== kNN Training Results ===\n",
            "Best Parameters: {'clf__algorithm': 'auto', 'clf__n_neighbors': 7, 'clf__p': 2, 'clf__weights': 'distance'}\n",
            "Best CV Accuracy: 0.6799999999999999\n",
            "Training Accuracy: 1.0\n"
          ]
        }
      ],
      "source": [
        "from sklearn.pipeline import Pipeline\n",
        "from sklearn.feature_extraction.text import TfidfVectorizer\n",
        "from sklearn.neighbors import KNeighborsClassifier\n",
        "from sklearn.model_selection import GridSearchCV\n",
        "from sklearn.metrics import accuracy_score\n",
        "knn_pipeline = Pipeline([\n",
        "    ('tfidf', TfidfVectorizer(max_features=5000)),\n",
        "    ('clf', KNeighborsClassifier())\n",
        "])\n",
        "knn_param_grid = {\n",
        "    'clf__n_neighbors': [3, 5, 7, 9],\n",
        "    'clf__weights': ['uniform', 'distance'],\n",
        "    'clf__algorithm': ['auto', 'ball_tree', 'kd_tree', 'brute'],\n",
        "    'clf__p': [1, 2]\n",
        "}\n",
        "print(\"\\nTraining kNN Model...\")\n",
        "knn_grid_search = GridSearchCV(\n",
        "    estimator=knn_pipeline,\n",
        "    param_grid=knn_param_grid,\n",
        "    cv=5,\n",
        "    scoring='accuracy',\n",
        "    n_jobs=-1,\n",
        "    verbose=1\n",
        ")\n",
        "knn_grid_search.fit(X_train, y_train)\n",
        "train_results = {\n",
        "    'best_params': knn_grid_search.best_params_,\n",
        "    'cv_score': knn_grid_search.best_score_,\n",
        "    'best_estimator': knn_grid_search.best_estimator_\n",
        "}\n",
        "y_train_pred = knn_grid_search.predict(X_train)\n",
        "train_accuracy = accuracy_score(y_train, y_train_pred)\n",
        "print(\"\\n=== kNN Training Results ===\")\n",
        "print(\"Best Parameters:\", train_results['best_params'])\n",
        "print(\"Best CV Accuracy:\", train_results['cv_score'])\n",
        "print(\"Training Accuracy:\", train_accuracy)"
      ]
    },
    {
      "cell_type": "code",
      "execution_count": 24,
      "metadata": {
        "colab": {
          "base_uri": "https://localhost:8080/"
        },
        "id": "gYCKLiNHuGJk",
        "outputId": "d102672b-3218-4342-b1c4-8bbcf2bf53cd"
      },
      "outputs": [
        {
          "output_type": "stream",
          "name": "stdout",
          "text": [
            "\n",
            "Evaluating kNN Model on Test Data...\n",
            "\n",
            "=== kNN Test Results ===\n",
            "Test Accuracy: 0.685\n",
            "Classification Report: {'0': {'precision': 0.7094972067039106, 'recall': 0.6318407960199005, 'f1-score': 0.6684210526315789, 'support': 201.0}, '1': {'precision': 0.665158371040724, 'recall': 0.7386934673366834, 'f1-score': 0.7, 'support': 199.0}, 'accuracy': 0.685, 'macro avg': {'precision': 0.6873277888723173, 'recall': 0.6852671316782919, 'f1-score': 0.6842105263157894, 'support': 400.0}, 'weighted avg': {'precision': 0.6874386359614753, 'recall': 0.685, 'f1-score': 0.6841315789473683, 'support': 400.0}}\n"
          ]
        }
      ],
      "source": [
        "from sklearn.metrics import accuracy_score, classification_report\n",
        "print(\"\\nEvaluating kNN Model on Test Data...\")\n",
        "best_estimator = train_results['best_estimator']\n",
        "y_pred = best_estimator.predict(X_test)\n",
        "test_accuracy = accuracy_score(y_test, y_pred)\n",
        "test_results = {\n",
        "    'test_accuracy': test_accuracy,\n",
        "    'classification_report': classification_report(y_test, y_pred, output_dict=True)\n",
        "}\n",
        "\n",
        "print(\"\\n=== kNN Test Results ===\")\n",
        "print(\"Test Accuracy:\", test_results['test_accuracy'])\n",
        "print(\"Classification Report:\", test_results['classification_report'])"
      ]
    },
    {
      "cell_type": "code",
      "execution_count": 25,
      "metadata": {
        "colab": {
          "base_uri": "https://localhost:8080/"
        },
        "id": "W72Samg0uQvc",
        "outputId": "b32668ce-781e-42d3-f17c-f6fea9c9c23c"
      },
      "outputs": [
        {
          "output_type": "stream",
          "name": "stdout",
          "text": [
            "\n",
            "Training Logistic Regression Model...\n",
            "\n",
            "=== Logistic Regression Training Results ===\n",
            "Training Accuracy: 0.964375\n"
          ]
        }
      ],
      "source": [
        "from sklearn.linear_model import LogisticRegression\n",
        "from sklearn.metrics import accuracy_score\n",
        "print(\"\\nTraining Logistic Regression Model...\")\n",
        "logistic_reg_model = LogisticRegression(random_state=42)\n",
        "logistic_reg_model.fit(X_train_tfidf, y_train)\n",
        "y_train_pred = logistic_reg_model.predict(X_train_tfidf)\n",
        "train_accuracy = accuracy_score(y_train, y_train_pred)\n",
        "train_results = {\n",
        "    'train_accuracy': train_accuracy,\n",
        "    'trained_model': logistic_reg_model\n",
        "}\n",
        "print(\"\\n=== Logistic Regression Training Results ===\")\n",
        "print(\"Training Accuracy:\", train_results['train_accuracy'])"
      ]
    },
    {
      "cell_type": "code",
      "execution_count": 26,
      "metadata": {
        "id": "wZovO0CkuVCK",
        "colab": {
          "base_uri": "https://localhost:8080/"
        },
        "outputId": "b66a69ac-46ed-4744-a8ea-d72266792e25"
      },
      "outputs": [
        {
          "output_type": "stream",
          "name": "stdout",
          "text": [
            "\n",
            "Evaluating Logistic Regression Model on Test Data...\n",
            "\n",
            "=== Logistic Regression Test Results ===\n",
            "Test Accuracy: 0.8575\n",
            "Classification Report: {'0': {'precision': 0.86, 'recall': 0.8557213930348259, 'f1-score': 0.85785536159601, 'support': 201.0}, '1': {'precision': 0.855, 'recall': 0.8592964824120602, 'f1-score': 0.8571428571428571, 'support': 199.0}, 'accuracy': 0.8575, 'macro avg': {'precision': 0.8574999999999999, 'recall': 0.857508937723443, 'f1-score': 0.8574991093694335, 'support': 400.0}, 'weighted avg': {'precision': 0.8575125, 'recall': 0.8575, 'f1-score': 0.8575008906305663, 'support': 400.0}}\n"
          ]
        }
      ],
      "source": [
        "from sklearn.metrics import accuracy_score, classification_report\n",
        "print(\"\\nEvaluating Logistic Regression Model on Test Data...\")\n",
        "trained_model = train_results['trained_model']\n",
        "y_pred = trained_model.predict(X_test_tfidf)\n",
        "test_accuracy = accuracy_score(y_test, y_pred)\n",
        "test_results = {\n",
        "    'test_accuracy': test_accuracy,\n",
        "    'classification_report': classification_report(y_test, y_pred, output_dict=True)\n",
        "}\n",
        "\n",
        "print(\"\\n=== Logistic Regression Test Results ===\")\n",
        "print(\"Test Accuracy:\", test_results['test_accuracy'])\n",
        "print(\"Classification Report:\", test_results['classification_report'])"
      ]
    },
    {
      "cell_type": "code",
      "execution_count": 27,
      "metadata": {
        "colab": {
          "base_uri": "https://localhost:8080/"
        },
        "id": "GuXYJ6IAubBz",
        "outputId": "84907160-b312-442e-edbc-506b5613cdb1"
      },
      "outputs": [
        {
          "output_type": "stream",
          "name": "stdout",
          "text": [
            "\n",
            "Training Naive Bayes Model...\n",
            "\n",
            "=== Naive Bayes Training Results ===\n",
            "Training Accuracy: 0.930625\n"
          ]
        }
      ],
      "source": [
        "from sklearn.naive_bayes import MultinomialNB\n",
        "from sklearn.metrics import accuracy_score\n",
        "print(\"\\nTraining Naive Bayes Model...\")\n",
        "nb_model = MultinomialNB()\n",
        "nb_model.fit(X_train_tfidf, y_train)\n",
        "y_train_pred = nb_model.predict(X_train_tfidf)\n",
        "train_accuracy = accuracy_score(y_train, y_train_pred)\n",
        "\n",
        "train_results = {\n",
        "    'train_accuracy': train_accuracy,\n",
        "    'trained_model': nb_model\n",
        "}\n",
        "print(\"\\n=== Naive Bayes Training Results ===\")\n",
        "print(\"Training Accuracy:\", train_results['train_accuracy'])"
      ]
    },
    {
      "cell_type": "code",
      "execution_count": 28,
      "metadata": {
        "colab": {
          "base_uri": "https://localhost:8080/"
        },
        "id": "8oxqrxzOugCD",
        "outputId": "96b17c27-80f0-43b5-9068-9136c80dfc05"
      },
      "outputs": [
        {
          "output_type": "stream",
          "name": "stdout",
          "text": [
            "\n",
            "Evaluating Naive Bayes Model on Test Data...\n",
            "\n",
            "=== Naive Bayes Test Results ===\n",
            "Test Accuracy: 0.83\n",
            "Classification Report: {'0': {'precision': 0.8093023255813954, 'recall': 0.8656716417910447, 'f1-score': 0.8365384615384616, 'support': 201.0}, '1': {'precision': 0.8540540540540541, 'recall': 0.7939698492462312, 'f1-score': 0.8229166666666666, 'support': 199.0}, 'accuracy': 0.83, 'macro avg': {'precision': 0.8316781898177248, 'recall': 0.8298207455186379, 'f1-score': 0.8297275641025641, 'support': 400.0}, 'weighted avg': {'precision': 0.8315663104965431, 'recall': 0.83, 'f1-score': 0.8297616185897436, 'support': 400.0}}\n"
          ]
        }
      ],
      "source": [
        "from sklearn.metrics import accuracy_score, classification_report\n",
        "print(\"\\nEvaluating Naive Bayes Model on Test Data...\")\n",
        "trained_model = train_results['trained_model']\n",
        "y_pred = trained_model.predict(X_test_tfidf)\n",
        "test_accuracy = accuracy_score(y_test, y_pred)\n",
        "test_results = {\n",
        "    'test_accuracy': test_accuracy,\n",
        "    'classification_report': classification_report(y_test, y_pred, output_dict=True)\n",
        "}\n",
        "\n",
        "print(\"\\n=== Naive Bayes Test Results ===\")\n",
        "print(\"Test Accuracy:\", test_results['test_accuracy'])\n",
        "print(\"Classification Report:\", test_results['classification_report'])"
      ]
    },
    {
      "cell_type": "code",
      "execution_count": 29,
      "metadata": {
        "colab": {
          "base_uri": "https://localhost:8080/"
        },
        "id": "dtv9Cz2Vu-Xc",
        "outputId": "582be5c1-41ac-4f68-dd17-273c32d74565"
      },
      "outputs": [
        {
          "output_type": "stream",
          "name": "stdout",
          "text": [
            "\n",
            "Training Decision Tree Model...\n",
            "Fitting 5 folds for each of 72 candidates, totalling 360 fits\n",
            "\n",
            "=== Decision Tree Training Results ===\n",
            "Best Parameters: {'criterion': 'entropy', 'max_depth': 10, 'min_samples_leaf': 1, 'min_samples_split': 2}\n",
            "Best CV Accuracy: 0.67375\n",
            "Training Accuracy: 0.7925\n"
          ]
        }
      ],
      "source": [
        "from sklearn.tree import DecisionTreeClassifier\n",
        "from sklearn.model_selection import GridSearchCV\n",
        "from sklearn.metrics import accuracy_score\n",
        "dt_model = DecisionTreeClassifier(random_state=42)\n",
        "dt_param_grid = {\n",
        "    'max_depth': [None, 10, 20, 30],\n",
        "    'min_samples_split': [2, 5, 10],\n",
        "    'min_samples_leaf': [1, 2, 4],\n",
        "    'criterion': ['gini', 'entropy']\n",
        "}\n",
        "\n",
        "print(\"\\nTraining Decision Tree Model...\")\n",
        "dt_grid_search = GridSearchCV(\n",
        "    estimator=dt_model,\n",
        "    param_grid=dt_param_grid,\n",
        "    cv=5,\n",
        "    scoring='accuracy',\n",
        "    n_jobs=-1,\n",
        "    verbose=1\n",
        ")\n",
        "dt_grid_search.fit(X_train_tfidf, y_train)\n",
        "\n",
        "train_results = {\n",
        "    'best_params': dt_grid_search.best_params_,\n",
        "    'cv_score': dt_grid_search.best_score_,\n",
        "    'best_estimator': dt_grid_search.best_estimator_\n",
        "}\n",
        "y_train_pred = dt_grid_search.predict(X_train_tfidf)\n",
        "train_accuracy = accuracy_score(y_train, y_train_pred)\n",
        "\n",
        "print(\"\\n=== Decision Tree Training Results ===\")\n",
        "print(\"Best Parameters:\", train_results['best_params'])\n",
        "print(\"Best CV Accuracy:\", train_results['cv_score'])\n",
        "print(\"Training Accuracy:\", train_accuracy)"
      ]
    },
    {
      "cell_type": "code",
      "execution_count": 30,
      "metadata": {
        "colab": {
          "base_uri": "https://localhost:8080/"
        },
        "id": "w-WCyLdxvSpA",
        "outputId": "02407909-ee0f-43bb-a1d1-0817925778d7"
      },
      "outputs": [
        {
          "output_type": "stream",
          "name": "stdout",
          "text": [
            "\n",
            "Evaluating Decision Tree Model on Test Data...\n",
            "\n",
            "=== Decision Tree Test Results ===\n",
            "Test Accuracy: 0.68\n",
            "Classification Report: {'0': {'precision': 0.7552447552447552, 'recall': 0.5373134328358209, 'f1-score': 0.627906976744186, 'support': 201.0}, '1': {'precision': 0.6381322957198443, 'recall': 0.8241206030150754, 'f1-score': 0.7192982456140351, 'support': 199.0}, 'accuracy': 0.68, 'macro avg': {'precision': 0.6966885254822998, 'recall': 0.6807170179254481, 'f1-score': 0.6736026111791106, 'support': 400.0}, 'weighted avg': {'precision': 0.696981306631112, 'recall': 0.68, 'f1-score': 0.6733741330069359, 'support': 400.0}}\n"
          ]
        }
      ],
      "source": [
        "from sklearn.metrics import accuracy_score, classification_report\n",
        "print(\"\\nEvaluating Decision Tree Model on Test Data...\")\n",
        "best_estimator = train_results['best_estimator']\n",
        "y_pred = best_estimator.predict(X_test_tfidf)\n",
        "test_accuracy = accuracy_score(y_test, y_pred)\n",
        "test_results = {\n",
        "    'test_accuracy': test_accuracy,\n",
        "    'classification_report': classification_report(y_test, y_pred, output_dict=True)\n",
        "}\n",
        "\n",
        "print(\"\\n=== Decision Tree Test Results ===\")\n",
        "print(\"Test Accuracy:\", test_results['test_accuracy'])\n",
        "print(\"Classification Report:\", test_results['classification_report'])"
      ]
    },
    {
      "cell_type": "code",
      "execution_count": 31,
      "metadata": {
        "colab": {
          "base_uri": "https://localhost:8080/"
        },
        "id": "SvuKUxugvfiy",
        "outputId": "23c2dc0e-6e86-4e81-f761-ce092edd3c6d"
      },
      "outputs": [
        {
          "output_type": "stream",
          "name": "stdout",
          "text": [
            "\n",
            "Training Random Forest Model...\n",
            "Fitting 5 folds for each of 48 candidates, totalling 240 fits\n",
            "\n",
            "=== Random Forest Training Results ===\n",
            "Best Parameters: {'criterion': 'entropy', 'max_depth': None, 'min_samples_leaf': 1, 'min_samples_split': 5, 'n_estimators': 200}\n",
            "Best CV Accuracy: 0.8231249999999999\n",
            "Training Accuracy: 1.0\n"
          ]
        }
      ],
      "source": [
        "from sklearn.ensemble import RandomForestClassifier\n",
        "from sklearn.model_selection import GridSearchCV\n",
        "from sklearn.metrics import accuracy_score\n",
        "rf_model = RandomForestClassifier(random_state=42)\n",
        "rf_param_grid = {\n",
        "    'n_estimators': [100, 200],\n",
        "    'max_depth': [None, 10, 20],\n",
        "    'min_samples_split': [2, 5],\n",
        "    'min_samples_leaf': [1, 2],\n",
        "    'criterion': ['gini', 'entropy']\n",
        "}\n",
        "print(\"\\nTraining Random Forest Model...\")\n",
        "rf_grid_search = GridSearchCV(\n",
        "    estimator=rf_model,\n",
        "    param_grid=rf_param_grid,\n",
        "    cv=5,\n",
        "    scoring='accuracy',\n",
        "    n_jobs=-1,\n",
        "    verbose=1\n",
        ")\n",
        "rf_grid_search.fit(X_train_tfidf, y_train)\n",
        "train_results = {\n",
        "    'best_params': rf_grid_search.best_params_,\n",
        "    'cv_score': rf_grid_search.best_score_,\n",
        "    'best_estimator': rf_grid_search.best_estimator_\n",
        "}\n",
        "y_train_pred = rf_grid_search.predict(X_train_tfidf)\n",
        "train_accuracy = accuracy_score(y_train, y_train_pred)\n",
        "print(\"\\n=== Random Forest Training Results ===\")\n",
        "print(\"Best Parameters:\", train_results['best_params'])\n",
        "print(\"Best CV Accuracy:\", train_results['cv_score'])\n",
        "print(\"Training Accuracy:\", train_accuracy)"
      ]
    },
    {
      "cell_type": "code",
      "execution_count": 32,
      "metadata": {
        "colab": {
          "base_uri": "https://localhost:8080/"
        },
        "id": "v4c-CZ1oviko",
        "outputId": "24a10100-556b-4670-84e3-b35b69cddc9b"
      },
      "outputs": [
        {
          "output_type": "stream",
          "name": "stdout",
          "text": [
            "\n",
            "Evaluating Random Forest Model on Test Data...\n",
            "\n",
            "=== Random Forest Test Results ===\n",
            "Test Accuracy: 0.845\n",
            "Classification Report: {'0': {'precision': 0.8202764976958525, 'recall': 0.8855721393034826, 'f1-score': 0.8516746411483254, 'support': 201.0}, '1': {'precision': 0.8743169398907104, 'recall': 0.8040201005025126, 'f1-score': 0.837696335078534, 'support': 199.0}, 'accuracy': 0.845, 'macro avg': {'precision': 0.8472967187932814, 'recall': 0.8447961199029976, 'f1-score': 0.8446854881134297, 'support': 400.0}, 'weighted avg': {'precision': 0.8471616176877943, 'recall': 0.845, 'f1-score': 0.8447204338786043, 'support': 400.0}}\n"
          ]
        }
      ],
      "source": [
        "from sklearn.metrics import accuracy_score, classification_report\n",
        "print(\"\\nEvaluating Random Forest Model on Test Data...\")\n",
        "best_estimator = train_results['best_estimator']\n",
        "y_pred = best_estimator.predict(X_test_tfidf)\n",
        "test_accuracy = accuracy_score(y_test, y_pred)\n",
        "test_results = {\n",
        "    'test_accuracy': test_accuracy,\n",
        "    'classification_report': classification_report(y_test, y_pred, output_dict=True)\n",
        "}\n",
        "\n",
        "print(\"\\n=== Random Forest Test Results ===\")\n",
        "print(\"Test Accuracy:\", test_results['test_accuracy'])\n",
        "print(\"Classification Report:\", test_results['classification_report'])"
      ]
    },
    {
      "cell_type": "code",
      "execution_count": 33,
      "metadata": {
        "colab": {
          "base_uri": "https://localhost:8080/",
          "height": 397
        },
        "id": "e76UiaIXeJFI",
        "outputId": "80f05363-9396-46d7-f146-2d401d042050"
      },
      "outputs": [
        {
          "output_type": "display_data",
          "data": {
            "text/plain": [
              "<Figure size 1500x500 with 3 Axes>"
            ],
            "image/png": "[encoded data removed]"
          },
          "metadata": {}
        }
      ],
      "source": [
        "import matplotlib.pyplot as plt\n",
        "import numpy as np\n",
        "\n",
        "models = ['KNN', 'NB', 'RF' , 'LR' , 'DT' , 'SVM']\n",
        "accuracy = [0.72, 0.80, 0.815 , 0.8575, 0.6725 , 0.8775]\n",
        "training_time = [224, 2, 313 , 2 , 178 , 98]  # Training time in seconds\n",
        "test_time = [3 , 2 , 3 , 2 , 2 , 3]  # Test time in seconds\n",
        "\n",
        "\n",
        "fig, (ax1, ax2, ax3) = plt.subplots(1, 3, figsize=(15, 5))\n",
        "ax1.bar(models, accuracy, color='#BE5985')\n",
        "ax1.set_title('Maximum Classification Accuracy')\n",
        "ax1.set_ylabel('Accuracy')\n",
        "ax1.set_ylim(0, 1)\n",
        "ax1.grid(True, axis='y', linestyle='--', alpha=0.7)\n",
        "\n",
        "ax2.bar(models, training_time, color='#EC7FA2')\n",
        "ax2.set_title('Total Training Time')\n",
        "ax2.set_ylabel('Time (seconds)')\n",
        "ax2.grid(True, axis='y', linestyle='--', alpha=0.7)\n",
        "\n",
        "ax3.bar(models, test_time, color='#FFB8E0')\n",
        "ax3.set_title('Total Test Time')\n",
        "ax3.set_ylabel('Time (seconds)')\n",
        "ax3.grid(True, axis='y', linestyle='--', alpha=0.7)\n",
        "\n",
        "plt.tight_layout()\n",
        "\n",
        "plt.show()"
      ]
    },
    {
      "cell_type": "markdown",
      "metadata": {
        "id": "l2_i4gc4rAOM"
      },
      "source": [
        "# Conclusion The Best Model --> ML Model (SVM)\n",
        "## SVM Model: with Kernel => Linear\n",
        "\n",
        "### *   SVC_Linear\n",
        "### *   Best Parameters: {'C': 1}\n",
        "### *   Best CV F1-Score: 0.8949732991901994\n",
        "### *   Train Accuracy: 0.95875\n",
        "### *   Test Accuracy: 0.8775\n",
        "\n"
      ]
    },
    {
      "cell_type": "markdown",
      "metadata": {
        "id": "5PrhgmO5zY4c"
      },
      "source": [
        "## 🧠 Deep Learning Models\n",
        "\n",
        "Before feeding text data into a deep learning model like a CNN, RNN, or GRU, we need to convert the raw text into a numerical format that the model can process. This involves several steps:\n",
        "\n",
        "1. **Tokenization**:  \n",
        "   We use a tokenizer to convert each review (sentence) into a sequence of integers, where each integer represents a word's index in the vocabulary. This step transforms free-form text into a structured format.\n",
        "\n",
        "2. **Padding**:  \n",
        "   Since neural networks require inputs of the same length, we pad all sequences to a fixed maximum length (`max_len`). This ensures uniform input shape regardless of the original sentence length.\n",
        "\n",
        "3. **Vocabulary Limiting**:  \n",
        "   We define a maximum number of words (`max_words`) to keep in the vocabulary. Words outside this limit are treated as out-of-vocabulary (OOV) tokens.\n"
      ]
    },
    {
      "cell_type": "code",
      "execution_count": 34,
      "metadata": {
        "id": "2IUB5CDKBcB-"
      },
      "outputs": [],
      "source": [
        "X= dataf['review']\n",
        "y = dataf['sentiment']\n",
        "X_train, X_test, y_train, y_test = train_test_split(\n",
        "    X, y, test_size=0.2, random_state=42\n",
        ")\n",
        "max_words = 5000\n",
        "max_len = 200\n",
        "X_train = X_train.astype(str).tolist()\n",
        "X_test = X_test.astype(str).tolist()\n",
        "tokenizer = Tokenizer(num_words=max_words, oov_token='<OOV>')\n",
        "tokenizer.fit_on_texts(X_train)\n",
        "X_train_seq = tokenizer.texts_to_sequences(X_train)\n",
        "X_test_seq = tokenizer.texts_to_sequences(X_test)\n",
        "X_train_pad = pad_sequences(X_train_seq, maxlen=max_len)\n",
        "X_test_pad = pad_sequences(X_test_seq, maxlen=max_len)\n",
        "y_train_cnn = np.array(y_train)\n",
        "y_test_cnn = np.array(y_test)"
      ]
    },
    {
      "cell_type": "code",
      "execution_count": 35,
      "metadata": {
        "colab": {
          "base_uri": "https://localhost:8080/"
        },
        "id": "wq17tGi_BlJB",
        "outputId": "f1df69ae-0855-4f01-c259-5e33cc629815"
      },
      "outputs": [
        {
          "output_type": "stream",
          "name": "stderr",
          "text": [
            "/usr/local/lib/python3.11/dist-packages/keras/src/layers/core/embedding.py:90: UserWarning: Argument `input_length` is deprecated. Just remove it.\n",
            "  warnings.warn(\n"
          ]
        }
      ],
      "source": [
        "model = Sequential([\n",
        "    Embedding(input_dim=max_words, output_dim=64, input_length=max_len),\n",
        "    Conv1D(128, 5, activation='relu',kernel_regularizer=l2(0.001)),\n",
        "    GlobalMaxPooling1D(),\n",
        "    Dropout(0.3),\n",
        "    Dense(32, activation='relu', kernel_regularizer=l2(0.001)),\n",
        "    Dropout(0.3),\n",
        "    Dense(1, activation='sigmoid')\n",
        "])"
      ]
    },
    {
      "cell_type": "code",
      "execution_count": 36,
      "metadata": {
        "colab": {
          "base_uri": "https://localhost:8080/"
        },
        "id": "mzfHrY8aB1HK",
        "outputId": "2977ad5b-8298-495e-fd42-c632a5c5664f"
      },
      "outputs": [
        {
          "output_type": "stream",
          "name": "stdout",
          "text": [
            "Epoch 1/10\n",
            "\u001b[1m45/45\u001b[0m \u001b[32m━━━━━━━━━━━━━━━━━━━━\u001b[0m\u001b[37m\u001b[0m \u001b[1m5s\u001b[0m 52ms/step - accuracy: 0.5218 - loss: 0.8143 - val_accuracy: 0.4938 - val_loss: 0.7749\n",
            "Epoch 2/10\n",
            "\u001b[1m45/45\u001b[0m \u001b[32m━━━━━━━━━━━━━━━━━━━━\u001b[0m\u001b[37m\u001b[0m \u001b[1m4s\u001b[0m 41ms/step - accuracy: 0.6109 - loss: 0.7553 - val_accuracy: 0.5063 - val_loss: 0.7427\n",
            "Epoch 3/10\n",
            "\u001b[1m45/45\u001b[0m \u001b[32m━━━━━━━━━━━━━━━━━━━━\u001b[0m\u001b[37m\u001b[0m \u001b[1m2s\u001b[0m 39ms/step - accuracy: 0.6259 - loss: 0.7220 - val_accuracy: 0.6438 - val_loss: 0.7214\n",
            "Epoch 4/10\n",
            "\u001b[1m45/45\u001b[0m \u001b[32m━━━━━━━━━━━━━━━━━━━━\u001b[0m\u001b[37m\u001b[0m \u001b[1m3s\u001b[0m 39ms/step - accuracy: 0.8481 - loss: 0.6700 - val_accuracy: 0.8313 - val_loss: 0.6587\n",
            "Epoch 5/10\n",
            "\u001b[1m45/45\u001b[0m \u001b[32m━━━━━━━━━━━━━━━━━━━━\u001b[0m\u001b[37m\u001b[0m \u001b[1m2s\u001b[0m 39ms/step - accuracy: 0.8822 - loss: 0.5235 - val_accuracy: 0.7937 - val_loss: 0.5167\n",
            "Epoch 6/10\n",
            "\u001b[1m45/45\u001b[0m \u001b[32m━━━━━━━━━━━━━━━━━━━━\u001b[0m\u001b[37m\u001b[0m \u001b[1m3s\u001b[0m 67ms/step - accuracy: 0.9628 - loss: 0.2582 - val_accuracy: 0.7812 - val_loss: 0.5244\n",
            "Epoch 7/10\n",
            "\u001b[1m45/45\u001b[0m \u001b[32m━━━━━━━━━━━━━━━━━━━━\u001b[0m\u001b[37m\u001b[0m \u001b[1m4s\u001b[0m 39ms/step - accuracy: 0.9916 - loss: 0.1507 - val_accuracy: 0.7688 - val_loss: 0.5526\n",
            "Epoch 8/10\n",
            "\u001b[1m45/45\u001b[0m \u001b[32m━━━━━━━━━━━━━━━━━━━━\u001b[0m\u001b[37m\u001b[0m \u001b[1m2s\u001b[0m 39ms/step - accuracy: 0.9992 - loss: 0.1142 - val_accuracy: 0.7875 - val_loss: 0.5664\n",
            "Epoch 9/10\n",
            "\u001b[1m45/45\u001b[0m \u001b[32m━━━━━━━━━━━━━━━━━━━━\u001b[0m\u001b[37m\u001b[0m \u001b[1m3s\u001b[0m 40ms/step - accuracy: 1.0000 - loss: 0.1005 - val_accuracy: 0.8000 - val_loss: 0.5708\n",
            "Epoch 10/10\n",
            "\u001b[1m45/45\u001b[0m \u001b[32m━━━━━━━━━━━━━━━━━━━━\u001b[0m\u001b[37m\u001b[0m \u001b[1m2s\u001b[0m 39ms/step - accuracy: 1.0000 - loss: 0.0923 - val_accuracy: 0.7937 - val_loss: 0.5925\n",
            "\n",
            "Train Accuracy: 0.9794\n",
            "Test Accuracy: 0.7650\n",
            "\u001b[1m13/13\u001b[0m \u001b[32m━━━━━━━━━━━━━━━━━━━━\u001b[0m\u001b[37m\u001b[0m \u001b[1m0s\u001b[0m 25ms/step\n",
            "\n",
            "Classification Report:\n",
            "               precision    recall  f1-score   support\n",
            "\n",
            "           0       0.79      0.73      0.76       201\n",
            "           1       0.75      0.80      0.77       199\n",
            "\n",
            "    accuracy                           0.77       400\n",
            "   macro avg       0.77      0.77      0.76       400\n",
            "weighted avg       0.77      0.77      0.76       400\n",
            "\n"
          ]
        }
      ],
      "source": [
        "model.compile(loss='binary_crossentropy', optimizer='adam', metrics=['accuracy'])\n",
        "history = model.fit(X_train_pad, y_train_cnn, epochs=10, batch_size=32, validation_split=0.1)\n",
        "train_loss, train_acc = model.evaluate(X_train_pad, y_train_cnn, verbose=0)\n",
        "test_loss, test_acc = model.evaluate(X_test_pad, y_test_cnn, verbose=0)\n",
        "print(f\"\\nTrain Accuracy: {train_acc:.4f}\")\n",
        "print(f\"Test Accuracy: {test_acc:.4f}\")\n",
        "y_pred = (model.predict(X_test_pad) > 0.5).astype(\"int32\")\n",
        "print(\"\\nClassification Report:\\n\", classification_report(y_test_cnn, y_pred))"
      ]
    },
    {
      "cell_type": "code",
      "execution_count": 37,
      "metadata": {
        "colab": {
          "base_uri": "https://localhost:8080/",
          "height": 472
        },
        "id": "xmVkhhNIB6Rs",
        "outputId": "e50a7b58-db57-411c-aa3b-b9c67b9fe2ab"
      },
      "outputs": [
        {
          "output_type": "display_data",
          "data": {
            "text/plain": [
              "<Figure size 640x480 with 2 Axes>"
            ],
            "image/png": "[encoded data removed]"
          },
          "metadata": {}
        }
      ],
      "source": [
        "cm = confusion_matrix(y_test_cnn, y_pred)\n",
        "colors = ['#EC7FA2', '#FFB8E0']\n",
        "cmap = LinearSegmentedColormap.from_list('custom_cmap', colors)\n",
        "disp = ConfusionMatrixDisplay(confusion_matrix=cm)\n",
        "disp.plot(cmap=cmap)\n",
        "plt.title(\"Confusion Matrix\")\n",
        "plt.show()"
      ]
    },
    {
      "cell_type": "code",
      "execution_count": 38,
      "metadata": {
        "colab": {
          "base_uri": "https://localhost:8080/",
          "height": 472
        },
        "id": "t1KFGHYbCITL",
        "outputId": "b61de4f5-1363-439b-ea85-c7c7de88d1a6"
      },
      "outputs": [
        {
          "output_type": "display_data",
          "data": {
            "text/plain": [
              "<Figure size 640x480 with 1 Axes>"
            ],
            "image/png": "[encoded data removed]"
          },
          "metadata": {}
        }
      ],
      "source": [
        "plt.plot(history.history['accuracy'], label='Train Accuracy',color='pink')\n",
        "plt.plot(history.history['val_accuracy'], label='Val Accuracy',color='deeppink')\n",
        "plt.title('Training vs Validation Accuracy')\n",
        "plt.xlabel('Epoch')\n",
        "plt.ylabel('Accuracy')\n",
        "plt.legend()\n",
        "plt.grid(True)\n",
        "plt.show()"
      ]
    },
    {
      "cell_type": "code",
      "execution_count": 39,
      "metadata": {
        "colab": {
          "base_uri": "https://localhost:8080/",
          "height": 472
        },
        "id": "69K5SQ6kCPm8",
        "outputId": "30da0b2a-c73a-4778-cc2b-94eadc214f44"
      },
      "outputs": [
        {
          "output_type": "display_data",
          "data": {
            "text/plain": [
              "<Figure size 640x480 with 1 Axes>"
            ],
            "image/png": "[encoded data removed]"
          },
          "metadata": {}
        }
      ],
      "source": [
        "plt.plot(history.history['loss'], label='Train Loss',color='pink')\n",
        "plt.plot(history.history['val_loss'], label='Val Loss',color='deeppink')\n",
        "plt.title('Training vs Validation Loss')\n",
        "plt.xlabel('Epoch')\n",
        "plt.ylabel('Loss')\n",
        "plt.legend()\n",
        "plt.grid(True)\n",
        "plt.show()"
      ]
    },
    {
      "cell_type": "markdown",
      "metadata": {
        "id": "VdCJJWf_CZF8"
      },
      "source": [
        "## 🔁 Gated Recurrent Unit (GRU) for Text Classification\n",
        "\n",
        "GRU is a type of recurrent neural network (RNN) that is effective at capturing sequential dependencies in text. Unlike CNNs, GRUs process input one step at a time, making them suitable for understanding the context and flow of words. This model includes:\n",
        "\n",
        "- An Embedding layer for word representation.\n",
        "- A GRU layer to capture sequential patterns.\n",
        "- Dense layers for final classification.\n",
        "- Dropout and regularization to prevent overfitting."
      ]
    },
    {
      "cell_type": "code",
      "execution_count": 40,
      "metadata": {
        "id": "qFOCVcMpCdY5"
      },
      "outputs": [],
      "source": [
        "model = Sequential()\n",
        "model.add(Embedding(input_dim=max_words, output_dim=64))\n",
        "model.add(GRU(128, return_sequences=False))\n",
        "model.add(Dropout(0.3))\n",
        "model.add(Dense(64, activation='relu'))\n",
        "model.add(Dense(1, activation='sigmoid'))"
      ]
    },
    {
      "cell_type": "code",
      "execution_count": 41,
      "metadata": {
        "colab": {
          "base_uri": "https://localhost:8080/"
        },
        "id": "GTZM4ylgCf19",
        "outputId": "37855942-f7f5-440b-b98f-0e466a7c1eb8"
      },
      "outputs": [
        {
          "output_type": "stream",
          "name": "stdout",
          "text": [
            "Epoch 1/10\n",
            "\u001b[1m45/45\u001b[0m \u001b[32m━━━━━━━━━━━━━━━━━━━━\u001b[0m\u001b[37m\u001b[0m \u001b[1m13s\u001b[0m 218ms/step - accuracy: 0.5227 - loss: 0.6934 - val_accuracy: 0.5063 - val_loss: 0.6915\n",
            "Epoch 2/10\n",
            "\u001b[1m45/45\u001b[0m \u001b[32m━━━━━━━━━━━━━━━━━━━━\u001b[0m\u001b[37m\u001b[0m \u001b[1m8s\u001b[0m 180ms/step - accuracy: 0.6546 - loss: 0.6730 - val_accuracy: 0.5938 - val_loss: 0.6544\n",
            "Epoch 3/10\n",
            "\u001b[1m45/45\u001b[0m \u001b[32m━━━━━━━━━━━━━━━━━━━━\u001b[0m\u001b[37m\u001b[0m \u001b[1m12s\u001b[0m 220ms/step - accuracy: 0.8524 - loss: 0.4456 - val_accuracy: 0.7000 - val_loss: 0.7592\n",
            "Epoch 4/10\n",
            "\u001b[1m45/45\u001b[0m \u001b[32m━━━━━━━━━━━━━━━━━━━━\u001b[0m\u001b[37m\u001b[0m \u001b[1m11s\u001b[0m 235ms/step - accuracy: 0.9419 - loss: 0.1643 - val_accuracy: 0.6812 - val_loss: 0.9329\n",
            "Epoch 5/10\n",
            "\u001b[1m45/45\u001b[0m \u001b[32m━━━━━━━━━━━━━━━━━━━━\u001b[0m\u001b[37m\u001b[0m \u001b[1m19s\u001b[0m 208ms/step - accuracy: 0.9804 - loss: 0.0518 - val_accuracy: 0.6625 - val_loss: 1.2632\n",
            "Epoch 6/10\n",
            "\u001b[1m45/45\u001b[0m \u001b[32m━━━━━━━━━━━━━━━━━━━━\u001b[0m\u001b[37m\u001b[0m \u001b[1m9s\u001b[0m 180ms/step - accuracy: 0.9861 - loss: 0.0348 - val_accuracy: 0.6562 - val_loss: 1.4623\n",
            "Epoch 7/10\n",
            "\u001b[1m45/45\u001b[0m \u001b[32m━━━━━━━━━━━━━━━━━━━━\u001b[0m\u001b[37m\u001b[0m \u001b[1m10s\u001b[0m 182ms/step - accuracy: 0.9962 - loss: 0.0095 - val_accuracy: 0.6500 - val_loss: 1.5828\n",
            "Epoch 8/10\n",
            "\u001b[1m45/45\u001b[0m \u001b[32m━━━━━━━━━━━━━━━━━━━━\u001b[0m\u001b[37m\u001b[0m \u001b[1m11s\u001b[0m 194ms/step - accuracy: 0.9950 - loss: 0.0175 - val_accuracy: 0.6875 - val_loss: 1.6173\n",
            "Epoch 9/10\n",
            "\u001b[1m45/45\u001b[0m \u001b[32m━━━━━━━━━━━━━━━━━━━━\u001b[0m\u001b[37m\u001b[0m \u001b[1m11s\u001b[0m 207ms/step - accuracy: 0.9989 - loss: 0.0048 - val_accuracy: 0.7063 - val_loss: 1.7233\n",
            "Epoch 10/10\n",
            "\u001b[1m45/45\u001b[0m \u001b[32m━━━━━━━━━━━━━━━━━━━━\u001b[0m\u001b[37m\u001b[0m \u001b[1m10s\u001b[0m 206ms/step - accuracy: 0.9996 - loss: 0.0015 - val_accuracy: 0.7063 - val_loss: 1.8120\n",
            "Train Accuracy: 0.9700\n",
            "Test Accuracy: 0.7075\n",
            "\u001b[1m13/13\u001b[0m \u001b[32m━━━━━━━━━━━━━━━━━━━━\u001b[0m\u001b[37m\u001b[0m \u001b[1m1s\u001b[0m 58ms/step\n",
            "\n",
            "Classification Report:\n",
            "               precision    recall  f1-score   support\n",
            "\n",
            "           0       0.71      0.71      0.71       201\n",
            "           1       0.70      0.71      0.71       199\n",
            "\n",
            "    accuracy                           0.71       400\n",
            "   macro avg       0.71      0.71      0.71       400\n",
            "weighted avg       0.71      0.71      0.71       400\n",
            "\n"
          ]
        }
      ],
      "source": [
        "model.compile(loss='binary_crossentropy', optimizer='adam', metrics=['accuracy'])\n",
        "history = model.fit(np.array(X_train_pad), np.array(y_train),\n",
        "                    epochs=10, batch_size=32, validation_split=0.1)\n",
        "train_loss, train_acc = model.evaluate(np.array(X_train_pad), np.array(y_train), verbose=0)\n",
        "test_loss, test_acc = model.evaluate(np.array(X_test_pad), np.array(y_test), verbose=0)\n",
        "print(f\"Train Accuracy: {train_acc:.4f}\")\n",
        "print(f\"Test Accuracy: {test_acc:.4f}\")\n",
        "y_pred = (model.predict(X_test_pad) > 0.5).astype(\"int32\")\n",
        "print(\"\\nClassification Report:\\n\", classification_report(y_test_cnn, y_pred))"
      ]
    },
    {
      "cell_type": "code",
      "execution_count": 42,
      "metadata": {
        "colab": {
          "base_uri": "https://localhost:8080/",
          "height": 472
        },
        "id": "kTdnt5atCk_V",
        "outputId": "f35873f8-5288-48ba-aa10-0f7bdd18be5b"
      },
      "outputs": [
        {
          "output_type": "display_data",
          "data": {
            "text/plain": [
              "<Figure size 640x480 with 2 Axes>"
            ],
            "image/png": "[encoded data removed]"
          },
          "metadata": {}
        }
      ],
      "source": [
        "cm = confusion_matrix(y_test_cnn, y_pred)\n",
        "colors = ['#EC7FA2', '#FFB8E0']\n",
        "cmap = LinearSegmentedColormap.from_list('custom_cmap', colors)\n",
        "disp = ConfusionMatrixDisplay(confusion_matrix=cm)\n",
        "disp.plot(cmap=cmap)\n",
        "plt.title(\"Confusion Matrix\")\n",
        "plt.show()"
      ]
    },
    {
      "cell_type": "code",
      "execution_count": 43,
      "metadata": {
        "id": "U_7MlCh9CtbO",
        "colab": {
          "base_uri": "https://localhost:8080/",
          "height": 472
        },
        "outputId": "00b9a0c0-6e4a-4d61-a372-58cce08316b9"
      },
      "outputs": [
        {
          "output_type": "display_data",
          "data": {
            "text/plain": [
              "<Figure size 640x480 with 1 Axes>"
            ],
            "image/png": "[encoded data removed]"
          },
          "metadata": {}
        }
      ],
      "source": [
        "plt.plot(history.history['accuracy'], label='Train Accuracy',color='pink')\n",
        "plt.plot(history.history['val_accuracy'], label='Val Accuracy',color='deeppink')\n",
        "plt.title('Training vs Validation Accuracy')\n",
        "plt.xlabel('Epoch')\n",
        "plt.ylabel('Accuracy')\n",
        "plt.legend()\n",
        "plt.grid(True)\n",
        "plt.show()"
      ]
    },
    {
      "cell_type": "markdown",
      "metadata": {
        "id": "mtElKBCJC3nj"
      },
      "source": [
        "simple RNN model"
      ]
    },
    {
      "cell_type": "code",
      "execution_count": 44,
      "metadata": {
        "id": "o8uTq9JoC6rL",
        "colab": {
          "base_uri": "https://localhost:8080/",
          "height": 956
        },
        "outputId": "07eb262f-db5f-46de-ff6e-6d3e89cfe952"
      },
      "outputs": [
        {
          "output_type": "stream",
          "name": "stdout",
          "text": [
            "Epoch 1/10\n"
          ]
        },
        {
          "output_type": "stream",
          "name": "stderr",
          "text": [
            "/usr/local/lib/python3.11/dist-packages/keras/src/layers/core/embedding.py:90: UserWarning: Argument `input_length` is deprecated. Just remove it.\n",
            "  warnings.warn(\n"
          ]
        },
        {
          "output_type": "stream",
          "name": "stdout",
          "text": [
            "\u001b[1m45/45\u001b[0m \u001b[32m━━━━━━━━━━━━━━━━━━━━\u001b[0m\u001b[37m\u001b[0m \u001b[1m7s\u001b[0m 83ms/step - accuracy: 0.4991 - loss: 0.6985 - val_accuracy: 0.4563 - val_loss: 0.7056\n",
            "Epoch 2/10\n",
            "\u001b[1m45/45\u001b[0m \u001b[32m━━━━━━━━━━━━━━━━━━━━\u001b[0m\u001b[37m\u001b[0m \u001b[1m3s\u001b[0m 63ms/step - accuracy: 0.5514 - loss: 0.6907 - val_accuracy: 0.5250 - val_loss: 0.6903\n",
            "Epoch 3/10\n",
            "\u001b[1m45/45\u001b[0m \u001b[32m━━━━━━━━━━━━━━━━━━━━\u001b[0m\u001b[37m\u001b[0m \u001b[1m3s\u001b[0m 64ms/step - accuracy: 0.5175 - loss: 0.7053 - val_accuracy: 0.5312 - val_loss: 0.6985\n",
            "Epoch 4/10\n",
            "\u001b[1m45/45\u001b[0m \u001b[32m━━━━━━━━━━━━━━━━━━━━\u001b[0m\u001b[37m\u001b[0m \u001b[1m4s\u001b[0m 79ms/step - accuracy: 0.4921 - loss: 0.7067 - val_accuracy: 0.5188 - val_loss: 0.7066\n",
            "Epoch 5/10\n",
            "\u001b[1m45/45\u001b[0m \u001b[32m━━━━━━━━━━━━━━━━━━━━\u001b[0m\u001b[37m\u001b[0m \u001b[1m3s\u001b[0m 71ms/step - accuracy: 0.5321 - loss: 0.7007 - val_accuracy: 0.5125 - val_loss: 0.6972\n",
            "Epoch 6/10\n",
            "\u001b[1m45/45\u001b[0m \u001b[32m━━━━━━━━━━━━━━━━━━━━\u001b[0m\u001b[37m\u001b[0m \u001b[1m4s\u001b[0m 86ms/step - accuracy: 0.5125 - loss: 0.7042 - val_accuracy: 0.4500 - val_loss: 0.7048\n",
            "Epoch 7/10\n",
            "\u001b[1m45/45\u001b[0m \u001b[32m━━━━━━━━━━━━━━━━━━━━\u001b[0m\u001b[37m\u001b[0m \u001b[1m4s\u001b[0m 65ms/step - accuracy: 0.5439 - loss: 0.6908 - val_accuracy: 0.5188 - val_loss: 0.6964\n",
            "Epoch 8/10\n",
            "\u001b[1m45/45\u001b[0m \u001b[32m━━━━━━━━━━━━━━━━━━━━\u001b[0m\u001b[37m\u001b[0m \u001b[1m4s\u001b[0m 82ms/step - accuracy: 0.4978 - loss: 0.7189 - val_accuracy: 0.5750 - val_loss: 0.6953\n",
            "Epoch 9/10\n",
            "\u001b[1m45/45\u001b[0m \u001b[32m━━━━━━━━━━━━━━━━━━━━\u001b[0m\u001b[37m\u001b[0m \u001b[1m4s\u001b[0m 61ms/step - accuracy: 0.5148 - loss: 0.7149 - val_accuracy: 0.5188 - val_loss: 0.6954\n",
            "Epoch 10/10\n",
            "\u001b[1m45/45\u001b[0m \u001b[32m━━━━━━━━━━━━━━━━━━━━\u001b[0m\u001b[37m\u001b[0m \u001b[1m3s\u001b[0m 62ms/step - accuracy: 0.5363 - loss: 0.7006 - val_accuracy: 0.4875 - val_loss: 0.7066\n",
            "\n",
            "RNN Train Accuracy: 0.4963\n",
            "RNN Test Accuracy: 0.4925\n",
            "\u001b[1m13/13\u001b[0m \u001b[32m━━━━━━━━━━━━━━━━━━━━\u001b[0m\u001b[37m\u001b[0m \u001b[1m1s\u001b[0m 32ms/step\n"
          ]
        },
        {
          "output_type": "display_data",
          "data": {
            "text/plain": [
              "<Figure size 640x480 with 2 Axes>"
            ],
            "image/png": "[encoded data removed]"
          },
          "metadata": {}
        }
      ],
      "source": [
        "from tensorflow.keras.layers import SimpleRNN\n",
        "\n",
        "# Build\n",
        "rnn_model = Sequential([\n",
        "    Embedding(input_dim=max_words, output_dim=64, input_length=max_len),\n",
        "    SimpleRNN(128, return_sequences=False),\n",
        "    Dropout(0.3),\n",
        "    Dense(64, activation='relu'),\n",
        "    Dense(1, activation='sigmoid')\n",
        "])\n",
        "\n",
        "rnn_model.compile(loss='binary_crossentropy', optimizer='adam', metrics=['accuracy'])\n",
        "\n",
        "# Train\n",
        "rnn_history = rnn_model.fit(\n",
        "    np.array(X_train_pad), np.array(y_train),\n",
        "    epochs=10, batch_size=32, validation_split=0.1\n",
        ")\n",
        "\n",
        "# Evaluate\n",
        "train_loss, train_acc = rnn_model.evaluate(np.array(X_train_pad), np.array(y_train), verbose=0)\n",
        "test_loss, test_acc = rnn_model.evaluate(np.array(X_test_pad), np.array(y_test), verbose=0)\n",
        "print(f\"\\nRNN Train Accuracy: {train_acc:.4f}\")\n",
        "print(f\"RNN Test Accuracy: {test_acc:.4f}\")\n",
        "\n",
        "# Confusion matrix\n",
        "\n",
        "y_pred_rnn = (rnn_model.predict(X_test_pad) > 0.5).astype(\"int32\")\n",
        "cm_rnn = confusion_matrix(y_test, y_pred_rnn)\n",
        "disp_rnn = ConfusionMatrixDisplay(confusion_matrix=cm_rnn)\n",
        "disp_rnn.plot(cmap=cmap)\n",
        "plt.title(\"Confusion Matrix - Simple RNN\")\n",
        "plt.show()"
      ]
    },
    {
      "cell_type": "code",
      "execution_count": null,
      "metadata": {
        "id": "uRPyiVy0DC2i"
      },
      "outputs": [],
      "source": [
        "#RNN plots\n",
        "# Accuracy\n",
        "plt.plot(rnn_history.history['accuracy'], label='Train Accuracy',color='pink')\n",
        "plt.plot(rnn_history.history['val_accuracy'], label='Val Accuracy',color='deeppink')\n",
        "plt.title('Simple RNN: Training vs Validation Accuracy')\n",
        "plt.xlabel('Epoch')\n",
        "plt.ylabel('Accuracy')\n",
        "plt.legend()\n",
        "plt.grid(True)\n",
        "plt.show()\n",
        "\n",
        "# Loss\n",
        "plt.plot(rnn_history.history['loss'], label='Train Loss',color='pink')\n",
        "plt.plot(rnn_history.history['val_loss'], label='Val Loss',color='deeppink')\n",
        "plt.title('Simple RNN: Training vs Validation Loss')\n",
        "plt.xlabel('Epoch')\n",
        "plt.ylabel('Loss')\n",
        "plt.legend()\n",
        "plt.grid(True)\n",
        "plt.show()\n"
      ]
    },
    {
      "cell_type": "markdown",
      "metadata": {
        "id": "1xiCbEAoDQqT"
      },
      "source": [
        "LSTM (long  short-term memory) model"
      ]
    },
    {
      "cell_type": "code",
      "execution_count": null,
      "metadata": {
        "id": "kMOVlaMhDX17"
      },
      "outputs": [],
      "source": [
        "from tensorflow.keras.layers import LSTM\n",
        "\n",
        "# Build\n",
        "lstm_model = Sequential([\n",
        "    Embedding(input_dim=max_words, output_dim=64, input_length=max_len),\n",
        "    LSTM(128, return_sequences=False),\n",
        "    Dropout(0.3),\n",
        "    Dense(64, activation='relu'),\n",
        "    Dense(1, activation='sigmoid')\n",
        "])\n",
        "\n",
        "lstm_model.compile(loss='binary_crossentropy', optimizer='adam', metrics=['accuracy'])\n",
        "\n",
        "# Train\n",
        "lstm_history = lstm_model.fit(\n",
        "    np.array(X_train_pad), np.array(y_train),\n",
        "    epochs=10, batch_size=32, validation_split=0.1\n",
        ")\n",
        "\n",
        "# Evaluate\n",
        "train_loss, train_acc = lstm_model.evaluate(np.array(X_train_pad), np.array(y_train), verbose=0)\n",
        "test_loss, test_acc = lstm_model.evaluate(np.array(X_test_pad), np.array(y_test), verbose=0)\n",
        "print(f\"\\nLSTM Train Accuracy: {train_acc:.4f}\")\n",
        "print(f\"LSTM Test Accuracy: {test_acc:.4f}\")\n",
        "\n",
        "# Confusion matrix\n",
        "\n",
        "y_pred_lstm = (lstm_model.predict(X_test_pad) > 0.5).astype(\"int32\")\n",
        "cm_lstm = confusion_matrix(y_test, y_pred_lstm)\n",
        "disp_lstm = ConfusionMatrixDisplay(confusion_matrix=cm_lstm)\n",
        "disp_lstm.plot(cmap=cmap)\n",
        "plt.title(\"Confusion Matrix - LSTM\")\n",
        "plt.show()"
      ]
    },
    {
      "cell_type": "code",
      "execution_count": 47,
      "metadata": {
        "id": "kGWBO6X-DeIt",
        "colab": {
          "base_uri": "https://localhost:8080/",
          "height": 927
        },
        "outputId": "ab562d17-6b06-427a-abbc-6fe62a07c54c"
      },
      "outputs": [
        {
          "data": {
            "image/png": "[encoded data removed]",
            "text/plain": [
              "<Figure size 640x480 with 1 Axes>"
            ]
          },
          "metadata": {},
          "output_type": "display_data"
        },
        {
          "data": {
            "image/png": "[encoded data removed]",
            "text/plain": [
              "<Figure size 640x480 with 1 Axes>"
            ]
          },
          "metadata": {},
          "output_type": "display_data"
        }
      ],
      "source": [
        "#plot\n",
        "\n",
        "# Accuracy\n",
        "plt.plot(lstm_history.history['accuracy'], label='Train Accuracy',color='pink')\n",
        "plt.plot(lstm_history.history['val_accuracy'], label='Val Accuracy',color='deeppink')\n",
        "plt.title('LSTM: Training vs Validation Accuracy')\n",
        "plt.xlabel('Epoch')\n",
        "plt.ylabel('Accuracy')\n",
        "plt.legend()\n",
        "plt.grid(True)\n",
        "plt.show()\n",
        "\n",
        "# Loss\n",
        "plt.plot(lstm_history.history['loss'], label='Train Loss',color='pink')\n",
        "plt.plot(lstm_history.history['val_loss'], label='Val Loss',color='deeppink')\n",
        "plt.title('LSTM: Training vs Validation Loss')\n",
        "plt.xlabel('Epoch')\n",
        "plt.ylabel('Loss')\n",
        "plt.legend()\n",
        "plt.grid(True)\n",
        "plt.show()"
      ]
    },
    {
      "cell_type": "markdown",
      "metadata": {
        "id": "aKrd7XZPDsUi"
      },
      "source": [
        "## 🧠 Conclusion\n",
        "\n",
        "After training and evaluating multiple deep learning models, including CNN and GRU, and visualizing their performance through accuracy/loss graphs and confusion matrices, it became evident that the models exhibited signs of overfitting. Despite using regularization, dropout, and even augmentation, the training performance was much higher than the test performance—indicating that the models were likely too complex for the nature of the problem and dataset.\n",
        "\n",
        "A key takeaway is the difference in **preprocessing needs** between traditional machine learning models and deep learning models:\n",
        "\n",
        "- **Traditional models** (e.g., Logistic Regression, Random Forest) work well with techniques like TF-IDF or Bag-of-Words and do not require sequence padding or embeddings.\n",
        "- **Deep learning models**, on the other hand, require tokenization, integer encoding, padding to uniform length, and often benefit from pretrained word embeddings like GloVe.\n",
        "\n",
        "In this case, traditional models not only required simpler preprocessing but also outperformed deep models in terms of generalization, proving more suitable for this specific text classification task.\n"
      ]
    }
  ],
  "metadata": {
    "colab": {
      "provenance": []
    },
    "kernelspec": {
      "display_name": "Python 3",
      "name": "python3"
    },
    "language_info": {
      "name": "python"
    }
  },
  "nbformat": 4,
  "nbformat_minor": 0
}